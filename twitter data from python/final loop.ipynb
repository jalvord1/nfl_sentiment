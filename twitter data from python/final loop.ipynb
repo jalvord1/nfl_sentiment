{
 "cells": [
  {
   "cell_type": "code",
   "execution_count": 1,
   "metadata": {},
   "outputs": [],
   "source": [
    "from searchtweets import ResultStream, gen_rule_payload, load_credentials, collect_results\n",
    "import csv\n",
    "import pandas\n",
    "import pandas as pd\n",
    "import numpy as np\n",
    "from IPython.display import display\n",
    "import seaborn as sns\n",
    "import matplotlib.pyplot as plt\n",
    "from textblob import TextBlob \n",
    "%matplotlib inline\n",
    "import re\n",
    "import time\n",
    "import math"
   ]
  },
  {
   "cell_type": "code",
   "execution_count": 2,
   "metadata": {},
   "outputs": [],
   "source": [
    "#setting up credentials"
   ]
  },
  {
   "cell_type": "code",
   "execution_count": 10,
   "metadata": {},
   "outputs": [
    {
     "name": "stderr",
     "output_type": "stream",
     "text": [
      "Grabbing bearer token from OAUTH\n"
     ]
    }
   ],
   "source": [
    "premium_search_args = load_credentials(\"~/.twitter_keys.yaml\",\n",
    "                                          yaml_key=\"search_tweets_api\",\n",
    "                                          env_overwrite=False)"
   ]
  },
  {
   "cell_type": "code",
   "execution_count": null,
   "metadata": {},
   "outputs": [],
   "source": []
  },
  {
   "cell_type": "code",
   "execution_count": null,
   "metadata": {},
   "outputs": [],
   "source": []
  },
  {
   "cell_type": "code",
   "execution_count": 5,
   "metadata": {},
   "outputs": [],
   "source": [
    "#loading data"
   ]
  },
  {
   "cell_type": "code",
   "execution_count": 4,
   "metadata": {},
   "outputs": [],
   "source": [
    "data = pandas.read_csv(\"~/Documents/nfl sentiment/final_data/final_subset.csv\")"
   ]
  },
  {
   "cell_type": "code",
   "execution_count": 5,
   "metadata": {},
   "outputs": [],
   "source": [
    "#looking at data"
   ]
  },
  {
   "cell_type": "code",
   "execution_count": 6,
   "metadata": {},
   "outputs": [
    {
     "data": {
      "text/html": [
       "<div>\n",
       "<style scoped>\n",
       "    .dataframe tbody tr th:only-of-type {\n",
       "        vertical-align: middle;\n",
       "    }\n",
       "\n",
       "    .dataframe tbody tr th {\n",
       "        vertical-align: top;\n",
       "    }\n",
       "\n",
       "    .dataframe thead th {\n",
       "        text-align: right;\n",
       "    }\n",
       "</style>\n",
       "<table border=\"1\" class=\"dataframe\">\n",
       "  <thead>\n",
       "    <tr style=\"text-align: right;\">\n",
       "      <th></th>\n",
       "      <th>Name</th>\n",
       "      <th>Twitter_handle</th>\n",
       "      <th>Team</th>\n",
       "      <th>Race</th>\n",
       "      <th>T1_start</th>\n",
       "      <th>T1_end</th>\n",
       "      <th>T2_start</th>\n",
       "      <th>T2_end</th>\n",
       "      <th>T3_start</th>\n",
       "      <th>T3_end</th>\n",
       "      <th>T4_start</th>\n",
       "      <th>T4_end</th>\n",
       "      <th>T5_start</th>\n",
       "      <th>T5_end</th>\n",
       "      <th>full_twitter</th>\n",
       "    </tr>\n",
       "  </thead>\n",
       "  <tbody>\n",
       "    <tr>\n",
       "      <th>0</th>\n",
       "      <td>Russell Wilson</td>\n",
       "      <td>@DangeRussWilson'</td>\n",
       "      <td>Seattle Seahawks</td>\n",
       "      <td>B</td>\n",
       "      <td>2017-09-10 21:25'</td>\n",
       "      <td>2017-09-11 01:25'</td>\n",
       "      <td>2017-09-17 21:25'</td>\n",
       "      <td>2017-09-18 01:25'</td>\n",
       "      <td>2017-09-24 21:05'</td>\n",
       "      <td>2017-09-25 01:05'</td>\n",
       "      <td>2017-10-02 01:30'</td>\n",
       "      <td>2017-10-02 05:30'</td>\n",
       "      <td>2017-10-08 21:05'</td>\n",
       "      <td>2017-10-09 01:05'</td>\n",
       "      <td>Russell Wilson OR @DangeRussWilson'</td>\n",
       "    </tr>\n",
       "    <tr>\n",
       "      <th>1</th>\n",
       "      <td>Doug Baldwin</td>\n",
       "      <td>@DougBaldwinJr'</td>\n",
       "      <td>Seattle Seahawks</td>\n",
       "      <td>B</td>\n",
       "      <td>2017-09-10 21:25'</td>\n",
       "      <td>2017-09-11 01:25'</td>\n",
       "      <td>2017-09-17 21:25'</td>\n",
       "      <td>2017-09-18 01:25'</td>\n",
       "      <td>2017-09-24 21:05'</td>\n",
       "      <td>2017-09-25 01:05'</td>\n",
       "      <td>2017-10-02 01:30'</td>\n",
       "      <td>2017-10-02 05:30'</td>\n",
       "      <td>2017-10-08 21:05'</td>\n",
       "      <td>2017-10-09 01:05'</td>\n",
       "      <td>Doug Baldwin OR @DougBaldwinJr'</td>\n",
       "    </tr>\n",
       "    <tr>\n",
       "      <th>2</th>\n",
       "      <td>Jimmy Graham</td>\n",
       "      <td>@TheJimmyGraham'</td>\n",
       "      <td>Seattle Seahawks</td>\n",
       "      <td>W</td>\n",
       "      <td>2017-09-10 21:25'</td>\n",
       "      <td>2017-09-11 01:25'</td>\n",
       "      <td>2017-09-17 21:25'</td>\n",
       "      <td>2017-09-18 01:25'</td>\n",
       "      <td>2017-09-24 21:05'</td>\n",
       "      <td>2017-09-25 01:05'</td>\n",
       "      <td>2017-10-02 01:30'</td>\n",
       "      <td>2017-10-02 05:30'</td>\n",
       "      <td>2017-10-08 21:05'</td>\n",
       "      <td>2017-10-09 01:05'</td>\n",
       "      <td>Jimmy Graham OR @TheJimmyGraham'</td>\n",
       "    </tr>\n",
       "    <tr>\n",
       "      <th>3</th>\n",
       "      <td>Cam Newton</td>\n",
       "      <td>@CameronNewton'</td>\n",
       "      <td>Carolina Panthers</td>\n",
       "      <td>B</td>\n",
       "      <td>2017-09-17 18:00'</td>\n",
       "      <td>2017-09-17 22:00'</td>\n",
       "      <td>2017-09-24 18:00'</td>\n",
       "      <td>2017-09-24 22:00'</td>\n",
       "      <td>2017-10-01 18:00'</td>\n",
       "      <td>2017-10-01 22:00'</td>\n",
       "      <td>2017-10-08 18:00'</td>\n",
       "      <td>2017-10-08 22:00'</td>\n",
       "      <td>2017-10-13 01:25'</td>\n",
       "      <td>2017-10-13 05:25'</td>\n",
       "      <td>Cam Newton OR @CameronNewton'</td>\n",
       "    </tr>\n",
       "    <tr>\n",
       "      <th>4</th>\n",
       "      <td>Devin Funchess</td>\n",
       "      <td>@D_FUNCH'</td>\n",
       "      <td>Carolina Panthers</td>\n",
       "      <td>B</td>\n",
       "      <td>2017-09-17 18:00'</td>\n",
       "      <td>2017-09-17 22:00'</td>\n",
       "      <td>2017-09-24 18:00'</td>\n",
       "      <td>2017-09-24 22:00'</td>\n",
       "      <td>2017-10-01 18:00'</td>\n",
       "      <td>2017-10-01 22:00'</td>\n",
       "      <td>2017-10-08 18:00'</td>\n",
       "      <td>2017-10-08 22:00'</td>\n",
       "      <td>2017-10-13 01:25'</td>\n",
       "      <td>2017-10-13 05:25'</td>\n",
       "      <td>Devin Funchess OR @D_FUNCH'</td>\n",
       "    </tr>\n",
       "  </tbody>\n",
       "</table>\n",
       "</div>"
      ],
      "text/plain": [
       "             Name     Twitter_handle               Team Race  \\\n",
       "0  Russell Wilson  @DangeRussWilson'   Seattle Seahawks    B   \n",
       "1    Doug Baldwin    @DougBaldwinJr'   Seattle Seahawks    B   \n",
       "2    Jimmy Graham   @TheJimmyGraham'   Seattle Seahawks    W   \n",
       "3      Cam Newton    @CameronNewton'  Carolina Panthers    B   \n",
       "4  Devin Funchess          @D_FUNCH'  Carolina Panthers    B   \n",
       "\n",
       "            T1_start             T1_end           T2_start             T2_end  \\\n",
       "0  2017-09-10 21:25'  2017-09-11 01:25'  2017-09-17 21:25'  2017-09-18 01:25'   \n",
       "1  2017-09-10 21:25'  2017-09-11 01:25'  2017-09-17 21:25'  2017-09-18 01:25'   \n",
       "2  2017-09-10 21:25'  2017-09-11 01:25'  2017-09-17 21:25'  2017-09-18 01:25'   \n",
       "3  2017-09-17 18:00'  2017-09-17 22:00'  2017-09-24 18:00'  2017-09-24 22:00'   \n",
       "4  2017-09-17 18:00'  2017-09-17 22:00'  2017-09-24 18:00'  2017-09-24 22:00'   \n",
       "\n",
       "            T3_start             T3_end           T4_start             T4_end  \\\n",
       "0  2017-09-24 21:05'  2017-09-25 01:05'  2017-10-02 01:30'  2017-10-02 05:30'   \n",
       "1  2017-09-24 21:05'  2017-09-25 01:05'  2017-10-02 01:30'  2017-10-02 05:30'   \n",
       "2  2017-09-24 21:05'  2017-09-25 01:05'  2017-10-02 01:30'  2017-10-02 05:30'   \n",
       "3  2017-10-01 18:00'  2017-10-01 22:00'  2017-10-08 18:00'  2017-10-08 22:00'   \n",
       "4  2017-10-01 18:00'  2017-10-01 22:00'  2017-10-08 18:00'  2017-10-08 22:00'   \n",
       "\n",
       "            T5_start             T5_end                         full_twitter  \n",
       "0  2017-10-08 21:05'  2017-10-09 01:05'  Russell Wilson OR @DangeRussWilson'  \n",
       "1  2017-10-08 21:05'  2017-10-09 01:05'      Doug Baldwin OR @DougBaldwinJr'  \n",
       "2  2017-10-08 21:05'  2017-10-09 01:05'     Jimmy Graham OR @TheJimmyGraham'  \n",
       "3  2017-10-13 01:25'  2017-10-13 05:25'        Cam Newton OR @CameronNewton'  \n",
       "4  2017-10-13 01:25'  2017-10-13 05:25'          Devin Funchess OR @D_FUNCH'  "
      ]
     },
     "execution_count": 6,
     "metadata": {},
     "output_type": "execute_result"
    }
   ],
   "source": [
    "data.head()"
   ]
  },
  {
   "cell_type": "code",
   "execution_count": null,
   "metadata": {},
   "outputs": [],
   "source": []
  },
  {
   "cell_type": "code",
   "execution_count": 11,
   "metadata": {},
   "outputs": [],
   "source": [
    "rule = gen_rule_payload('Russell Wilson OR @DangeRussWilson' + \"-is:retweet\",\n",
    "                                    from_date = '2017-09-17 18:00',\n",
    "                                    to_date = '2017-09-17 22:00',\n",
    "                                    results_per_call = 500)"
   ]
  },
  {
   "cell_type": "code",
   "execution_count": 12,
   "metadata": {},
   "outputs": [
    {
     "name": "stdout",
     "output_type": "stream",
     "text": [
      "ResultStream: \n",
      "\t{\n",
      "    \"username\": null,\n",
      "    \"endpoint\": \"https://api.twitter.com/1.1/tweets/search/fullarchive/production.json\",\n",
      "    \"rule_payload\": {\n",
      "        \"query\": \"Russell Wilson OR @DangeRussWilson-is:retweet\",\n",
      "        \"maxResults\": 500,\n",
      "        \"toDate\": \"201709172200\",\n",
      "        \"fromDate\": \"201709171800\"\n",
      "    },\n",
      "    \"tweetify\": true,\n",
      "    \"max_results\": 500\n",
      "}\n"
     ]
    }
   ],
   "source": [
    "rs = ResultStream(rule_payload=rule,\n",
    "                  max_results=500,\n",
    "                  max_pages=4,\n",
    "                  **premium_search_args)\n",
    "\n",
    "print(rs)"
   ]
  },
  {
   "cell_type": "code",
   "execution_count": null,
   "metadata": {},
   "outputs": [],
   "source": []
  },
  {
   "cell_type": "code",
   "execution_count": 9,
   "metadata": {},
   "outputs": [],
   "source": [
    "#creating function to filter by team"
   ]
  },
  {
   "cell_type": "code",
   "execution_count": 7,
   "metadata": {},
   "outputs": [],
   "source": [
    "def get_data(teams):\n",
    "    data_1 = data[data.Team.isin(teams)]\n",
    "    \n",
    "    return data_1"
   ]
  },
  {
   "cell_type": "code",
   "execution_count": null,
   "metadata": {},
   "outputs": [],
   "source": []
  },
  {
   "cell_type": "code",
   "execution_count": 11,
   "metadata": {},
   "outputs": [],
   "source": [
    "#creating function to get tweets for those teams"
   ]
  },
  {
   "cell_type": "code",
   "execution_count": 27,
   "metadata": {},
   "outputs": [],
   "source": [
    "def get_tweets(data, start, end):\n",
    "    \n",
    "    #getting the twitter handles\n",
    "    twitter = data.full_twitter.tolist()\n",
    "\n",
    "    newtwitter = []\n",
    "\n",
    "    for i in range(len(twitter)):\n",
    "        a = twitter[i].replace(\"'\", \"\")\n",
    "    \n",
    "        newtwitter.append(a)\n",
    "    \n",
    "    print(newtwitter)\n",
    "    \n",
    "    \n",
    "    \n",
    "    #getting start date\n",
    "    \n",
    "    start = data[start]\n",
    "    \n",
    "    start = start.tolist()\n",
    "\n",
    "    start = start[1].replace(\"'\", \"\")\n",
    "    \n",
    "    print(start)\n",
    "    \n",
    "    #getting end date\n",
    "    \n",
    "    end = data[end]\n",
    "    \n",
    "    end = end.tolist()\n",
    "\n",
    "    end = end[1].replace(\"'\", \"\")\n",
    "    \n",
    "    print(end)\n",
    "    \n",
    "    \n",
    "    \n",
    "    #running loop for tweets\n",
    "    \n",
    "    all_tweets = []\n",
    "\n",
    "    #some_tweets = []\n",
    "\n",
    "    #for i in range(4):\n",
    "\n",
    "    for handle in newtwitter:\n",
    "\n",
    "        rule = gen_rule_payload(handle + \" -is:retweet\",\n",
    "                                from_date = start,\n",
    "                                to_date = end,\n",
    "                                results_per_call = 500)\n",
    "            \n",
    "        rs = ResultStream(rule_payload=rule,\n",
    "                          max_results=2000,\n",
    "                          max_pages=4,\n",
    "                          **premium_search_args)\n",
    "\n",
    "        tweets2 = list(rs.stream())\n",
    "\n",
    "        [print(tweet.all_text) for tweet in tweets2[0:10]];\n",
    "        \n",
    "        all_tweets.extend(tweets2)\n",
    "        \n",
    "        time.sleep(10)\n",
    "        \n",
    "    #all_tweets.extend(some_tweets)\n",
    "        \n",
    "        \n",
    "        \n",
    "    #creating df    \n",
    "    \n",
    "    \n",
    "    \n",
    "    # We create a pandas dataframe as follows:\n",
    "    data_tweets = pd.DataFrame(data=[tweet.text for tweet in all_tweets], columns=['Tweets'])\n",
    "    \n",
    "    #adding more columns\n",
    "    data_tweets['len']  = np.array([len(tweet.text) for tweet in all_tweets])\n",
    "    data_tweets['ID']   = np.array([tweet.id for tweet in all_tweets])\n",
    "    data_tweets['Date'] = np.array([tweet.created_at_datetime for tweet in all_tweets])\n",
    "    data_tweets['Likes']  = np.array([tweet.favorite_count for tweet in all_tweets])\n",
    "    data_tweets['RTs']    = np.array([tweet.retweet_count for tweet in all_tweets])\n",
    "    data_tweets['Quoted'] = np.array([tweet.quoted_tweet for tweet in all_tweets])\n",
    "    data_tweets['Q_or_RT'] = np.array([tweet.quote_or_rt_text for tweet in all_tweets])\n",
    "    data_tweets['User_ent_text'] = np.array([tweet.user_entered_text for tweet in all_tweets])\n",
    "    data_tweets['retweeted_tweet'] = np.array([tweet.retweeted_tweet for tweet in all_tweets])\n",
    "    data_tweets['user_mentions'] = np.array([tweet.user_mentions for tweet in all_tweets])\n",
    "    data_tweets['profile_location'] = np.array([tweet.profile_location for tweet in all_tweets])\n",
    "    data_tweets['in_reply_to_screen_name'] = np.array([tweet.in_reply_to_screen_name for tweet in all_tweets])\n",
    "    data_tweets['created_at_string'] = np.array([tweet.created_at_string for tweet in all_tweets])\n",
    "    data_tweets['tweet_type'] = np.array([tweet.tweet_type for tweet in all_tweets])\n",
    "    data_tweets['retweeted_tweet'] = np.array([tweet.retweeted_tweet for tweet in all_tweets])\n",
    "    data_tweets['all_text'] = np.array([tweet.all_text for tweet in all_tweets])\n",
    "    \n",
    "    \n",
    "    return data_tweets"
   ]
  },
  {
   "cell_type": "code",
   "execution_count": 36,
   "metadata": {},
   "outputs": [],
   "source": [
    "def get_data(names):\n",
    "    data_1 = data[data.Name.isin(names)]\n",
    "    \n",
    "    return data_1"
   ]
  },
  {
   "cell_type": "code",
   "execution_count": 45,
   "metadata": {},
   "outputs": [],
   "source": [
    "def get_tweets(data, start, end):\n",
    "    \n",
    "    #getting the twitter handles\n",
    "    twitter = data.Name.tolist()\n",
    "\n",
    "    newtwitter = []\n",
    "\n",
    "    for i in range(len(twitter)):\n",
    "        a = twitter[i].replace(\"'\", \"\")\n",
    "    \n",
    "        newtwitter.append(a)\n",
    "    \n",
    "    print(newtwitter)\n",
    "    \n",
    "    \n",
    "    \n",
    "    #getting start date\n",
    "    \n",
    "    start = data[start]\n",
    "    \n",
    "    start = start.tolist()\n",
    "\n",
    "    start = start[0].replace(\"'\", \"\")\n",
    "    \n",
    "    print(start)\n",
    "    \n",
    "    #getting end date\n",
    "    \n",
    "    end = data[end]\n",
    "    \n",
    "    end = end.tolist()\n",
    "\n",
    "    end = end[0].replace(\"'\", \"\")\n",
    "    \n",
    "    print(end)\n",
    "    \n",
    "    \n",
    "    \n",
    "    #running loop for tweets\n",
    "    \n",
    "    all_tweets = []\n",
    "\n",
    "    #some_tweets = []\n",
    "\n",
    "    #for i in range(4):\n",
    "\n",
    "    for handle in newtwitter:\n",
    "\n",
    "        rule = gen_rule_payload(handle + \" -is:retweet -is:reply\",\n",
    "                                from_date = start,\n",
    "                                to_date = end,\n",
    "                                results_per_call = 100)\n",
    "            \n",
    "        rs = ResultStream(rule_payload=rule,\n",
    "                          max_results=100,\n",
    "                          max_pages=1,\n",
    "                          **premium_search_args)\n",
    "\n",
    "        tweets2 = list(rs.stream())\n",
    "\n",
    "        [print(tweet.all_text) for tweet in tweets2[0:10]];\n",
    "        \n",
    "        all_tweets.extend(tweets2)\n",
    "        \n",
    "        time.sleep(10)\n",
    "        \n",
    "    #all_tweets.extend(some_tweets)\n",
    "        \n",
    "        \n",
    "        \n",
    "    #creating df    \n",
    "    \n",
    "    \n",
    "    \n",
    "    # We create a pandas dataframe as follows:\n",
    "    data_tweets = pd.DataFrame(data=[tweet.text for tweet in all_tweets], columns=['Tweets'])\n",
    "    \n",
    "    #adding more columns\n",
    "    data_tweets['len']  = np.array([len(tweet.text) for tweet in all_tweets])\n",
    "    data_tweets['ID']   = np.array([tweet.id for tweet in all_tweets])\n",
    "    data_tweets['Date'] = np.array([tweet.created_at_datetime for tweet in all_tweets])\n",
    "    data_tweets['Likes']  = np.array([tweet.favorite_count for tweet in all_tweets])\n",
    "    data_tweets['RTs']    = np.array([tweet.retweet_count for tweet in all_tweets])\n",
    "    data_tweets['Quoted'] = np.array([tweet.quoted_tweet for tweet in all_tweets])\n",
    "    data_tweets['Q_or_RT'] = np.array([tweet.quote_or_rt_text for tweet in all_tweets])\n",
    "    data_tweets['User_ent_text'] = np.array([tweet.user_entered_text for tweet in all_tweets])\n",
    "    data_tweets['retweeted_tweet'] = np.array([tweet.retweeted_tweet for tweet in all_tweets])\n",
    "    data_tweets['user_mentions'] = np.array([tweet.user_mentions for tweet in all_tweets])\n",
    "    data_tweets['profile_location'] = np.array([tweet.profile_location for tweet in all_tweets])\n",
    "    data_tweets['in_reply_to_screen_name'] = np.array([tweet.in_reply_to_screen_name for tweet in all_tweets])\n",
    "    data_tweets['created_at_string'] = np.array([tweet.created_at_string for tweet in all_tweets])\n",
    "    data_tweets['tweet_type'] = np.array([tweet.tweet_type for tweet in all_tweets])\n",
    "    data_tweets['retweeted_tweet'] = np.array([tweet.retweeted_tweet for tweet in all_tweets])\n",
    "    data_tweets['all_text'] = np.array([tweet.all_text for tweet in all_tweets])\n",
    "    \n",
    "    \n",
    "    return data_tweets"
   ]
  },
  {
   "cell_type": "code",
   "execution_count": null,
   "metadata": {},
   "outputs": [],
   "source": []
  },
  {
   "cell_type": "code",
   "execution_count": 46,
   "metadata": {},
   "outputs": [
    {
     "data": {
      "text/html": [
       "<div>\n",
       "<style scoped>\n",
       "    .dataframe tbody tr th:only-of-type {\n",
       "        vertical-align: middle;\n",
       "    }\n",
       "\n",
       "    .dataframe tbody tr th {\n",
       "        vertical-align: top;\n",
       "    }\n",
       "\n",
       "    .dataframe thead th {\n",
       "        text-align: right;\n",
       "    }\n",
       "</style>\n",
       "<table border=\"1\" class=\"dataframe\">\n",
       "  <thead>\n",
       "    <tr style=\"text-align: right;\">\n",
       "      <th></th>\n",
       "      <th>Name</th>\n",
       "      <th>Twitter_handle</th>\n",
       "      <th>Team</th>\n",
       "      <th>Race</th>\n",
       "      <th>T1_start</th>\n",
       "      <th>T1_end</th>\n",
       "      <th>T2_start</th>\n",
       "      <th>T2_end</th>\n",
       "      <th>T3_start</th>\n",
       "      <th>T3_end</th>\n",
       "      <th>T4_start</th>\n",
       "      <th>T4_end</th>\n",
       "      <th>T5_start</th>\n",
       "      <th>T5_end</th>\n",
       "      <th>full_twitter</th>\n",
       "    </tr>\n",
       "  </thead>\n",
       "  <tbody>\n",
       "    <tr>\n",
       "      <th>6</th>\n",
       "      <td>Dak Prescott</td>\n",
       "      <td>@dak'</td>\n",
       "      <td>Dallas Cowboys</td>\n",
       "      <td>B</td>\n",
       "      <td>2017-09-11 01:30'</td>\n",
       "      <td>2017-09-11 05:30'</td>\n",
       "      <td>2017-09-17 21:25'</td>\n",
       "      <td>2017-09-18 01:25'</td>\n",
       "      <td>2017-09-26 01:30'</td>\n",
       "      <td>2017-09-26 05:30'</td>\n",
       "      <td>2017-10-01 18:00'</td>\n",
       "      <td>2017-10-01 22:00'</td>\n",
       "      <td>2017-10-08 21:25'</td>\n",
       "      <td>2017-10-09 01:25'</td>\n",
       "      <td>Dak Prescott OR @dak'</td>\n",
       "    </tr>\n",
       "  </tbody>\n",
       "</table>\n",
       "</div>"
      ],
      "text/plain": [
       "           Name Twitter_handle            Team Race           T1_start  \\\n",
       "6  Dak Prescott          @dak'  Dallas Cowboys    B  2017-09-11 01:30'   \n",
       "\n",
       "              T1_end           T2_start             T2_end           T3_start  \\\n",
       "6  2017-09-11 05:30'  2017-09-17 21:25'  2017-09-18 01:25'  2017-09-26 01:30'   \n",
       "\n",
       "              T3_end           T4_start             T4_end           T5_start  \\\n",
       "6  2017-09-26 05:30'  2017-10-01 18:00'  2017-10-01 22:00'  2017-10-08 21:25'   \n",
       "\n",
       "              T5_end           full_twitter  \n",
       "6  2017-10-09 01:25'  Dak Prescott OR @dak'  "
      ]
     },
     "execution_count": 46,
     "metadata": {},
     "output_type": "execute_result"
    }
   ],
   "source": [
    "names = [\"Dak Prescott\"]\n",
    "data_try = get_data(names)\n",
    "\n",
    "data_try"
   ]
  },
  {
   "cell_type": "code",
   "execution_count": 47,
   "metadata": {},
   "outputs": [
    {
     "name": "stdout",
     "output_type": "stream",
     "text": [
      "['Dak Prescott']\n",
      "2017-09-11 01:30\n",
      "2017-09-11 05:30\n",
      "Dak Prescott's Precious Mix of Smarts and Skills on Full Display in Cowboy... #Cowboys  https://t.co/9TpBqHHMjz https://t.co/TLmlC3P6qT\n",
      "[Bleacher Report] - Dak Prescott's Precious Mix of Smarts and Skills on Full Display in Cowboys Win https://t.co/n4rpnbVFSE\n",
      "Ezekiel Elliott y Dak Prescott son los Colosos de la Semana 1: Ezekiel Elliott y Dak Prescott son los Colosos de la… https://t.co/iwOqD5lm5e https://t.co/UcdhbUis2M\n",
      "Dak Prescott solves Giants' D, has perfect start to gigantic Season 2 https://t.co/n2Fi2JiRUN\n",
      "How Dak Prescott has gone from being confused by Giants' defense to throwing all over them https://t.co/vyZpGLz64p via @sportsdaydfw\n",
      "Giants vs. Cowboys score, highlights, stats: Dak Prescott, Dallas D dominate New York https://t.co/eDpni7dmfM\n",
      "Dak Prescott solves Giants' D, has perfect start to gigantic Season 2 https://t.co/0zIvQJPukf https://t.co/ZRayrdGlP4\n",
      "Giants vs. Cowboys score, highlights, stats: Dak Prescott, Dallas D dominate New York - https://t.co/Zvg9XwRaU0 https://t.co/Mus7Kudxz3\n",
      "Dak Prescott highlights | Week 1 - https://t.co/DnlKjkuKqp #DallasCowboys\n",
      "#NFLxESPN 🏈\n",
      "\n",
      "'Zeke' y Prescott, los COLOSOS de la semana 1️⃣.🙌💪\n",
      "\n",
      "#Chécalo⬇️\n",
      "https://t.co/AFxL13VrqM https://t.co/JhToH60uNq\n"
     ]
    }
   ],
   "source": [
    "data_try_tweets = get_tweets(data_try, start = 'T1_start', end = 'T1_end')"
   ]
  },
  {
   "cell_type": "code",
   "execution_count": 48,
   "metadata": {},
   "outputs": [],
   "source": [
    "data_try_tweets.to_csv(\"~/Documents/nfl sentiment/final_data/tweets_TRIAL2.csv\", index = False)"
   ]
  },
  {
   "cell_type": "code",
   "execution_count": null,
   "metadata": {},
   "outputs": [],
   "source": []
  },
  {
   "cell_type": "code",
   "execution_count": null,
   "metadata": {},
   "outputs": [],
   "source": [
    "####T1-1"
   ]
  },
  {
   "cell_type": "code",
   "execution_count": null,
   "metadata": {},
   "outputs": [],
   "source": []
  },
  {
   "cell_type": "code",
   "execution_count": null,
   "metadata": {},
   "outputs": [],
   "source": []
  },
  {
   "cell_type": "code",
   "execution_count": null,
   "metadata": {},
   "outputs": [],
   "source": [
    "#getting the data"
   ]
  },
  {
   "cell_type": "code",
   "execution_count": 13,
   "metadata": {},
   "outputs": [],
   "source": [
    "teams = [\"Kansas City Chiefs\", \"Tampa Bay Buccaneers\", \"Baltimore Ravens\", \"Philadelphia Eagles\", \"Carolina Panthers\"]\n",
    "data_t1_1 = get_data(teams)"
   ]
  },
  {
   "cell_type": "code",
   "execution_count": 14,
   "metadata": {
    "scrolled": true
   },
   "outputs": [
    {
     "data": {
      "text/html": [
       "<div>\n",
       "<style scoped>\n",
       "    .dataframe tbody tr th:only-of-type {\n",
       "        vertical-align: middle;\n",
       "    }\n",
       "\n",
       "    .dataframe tbody tr th {\n",
       "        vertical-align: top;\n",
       "    }\n",
       "\n",
       "    .dataframe thead th {\n",
       "        text-align: right;\n",
       "    }\n",
       "</style>\n",
       "<table border=\"1\" class=\"dataframe\">\n",
       "  <thead>\n",
       "    <tr style=\"text-align: right;\">\n",
       "      <th></th>\n",
       "      <th>Name</th>\n",
       "      <th>Twitter_handle</th>\n",
       "      <th>Team</th>\n",
       "      <th>Race</th>\n",
       "      <th>T1_start</th>\n",
       "      <th>T1_end</th>\n",
       "      <th>T2_start</th>\n",
       "      <th>T2_end</th>\n",
       "      <th>T3_start</th>\n",
       "      <th>T3_end</th>\n",
       "      <th>T4_start</th>\n",
       "      <th>T4_end</th>\n",
       "      <th>T5_start</th>\n",
       "      <th>T5_end</th>\n",
       "      <th>full_twitter</th>\n",
       "    </tr>\n",
       "  </thead>\n",
       "  <tbody>\n",
       "    <tr>\n",
       "      <th>3</th>\n",
       "      <td>Cam Newton</td>\n",
       "      <td>@CameronNewton'</td>\n",
       "      <td>Carolina Panthers</td>\n",
       "      <td>B</td>\n",
       "      <td>2017-09-17 18:00'</td>\n",
       "      <td>2017-09-17 22:00'</td>\n",
       "      <td>2017-09-24 18:00'</td>\n",
       "      <td>2017-09-24 22:00'</td>\n",
       "      <td>2017-10-01 18:00'</td>\n",
       "      <td>2017-10-01 22:00'</td>\n",
       "      <td>2017-10-08 18:00'</td>\n",
       "      <td>2017-10-08 22:00'</td>\n",
       "      <td>2017-10-13 01:25'</td>\n",
       "      <td>2017-10-13 05:25'</td>\n",
       "      <td>Cam Newton OR @CameronNewton'</td>\n",
       "    </tr>\n",
       "    <tr>\n",
       "      <th>4</th>\n",
       "      <td>Devin Funchess</td>\n",
       "      <td>@D_FUNCH'</td>\n",
       "      <td>Carolina Panthers</td>\n",
       "      <td>B</td>\n",
       "      <td>2017-09-17 18:00'</td>\n",
       "      <td>2017-09-17 22:00'</td>\n",
       "      <td>2017-09-24 18:00'</td>\n",
       "      <td>2017-09-24 22:00'</td>\n",
       "      <td>2017-10-01 18:00'</td>\n",
       "      <td>2017-10-01 22:00'</td>\n",
       "      <td>2017-10-08 18:00'</td>\n",
       "      <td>2017-10-08 22:00'</td>\n",
       "      <td>2017-10-13 01:25'</td>\n",
       "      <td>2017-10-13 05:25'</td>\n",
       "      <td>Devin Funchess OR @D_FUNCH'</td>\n",
       "    </tr>\n",
       "    <tr>\n",
       "      <th>5</th>\n",
       "      <td>Christian McCaffrey</td>\n",
       "      <td>@run__cmc'</td>\n",
       "      <td>Carolina Panthers</td>\n",
       "      <td>W</td>\n",
       "      <td>2017-09-17 18:00'</td>\n",
       "      <td>2017-09-17 22:00'</td>\n",
       "      <td>2017-09-24 18:00'</td>\n",
       "      <td>2017-09-24 22:00'</td>\n",
       "      <td>2017-10-01 18:00'</td>\n",
       "      <td>2017-10-01 22:00'</td>\n",
       "      <td>2017-10-08 18:00'</td>\n",
       "      <td>2017-10-08 22:00'</td>\n",
       "      <td>2017-10-13 01:25'</td>\n",
       "      <td>2017-10-13 05:25'</td>\n",
       "      <td>Christian McCaffrey OR @run__cmc'</td>\n",
       "    </tr>\n",
       "    <tr>\n",
       "      <th>9</th>\n",
       "      <td>Jameis Winston</td>\n",
       "      <td>@Jaboowins'</td>\n",
       "      <td>Tampa Bay Buccaneers</td>\n",
       "      <td>B</td>\n",
       "      <td>2017-09-17 18:00'</td>\n",
       "      <td>2017-09-17 22:00'</td>\n",
       "      <td>2017-09-24 18:00'</td>\n",
       "      <td>2017-09-24 22:00'</td>\n",
       "      <td>2017-10-01 21:05'</td>\n",
       "      <td>2017-10-02 01:05'</td>\n",
       "      <td>2017-10-06 01:25'</td>\n",
       "      <td>2017-10-06 05:25'</td>\n",
       "      <td>2017-10-15 21:05'</td>\n",
       "      <td>2017-10-16 01:05'</td>\n",
       "      <td>Jameis Winston OR @Jaboowins'</td>\n",
       "    </tr>\n",
       "    <tr>\n",
       "      <th>10</th>\n",
       "      <td>Mike Evans</td>\n",
       "      <td>@MikeEvans13_'</td>\n",
       "      <td>Tampa Bay Buccaneers</td>\n",
       "      <td>B</td>\n",
       "      <td>2017-09-17 18:00'</td>\n",
       "      <td>2017-09-17 22:00'</td>\n",
       "      <td>2017-09-24 18:00'</td>\n",
       "      <td>2017-09-24 22:00'</td>\n",
       "      <td>2017-10-01 21:05'</td>\n",
       "      <td>2017-10-02 01:05'</td>\n",
       "      <td>2017-10-06 01:25'</td>\n",
       "      <td>2017-10-06 05:25'</td>\n",
       "      <td>2017-10-15 21:05'</td>\n",
       "      <td>2017-10-16 01:05'</td>\n",
       "      <td>Mike Evans OR @MikeEvans13_'</td>\n",
       "    </tr>\n",
       "    <tr>\n",
       "      <th>11</th>\n",
       "      <td>Adam Humphries</td>\n",
       "      <td>@adamhumphries13'</td>\n",
       "      <td>Tampa Bay Buccaneers</td>\n",
       "      <td>W</td>\n",
       "      <td>2017-09-17 18:00'</td>\n",
       "      <td>2017-09-17 22:00'</td>\n",
       "      <td>2017-09-24 18:00'</td>\n",
       "      <td>2017-09-24 22:00'</td>\n",
       "      <td>2017-10-01 21:05'</td>\n",
       "      <td>2017-10-02 01:05'</td>\n",
       "      <td>2017-10-06 01:25'</td>\n",
       "      <td>2017-10-06 05:25'</td>\n",
       "      <td>2017-10-15 21:05'</td>\n",
       "      <td>2017-10-16 01:05'</td>\n",
       "      <td>Adam Humphries OR @adamhumphries13'</td>\n",
       "    </tr>\n",
       "    <tr>\n",
       "      <th>12</th>\n",
       "      <td>Carson Wentz</td>\n",
       "      <td>@cj_wentz'</td>\n",
       "      <td>Philadelphia Eagles</td>\n",
       "      <td>W</td>\n",
       "      <td>2017-09-17 18:00'</td>\n",
       "      <td>2017-09-17 22:00'</td>\n",
       "      <td>2017-09-24 18:00'</td>\n",
       "      <td>2017-09-24 22:00'</td>\n",
       "      <td>2017-10-01 21:05'</td>\n",
       "      <td>2017-10-02 01:05'</td>\n",
       "      <td>2017-10-08 18:00'</td>\n",
       "      <td>2017-10-08 22:00'</td>\n",
       "      <td>2017-10-13 01:25'</td>\n",
       "      <td>2017-10-13 05:25'</td>\n",
       "      <td>Carson Wentz OR @cj_wentz'</td>\n",
       "    </tr>\n",
       "    <tr>\n",
       "      <th>13</th>\n",
       "      <td>Zach Ertz</td>\n",
       "      <td>@ZERTZ_86'</td>\n",
       "      <td>Philadelphia Eagles</td>\n",
       "      <td>W</td>\n",
       "      <td>2017-09-17 18:00'</td>\n",
       "      <td>2017-09-17 22:00'</td>\n",
       "      <td>2017-09-24 18:00'</td>\n",
       "      <td>2017-09-24 22:00'</td>\n",
       "      <td>2017-10-01 21:05'</td>\n",
       "      <td>2017-10-02 01:05'</td>\n",
       "      <td>2017-10-08 18:00'</td>\n",
       "      <td>2017-10-08 22:00'</td>\n",
       "      <td>2017-10-13 01:25'</td>\n",
       "      <td>2017-10-13 05:25'</td>\n",
       "      <td>Zach Ertz OR @ZERTZ_86'</td>\n",
       "    </tr>\n",
       "    <tr>\n",
       "      <th>14</th>\n",
       "      <td>Alshon Jeffrey</td>\n",
       "      <td>@TheWorldof_AJ'</td>\n",
       "      <td>Philadelphia Eagles</td>\n",
       "      <td>B</td>\n",
       "      <td>2017-09-17 18:00'</td>\n",
       "      <td>2017-09-17 22:00'</td>\n",
       "      <td>2017-09-24 18:00'</td>\n",
       "      <td>2017-09-24 22:00'</td>\n",
       "      <td>2017-10-01 21:05'</td>\n",
       "      <td>2017-10-02 01:05'</td>\n",
       "      <td>2017-10-08 18:00'</td>\n",
       "      <td>2017-10-08 22:00'</td>\n",
       "      <td>2017-10-13 01:25'</td>\n",
       "      <td>2017-10-13 05:25'</td>\n",
       "      <td>Alshon Jeffrey OR @TheWorldof_AJ'</td>\n",
       "    </tr>\n",
       "    <tr>\n",
       "      <th>15</th>\n",
       "      <td>Alex Smith</td>\n",
       "      <td>NaN</td>\n",
       "      <td>Kansas City Chiefs</td>\n",
       "      <td>W</td>\n",
       "      <td>2017-09-17 18:00'</td>\n",
       "      <td>2017-09-17 22:00'</td>\n",
       "      <td>2017-09-24 21:25'</td>\n",
       "      <td>2017-09-25 01:25'</td>\n",
       "      <td>2017-10-03 01:30'</td>\n",
       "      <td>2017-10-03 05:30'</td>\n",
       "      <td>2017-10-09 01:30'</td>\n",
       "      <td>2017-10-09 05:30'</td>\n",
       "      <td>2017-10-15 21:25'</td>\n",
       "      <td>2017-10-16 01:25'</td>\n",
       "      <td>Alex Smith</td>\n",
       "    </tr>\n",
       "    <tr>\n",
       "      <th>16</th>\n",
       "      <td>Travis Kelce</td>\n",
       "      <td>@tkelce'</td>\n",
       "      <td>Kansas City Chiefs</td>\n",
       "      <td>W</td>\n",
       "      <td>2017-09-17 18:00'</td>\n",
       "      <td>2017-09-17 22:00'</td>\n",
       "      <td>2017-09-24 21:25'</td>\n",
       "      <td>2017-09-25 01:25'</td>\n",
       "      <td>2017-10-03 01:30'</td>\n",
       "      <td>2017-10-03 05:30'</td>\n",
       "      <td>2017-10-09 01:30'</td>\n",
       "      <td>2017-10-09 05:30'</td>\n",
       "      <td>2017-10-15 21:25'</td>\n",
       "      <td>2017-10-16 01:25'</td>\n",
       "      <td>Travis Kelce OR @tkelce'</td>\n",
       "    </tr>\n",
       "    <tr>\n",
       "      <th>17</th>\n",
       "      <td>Tyreek Hill</td>\n",
       "      <td>@cheetah'</td>\n",
       "      <td>Kansas City Chiefs</td>\n",
       "      <td>B</td>\n",
       "      <td>2017-09-17 18:00'</td>\n",
       "      <td>2017-09-17 22:00'</td>\n",
       "      <td>2017-09-24 21:25'</td>\n",
       "      <td>2017-09-25 01:25'</td>\n",
       "      <td>2017-10-03 01:30'</td>\n",
       "      <td>2017-10-03 05:30'</td>\n",
       "      <td>2017-10-09 01:30'</td>\n",
       "      <td>2017-10-09 05:30'</td>\n",
       "      <td>2017-10-15 21:25'</td>\n",
       "      <td>2017-10-16 01:25'</td>\n",
       "      <td>Tyreek Hill OR @cheetah'</td>\n",
       "    </tr>\n",
       "    <tr>\n",
       "      <th>21</th>\n",
       "      <td>Joe Flacco</td>\n",
       "      <td>@JoeFlacco'</td>\n",
       "      <td>Baltimore Ravens</td>\n",
       "      <td>W</td>\n",
       "      <td>2017-09-17 18:00'</td>\n",
       "      <td>2017-09-17 22:00'</td>\n",
       "      <td>2017-09-24 14:30'</td>\n",
       "      <td>2017-09-24 18:30'</td>\n",
       "      <td>2017-10-01 18:00'</td>\n",
       "      <td>2017-10-01 22:00'</td>\n",
       "      <td>2017-10-08 21:05'</td>\n",
       "      <td>2017-10-09 01:05'</td>\n",
       "      <td>2017-10-15 18:00'</td>\n",
       "      <td>2017-10-15 22:00'</td>\n",
       "      <td>Joe Flacco OR @JoeFlacco'</td>\n",
       "    </tr>\n",
       "    <tr>\n",
       "      <th>22</th>\n",
       "      <td>Nick Boyle</td>\n",
       "      <td>@nickboyle86'</td>\n",
       "      <td>Baltimore Ravens</td>\n",
       "      <td>W</td>\n",
       "      <td>2017-09-17 18:00'</td>\n",
       "      <td>2017-09-17 22:00'</td>\n",
       "      <td>2017-09-24 14:30'</td>\n",
       "      <td>2017-09-24 18:30'</td>\n",
       "      <td>2017-10-01 18:00'</td>\n",
       "      <td>2017-10-01 22:00'</td>\n",
       "      <td>2017-10-08 21:05'</td>\n",
       "      <td>2017-10-09 01:05'</td>\n",
       "      <td>2017-10-15 18:00'</td>\n",
       "      <td>2017-10-15 22:00'</td>\n",
       "      <td>Nick Boyle OR @nickboyle86'</td>\n",
       "    </tr>\n",
       "    <tr>\n",
       "      <th>23</th>\n",
       "      <td>Mike Wallace</td>\n",
       "      <td>@Wallace17_daKid'</td>\n",
       "      <td>Baltimore Ravens</td>\n",
       "      <td>B</td>\n",
       "      <td>2017-09-17 18:00'</td>\n",
       "      <td>2017-09-17 22:00'</td>\n",
       "      <td>2017-09-24 14:30'</td>\n",
       "      <td>2017-09-24 18:30'</td>\n",
       "      <td>2017-10-01 18:00'</td>\n",
       "      <td>2017-10-01 22:00'</td>\n",
       "      <td>2017-10-08 21:05'</td>\n",
       "      <td>2017-10-09 01:05'</td>\n",
       "      <td>2017-10-15 18:00'</td>\n",
       "      <td>2017-10-15 22:00'</td>\n",
       "      <td>Mike Wallace OR @Wallace17_daKid'</td>\n",
       "    </tr>\n",
       "  </tbody>\n",
       "</table>\n",
       "</div>"
      ],
      "text/plain": [
       "                   Name     Twitter_handle                  Team Race  \\\n",
       "3            Cam Newton    @CameronNewton'     Carolina Panthers    B   \n",
       "4        Devin Funchess          @D_FUNCH'     Carolina Panthers    B   \n",
       "5   Christian McCaffrey         @run__cmc'     Carolina Panthers    W   \n",
       "9        Jameis Winston        @Jaboowins'  Tampa Bay Buccaneers    B   \n",
       "10           Mike Evans     @MikeEvans13_'  Tampa Bay Buccaneers    B   \n",
       "11       Adam Humphries  @adamhumphries13'  Tampa Bay Buccaneers    W   \n",
       "12         Carson Wentz         @cj_wentz'   Philadelphia Eagles    W   \n",
       "13            Zach Ertz         @ZERTZ_86'   Philadelphia Eagles    W   \n",
       "14       Alshon Jeffrey    @TheWorldof_AJ'   Philadelphia Eagles    B   \n",
       "15           Alex Smith                NaN    Kansas City Chiefs    W   \n",
       "16         Travis Kelce           @tkelce'    Kansas City Chiefs    W   \n",
       "17          Tyreek Hill          @cheetah'    Kansas City Chiefs    B   \n",
       "21           Joe Flacco        @JoeFlacco'      Baltimore Ravens    W   \n",
       "22           Nick Boyle      @nickboyle86'      Baltimore Ravens    W   \n",
       "23         Mike Wallace  @Wallace17_daKid'      Baltimore Ravens    B   \n",
       "\n",
       "             T1_start             T1_end           T2_start  \\\n",
       "3   2017-09-17 18:00'  2017-09-17 22:00'  2017-09-24 18:00'   \n",
       "4   2017-09-17 18:00'  2017-09-17 22:00'  2017-09-24 18:00'   \n",
       "5   2017-09-17 18:00'  2017-09-17 22:00'  2017-09-24 18:00'   \n",
       "9   2017-09-17 18:00'  2017-09-17 22:00'  2017-09-24 18:00'   \n",
       "10  2017-09-17 18:00'  2017-09-17 22:00'  2017-09-24 18:00'   \n",
       "11  2017-09-17 18:00'  2017-09-17 22:00'  2017-09-24 18:00'   \n",
       "12  2017-09-17 18:00'  2017-09-17 22:00'  2017-09-24 18:00'   \n",
       "13  2017-09-17 18:00'  2017-09-17 22:00'  2017-09-24 18:00'   \n",
       "14  2017-09-17 18:00'  2017-09-17 22:00'  2017-09-24 18:00'   \n",
       "15  2017-09-17 18:00'  2017-09-17 22:00'  2017-09-24 21:25'   \n",
       "16  2017-09-17 18:00'  2017-09-17 22:00'  2017-09-24 21:25'   \n",
       "17  2017-09-17 18:00'  2017-09-17 22:00'  2017-09-24 21:25'   \n",
       "21  2017-09-17 18:00'  2017-09-17 22:00'  2017-09-24 14:30'   \n",
       "22  2017-09-17 18:00'  2017-09-17 22:00'  2017-09-24 14:30'   \n",
       "23  2017-09-17 18:00'  2017-09-17 22:00'  2017-09-24 14:30'   \n",
       "\n",
       "               T2_end           T3_start             T3_end  \\\n",
       "3   2017-09-24 22:00'  2017-10-01 18:00'  2017-10-01 22:00'   \n",
       "4   2017-09-24 22:00'  2017-10-01 18:00'  2017-10-01 22:00'   \n",
       "5   2017-09-24 22:00'  2017-10-01 18:00'  2017-10-01 22:00'   \n",
       "9   2017-09-24 22:00'  2017-10-01 21:05'  2017-10-02 01:05'   \n",
       "10  2017-09-24 22:00'  2017-10-01 21:05'  2017-10-02 01:05'   \n",
       "11  2017-09-24 22:00'  2017-10-01 21:05'  2017-10-02 01:05'   \n",
       "12  2017-09-24 22:00'  2017-10-01 21:05'  2017-10-02 01:05'   \n",
       "13  2017-09-24 22:00'  2017-10-01 21:05'  2017-10-02 01:05'   \n",
       "14  2017-09-24 22:00'  2017-10-01 21:05'  2017-10-02 01:05'   \n",
       "15  2017-09-25 01:25'  2017-10-03 01:30'  2017-10-03 05:30'   \n",
       "16  2017-09-25 01:25'  2017-10-03 01:30'  2017-10-03 05:30'   \n",
       "17  2017-09-25 01:25'  2017-10-03 01:30'  2017-10-03 05:30'   \n",
       "21  2017-09-24 18:30'  2017-10-01 18:00'  2017-10-01 22:00'   \n",
       "22  2017-09-24 18:30'  2017-10-01 18:00'  2017-10-01 22:00'   \n",
       "23  2017-09-24 18:30'  2017-10-01 18:00'  2017-10-01 22:00'   \n",
       "\n",
       "             T4_start             T4_end           T5_start  \\\n",
       "3   2017-10-08 18:00'  2017-10-08 22:00'  2017-10-13 01:25'   \n",
       "4   2017-10-08 18:00'  2017-10-08 22:00'  2017-10-13 01:25'   \n",
       "5   2017-10-08 18:00'  2017-10-08 22:00'  2017-10-13 01:25'   \n",
       "9   2017-10-06 01:25'  2017-10-06 05:25'  2017-10-15 21:05'   \n",
       "10  2017-10-06 01:25'  2017-10-06 05:25'  2017-10-15 21:05'   \n",
       "11  2017-10-06 01:25'  2017-10-06 05:25'  2017-10-15 21:05'   \n",
       "12  2017-10-08 18:00'  2017-10-08 22:00'  2017-10-13 01:25'   \n",
       "13  2017-10-08 18:00'  2017-10-08 22:00'  2017-10-13 01:25'   \n",
       "14  2017-10-08 18:00'  2017-10-08 22:00'  2017-10-13 01:25'   \n",
       "15  2017-10-09 01:30'  2017-10-09 05:30'  2017-10-15 21:25'   \n",
       "16  2017-10-09 01:30'  2017-10-09 05:30'  2017-10-15 21:25'   \n",
       "17  2017-10-09 01:30'  2017-10-09 05:30'  2017-10-15 21:25'   \n",
       "21  2017-10-08 21:05'  2017-10-09 01:05'  2017-10-15 18:00'   \n",
       "22  2017-10-08 21:05'  2017-10-09 01:05'  2017-10-15 18:00'   \n",
       "23  2017-10-08 21:05'  2017-10-09 01:05'  2017-10-15 18:00'   \n",
       "\n",
       "               T5_end                         full_twitter  \n",
       "3   2017-10-13 05:25'        Cam Newton OR @CameronNewton'  \n",
       "4   2017-10-13 05:25'          Devin Funchess OR @D_FUNCH'  \n",
       "5   2017-10-13 05:25'    Christian McCaffrey OR @run__cmc'  \n",
       "9   2017-10-16 01:05'        Jameis Winston OR @Jaboowins'  \n",
       "10  2017-10-16 01:05'         Mike Evans OR @MikeEvans13_'  \n",
       "11  2017-10-16 01:05'  Adam Humphries OR @adamhumphries13'  \n",
       "12  2017-10-13 05:25'           Carson Wentz OR @cj_wentz'  \n",
       "13  2017-10-13 05:25'              Zach Ertz OR @ZERTZ_86'  \n",
       "14  2017-10-13 05:25'    Alshon Jeffrey OR @TheWorldof_AJ'  \n",
       "15  2017-10-16 01:25'                           Alex Smith  \n",
       "16  2017-10-16 01:25'             Travis Kelce OR @tkelce'  \n",
       "17  2017-10-16 01:25'             Tyreek Hill OR @cheetah'  \n",
       "21  2017-10-15 22:00'            Joe Flacco OR @JoeFlacco'  \n",
       "22  2017-10-15 22:00'          Nick Boyle OR @nickboyle86'  \n",
       "23  2017-10-15 22:00'    Mike Wallace OR @Wallace17_daKid'  "
      ]
     },
     "execution_count": 14,
     "metadata": {},
     "output_type": "execute_result"
    }
   ],
   "source": [
    "data_t1_1"
   ]
  },
  {
   "cell_type": "code",
   "execution_count": null,
   "metadata": {},
   "outputs": [],
   "source": [
    "#getting tweets"
   ]
  },
  {
   "cell_type": "code",
   "execution_count": null,
   "metadata": {},
   "outputs": [],
   "source": [
    "data_t1_1_tweets = get_tweets(data_t1_1, start = 'T1_start', end = 'T1_end')"
   ]
  },
  {
   "cell_type": "code",
   "execution_count": null,
   "metadata": {},
   "outputs": [],
   "source": [
    "#saving at csv"
   ]
  },
  {
   "cell_type": "code",
   "execution_count": null,
   "metadata": {},
   "outputs": [],
   "source": [
    "data_t1_1_tweets.to_csv(\"~/Documents/nfl sentiment/final_data/tweets_t1_1.csv\", index = False)"
   ]
  },
  {
   "cell_type": "code",
   "execution_count": 35,
   "metadata": {},
   "outputs": [
    {
     "ename": "NameError",
     "evalue": "name 'all_tweets' is not defined",
     "output_type": "error",
     "traceback": [
      "\u001b[0;31m---------------------------------------------------------------------------\u001b[0m",
      "\u001b[0;31mNameError\u001b[0m                                 Traceback (most recent call last)",
      "\u001b[0;32m<ipython-input-35-8389ac4af9b2>\u001b[0m in \u001b[0;36m<module>\u001b[0;34m\u001b[0m\n\u001b[0;32m----> 1\u001b[0;31m \u001b[0mdata_tweets\u001b[0m\u001b[0;34m[\u001b[0m\u001b[0;34m'retweeted_tweet'\u001b[0m\u001b[0;34m]\u001b[0m \u001b[0;34m=\u001b[0m \u001b[0mnp\u001b[0m\u001b[0;34m.\u001b[0m\u001b[0marray\u001b[0m\u001b[0;34m(\u001b[0m\u001b[0;34m[\u001b[0m\u001b[0mtweet\u001b[0m\u001b[0;34m.\u001b[0m\u001b[0mretweeted_tweet\u001b[0m \u001b[0;32mfor\u001b[0m \u001b[0mtweet\u001b[0m \u001b[0;32min\u001b[0m \u001b[0mall_tweets\u001b[0m\u001b[0;34m]\u001b[0m\u001b[0;34m)\u001b[0m\u001b[0;34m\u001b[0m\u001b[0;34m\u001b[0m\u001b[0m\n\u001b[0m",
      "\u001b[0;31mNameError\u001b[0m: name 'all_tweets' is not defined"
     ]
    }
   ],
   "source": [
    "data_tweets['retweeted_tweet'] = np.array([tweet.retweeted_tweet for tweet in all_tweets])"
   ]
  },
  {
   "cell_type": "code",
   "execution_count": null,
   "metadata": {},
   "outputs": [],
   "source": []
  },
  {
   "cell_type": "code",
   "execution_count": null,
   "metadata": {},
   "outputs": [],
   "source": [
    "####T1-2"
   ]
  },
  {
   "cell_type": "code",
   "execution_count": null,
   "metadata": {},
   "outputs": [],
   "source": []
  },
  {
   "cell_type": "code",
   "execution_count": null,
   "metadata": {},
   "outputs": [],
   "source": []
  },
  {
   "cell_type": "code",
   "execution_count": null,
   "metadata": {},
   "outputs": [],
   "source": [
    "#getting the data"
   ]
  },
  {
   "cell_type": "code",
   "execution_count": 14,
   "metadata": {},
   "outputs": [],
   "source": [
    "teams = [\"Dallas Cowboys\"]\n",
    "data_t1_2 = get_data(teams)"
   ]
  },
  {
   "cell_type": "code",
   "execution_count": 15,
   "metadata": {
    "scrolled": true
   },
   "outputs": [
    {
     "data": {
      "text/html": [
       "<div>\n",
       "<style scoped>\n",
       "    .dataframe tbody tr th:only-of-type {\n",
       "        vertical-align: middle;\n",
       "    }\n",
       "\n",
       "    .dataframe tbody tr th {\n",
       "        vertical-align: top;\n",
       "    }\n",
       "\n",
       "    .dataframe thead th {\n",
       "        text-align: right;\n",
       "    }\n",
       "</style>\n",
       "<table border=\"1\" class=\"dataframe\">\n",
       "  <thead>\n",
       "    <tr style=\"text-align: right;\">\n",
       "      <th></th>\n",
       "      <th>Name</th>\n",
       "      <th>Twitter_handle</th>\n",
       "      <th>Team</th>\n",
       "      <th>Race</th>\n",
       "      <th>T1_start</th>\n",
       "      <th>T1_end</th>\n",
       "      <th>T2_start</th>\n",
       "      <th>T2_end</th>\n",
       "      <th>T3_start</th>\n",
       "      <th>T3_end</th>\n",
       "      <th>T4_start</th>\n",
       "      <th>T4_end</th>\n",
       "      <th>T5_start</th>\n",
       "      <th>T5_end</th>\n",
       "      <th>full_twitter</th>\n",
       "    </tr>\n",
       "  </thead>\n",
       "  <tbody>\n",
       "    <tr>\n",
       "      <th>6</th>\n",
       "      <td>Dak Prescott</td>\n",
       "      <td>@dak'</td>\n",
       "      <td>Dallas Cowboys</td>\n",
       "      <td>B</td>\n",
       "      <td>2017-09-11 01:30'</td>\n",
       "      <td>2017-09-11 05:30'</td>\n",
       "      <td>2017-09-17 21:25'</td>\n",
       "      <td>2017-09-18 01:25'</td>\n",
       "      <td>2017-09-26 01:30'</td>\n",
       "      <td>2017-09-26 05:30'</td>\n",
       "      <td>2017-10-01 18:00'</td>\n",
       "      <td>2017-10-01 22:00'</td>\n",
       "      <td>2017-10-08 21:25'</td>\n",
       "      <td>2017-10-09 01:25'</td>\n",
       "      <td>Dak Prescott OR @dak'</td>\n",
       "    </tr>\n",
       "    <tr>\n",
       "      <th>7</th>\n",
       "      <td>Dez Bryant</td>\n",
       "      <td>@DezBryant'</td>\n",
       "      <td>Dallas Cowboys</td>\n",
       "      <td>B</td>\n",
       "      <td>2017-09-11 01:30'</td>\n",
       "      <td>2017-09-11 05:30'</td>\n",
       "      <td>2017-09-17 21:25'</td>\n",
       "      <td>2017-09-18 01:25'</td>\n",
       "      <td>2017-09-26 01:30'</td>\n",
       "      <td>2017-09-26 05:30'</td>\n",
       "      <td>2017-10-01 18:00'</td>\n",
       "      <td>2017-10-01 22:00'</td>\n",
       "      <td>2017-10-08 21:25'</td>\n",
       "      <td>2017-10-09 01:25'</td>\n",
       "      <td>Dez Bryant OR @DezBryant'</td>\n",
       "    </tr>\n",
       "    <tr>\n",
       "      <th>8</th>\n",
       "      <td>Jason Witten</td>\n",
       "      <td>@JasonWitten'</td>\n",
       "      <td>Dallas Cowboys</td>\n",
       "      <td>W</td>\n",
       "      <td>2017-09-11 01:30'</td>\n",
       "      <td>2017-09-11 05:30'</td>\n",
       "      <td>2017-09-17 21:25'</td>\n",
       "      <td>2017-09-18 01:25'</td>\n",
       "      <td>2017-09-26 01:30'</td>\n",
       "      <td>2017-09-26 05:30'</td>\n",
       "      <td>2017-10-01 18:00'</td>\n",
       "      <td>2017-10-01 22:00'</td>\n",
       "      <td>2017-10-08 21:25'</td>\n",
       "      <td>2017-10-09 01:25'</td>\n",
       "      <td>Jason Witten OR @JasonWitten'</td>\n",
       "    </tr>\n",
       "  </tbody>\n",
       "</table>\n",
       "</div>"
      ],
      "text/plain": [
       "           Name Twitter_handle            Team Race           T1_start  \\\n",
       "6  Dak Prescott          @dak'  Dallas Cowboys    B  2017-09-11 01:30'   \n",
       "7    Dez Bryant    @DezBryant'  Dallas Cowboys    B  2017-09-11 01:30'   \n",
       "8  Jason Witten  @JasonWitten'  Dallas Cowboys    W  2017-09-11 01:30'   \n",
       "\n",
       "              T1_end           T2_start             T2_end           T3_start  \\\n",
       "6  2017-09-11 05:30'  2017-09-17 21:25'  2017-09-18 01:25'  2017-09-26 01:30'   \n",
       "7  2017-09-11 05:30'  2017-09-17 21:25'  2017-09-18 01:25'  2017-09-26 01:30'   \n",
       "8  2017-09-11 05:30'  2017-09-17 21:25'  2017-09-18 01:25'  2017-09-26 01:30'   \n",
       "\n",
       "              T3_end           T4_start             T4_end           T5_start  \\\n",
       "6  2017-09-26 05:30'  2017-10-01 18:00'  2017-10-01 22:00'  2017-10-08 21:25'   \n",
       "7  2017-09-26 05:30'  2017-10-01 18:00'  2017-10-01 22:00'  2017-10-08 21:25'   \n",
       "8  2017-09-26 05:30'  2017-10-01 18:00'  2017-10-01 22:00'  2017-10-08 21:25'   \n",
       "\n",
       "              T5_end                   full_twitter  \n",
       "6  2017-10-09 01:25'          Dak Prescott OR @dak'  \n",
       "7  2017-10-09 01:25'      Dez Bryant OR @DezBryant'  \n",
       "8  2017-10-09 01:25'  Jason Witten OR @JasonWitten'  "
      ]
     },
     "execution_count": 15,
     "metadata": {},
     "output_type": "execute_result"
    }
   ],
   "source": [
    "data_t1_2"
   ]
  },
  {
   "cell_type": "code",
   "execution_count": null,
   "metadata": {},
   "outputs": [],
   "source": [
    "#getting tweets"
   ]
  },
  {
   "cell_type": "code",
   "execution_count": 28,
   "metadata": {},
   "outputs": [
    {
     "name": "stdout",
     "output_type": "stream",
     "text": [
      "['Dak Prescott OR @dak', 'Dez Bryant OR @DezBryant', 'Jason Witten OR @JasonWitten']\n",
      "2017-09-11 01:30\n",
      "2017-09-11 05:30\n",
      "Ezekiel Elliott on Dak Prescott: \"Since I've gotten here he's become my best friend. When we're out there it's like nothing can stop us.\"\n",
      "Dak Prescott's Precious Mix of Smarts and Skills on Full Display in Cowboy... #Cowboys  https://t.co/9TpBqHHMjz https://t.co/TLmlC3P6qT\n",
      "Axel gets intense during the @dallascowboys games. He's saying throw it @dak hahaha https://t.co/zKXsTH5PV7\n",
      "[Bleacher Report] - Dak Prescott's Precious Mix of Smarts and Skills on Full Display in Cowboys Win https://t.co/n4rpnbVFSE\n",
      "With a win over NYG tonight Dak Prescott has beaten every team he's ever faced. Lost to PHI &amp; GB last season, but he'd already beaten them.\n",
      "Ezekiel Elliott on Dak Prescott: \"Since I've gotten here he's become my best friend. When we're out there it's like nothing can stop us.\"\n",
      "WATCH: Dak Prescott to Jason Witten for the TD. #Cowboys lead #Giants 16-0 at the half. #NYGvDAL #SNF https://t.co/m4nbakQNMx\n",
      "@alexis_suzanne9 https://t.co/n7ErscZmsE Cowboys fans saying this is the new wave! I love mine!\n",
      "Dak to the future! 263 pass yards, 1 TD &amp; a WIN! Nothin will stop him. Living the dream. @Dak\n",
      "@SNOSSports This just in dak Prescott is thicc\n",
      "Dez Bryant: I love going against Janoris Jenkins, but he caught some breaks Sunday night https://t.co/vdJUm8cue4\n",
      "Dez Bryant on Ezekiel Elliott's impact: \"Extreme impact. It's Ezekiel Elliott. Feed me. The guy is a monster. You hand that guy the ball.\"\n",
      "Dez Bryant: I love going against Janoris Jenkins, but he caught some breaks... https://t.co/i8xewxtXs9 #Cowboys #CowboysNation\n",
      "SURE DID RT @jonmachota: Dez Bryant: I love going against Janoris Jenkins, but he caught some breaks Sunday night https://t.co/YfHlxgLjKd\n",
      "Gonna send Dez Bryant and Russell Wilson condoms so the next time they decide to fuck me in fantasy they'll at least use protection\n",
      "Dez Bryant on if beating the Giants meant anything extra: \"Don't mean anything extra. That's one game. Got to move on to Week 2.\"\n",
      "Dez Bryant: I love going against Janoris Jenkins, but he caught some breaks Sunday night https://t.co/5qLMiBZElm via @sportsdaydfw\n",
      "Dez Bryant vs. Janoris Jenkins (2016-2017)\n",
      "\n",
      "3 games\n",
      "14 targets\n",
      "3 catches\n",
      "53 yards\n",
      "0 TDs\n",
      "1 INT\n",
      "newsday​.com &gt;&gt; Janoris Jenkins mostly bottles up Dez Bryant, who says: 'It was fun' https://t.co/rSWd4hiktc\n",
      "Janoris Jenkins mostly bottles up Dez Bryant, who says: ‘It was fun’ https://t.co/66R9yU9U1A | @TomRock_Newsday https://t.co/ucRZFofgH8\n",
      "Jason Witten reacts to becoming Cowboys' all-time receiving leader https://t.co/RQrzWxnGPX\n",
      "Jason Witten makes history again &amp; the defense dominates as the Cowboys roll to a 19-3 win over the rival Giants.\n",
      "\n",
      "📝 https://t.co/aBRXdhnZTV https://t.co/M0qxGZZ0Zq\n",
      "Jason Witten makes history again &amp; the defense dominates as the Cowboys roll to a 19-3 win over the rival Giants.\n",
      "\n",
      "📝 https://t.co/aBRXdhnZTV https://t.co/M0qxGZZ0Zq\n",
      "Jason Witten is the model Cowboy. The model Tight End. The model person. Congrats to the GOAT. We love you big guy.\n",
      "[Fox Sports] - Jason Witten reacts to becoming Cowboys' all-time receiving leader https://t.co/xIEns4qjK8\n",
      "Jason Witten has passed Michael Irvin to become the Cowboys all-time leader in receiving yards (11,906) https://t.co/S9lfWYMpyU\n",
      "Jason Witten makes history again &amp; the defense dominates as the Cowboys roll to a 19-3 win over the rival Giants.\n",
      "\n",
      "📝 https://t.co/aBRXdhnZTV https://t.co/M0qxGZZ0Zq\n",
      "@NFL @dallascowboys @JasonWitten @JasonWitten should thank Tony Romo for that record otherwise @terrellowens would have it easily if he was on the team still\n",
      "Il y a un soucis avec la fiche Wikipedia de Jason Witten 🤔\n",
      "Né en... 1902 ? 115 ans ? Quelle longévité !\n",
      "#DallasCowboys https://t.co/UBVXnmZAcf\n",
      "WATCH: Dak Prescott to Jason Witten for the TD. #Cowboys lead #Giants 16-0 at the half. #NYGvDAL #SNF https://t.co/m4nbakQNMx\n"
     ]
    }
   ],
   "source": [
    "data_t1_2_tweets = get_tweets(data_t1_2, start = 'T1_start', end = 'T1_end')"
   ]
  },
  {
   "cell_type": "code",
   "execution_count": null,
   "metadata": {},
   "outputs": [],
   "source": [
    "#How many tweets total"
   ]
  },
  {
   "cell_type": "code",
   "execution_count": 30,
   "metadata": {},
   "outputs": [
    {
     "data": {
      "text/plain": [
       "5660"
      ]
     },
     "execution_count": 30,
     "metadata": {},
     "output_type": "execute_result"
    }
   ],
   "source": [
    "len(data_t1_2_tweets)"
   ]
  },
  {
   "cell_type": "code",
   "execution_count": null,
   "metadata": {},
   "outputs": [],
   "source": [
    "#How many without dups"
   ]
  },
  {
   "cell_type": "code",
   "execution_count": 31,
   "metadata": {},
   "outputs": [],
   "source": [
    "data_t2_2_tweets_2 = data_t1_2_tweets.drop_duplicates(subset = 'Tweets')"
   ]
  },
  {
   "cell_type": "code",
   "execution_count": 33,
   "metadata": {},
   "outputs": [
    {
     "data": {
      "text/plain": [
       "2895"
      ]
     },
     "execution_count": 33,
     "metadata": {},
     "output_type": "execute_result"
    }
   ],
   "source": [
    "len(data_t2_2_tweets_2)"
   ]
  },
  {
   "cell_type": "code",
   "execution_count": null,
   "metadata": {},
   "outputs": [],
   "source": [
    "#saving at csv"
   ]
  },
  {
   "cell_type": "code",
   "execution_count": 34,
   "metadata": {},
   "outputs": [],
   "source": [
    "data_t1_2_tweets.to_csv(\"~/Documents/nfl sentiment/final_data/tweets_t1_2.csv\", index = False)"
   ]
  },
  {
   "cell_type": "code",
   "execution_count": null,
   "metadata": {},
   "outputs": [],
   "source": []
  },
  {
   "cell_type": "code",
   "execution_count": null,
   "metadata": {},
   "outputs": [],
   "source": []
  },
  {
   "cell_type": "code",
   "execution_count": null,
   "metadata": {},
   "outputs": [],
   "source": [
    "####T1-3"
   ]
  },
  {
   "cell_type": "code",
   "execution_count": null,
   "metadata": {},
   "outputs": [],
   "source": []
  },
  {
   "cell_type": "code",
   "execution_count": null,
   "metadata": {},
   "outputs": [],
   "source": []
  },
  {
   "cell_type": "code",
   "execution_count": null,
   "metadata": {},
   "outputs": [],
   "source": [
    "#getting the data"
   ]
  },
  {
   "cell_type": "code",
   "execution_count": 17,
   "metadata": {},
   "outputs": [],
   "source": [
    "teams = [\"Seattle Seahawks\"]\n",
    "data_t1_3 = get_data(teams)"
   ]
  },
  {
   "cell_type": "code",
   "execution_count": 18,
   "metadata": {
    "scrolled": true
   },
   "outputs": [
    {
     "data": {
      "text/html": [
       "<div>\n",
       "<style scoped>\n",
       "    .dataframe tbody tr th:only-of-type {\n",
       "        vertical-align: middle;\n",
       "    }\n",
       "\n",
       "    .dataframe tbody tr th {\n",
       "        vertical-align: top;\n",
       "    }\n",
       "\n",
       "    .dataframe thead th {\n",
       "        text-align: right;\n",
       "    }\n",
       "</style>\n",
       "<table border=\"1\" class=\"dataframe\">\n",
       "  <thead>\n",
       "    <tr style=\"text-align: right;\">\n",
       "      <th></th>\n",
       "      <th>Name</th>\n",
       "      <th>Twitter_handle</th>\n",
       "      <th>Team</th>\n",
       "      <th>Race</th>\n",
       "      <th>T1_start</th>\n",
       "      <th>T1_end</th>\n",
       "      <th>T2_start</th>\n",
       "      <th>T2_end</th>\n",
       "      <th>T3_start</th>\n",
       "      <th>T3_end</th>\n",
       "      <th>T4_start</th>\n",
       "      <th>T4_end</th>\n",
       "      <th>T5_start</th>\n",
       "      <th>T5_end</th>\n",
       "      <th>full_twitter</th>\n",
       "    </tr>\n",
       "  </thead>\n",
       "  <tbody>\n",
       "    <tr>\n",
       "      <th>0</th>\n",
       "      <td>Russell Wilson</td>\n",
       "      <td>@DangeRussWilson'</td>\n",
       "      <td>Seattle Seahawks</td>\n",
       "      <td>B</td>\n",
       "      <td>2017-09-10 21:25'</td>\n",
       "      <td>2017-09-11 01:25'</td>\n",
       "      <td>2017-09-17 21:25'</td>\n",
       "      <td>2017-09-18 01:25'</td>\n",
       "      <td>2017-09-24 21:05'</td>\n",
       "      <td>2017-09-25 01:05'</td>\n",
       "      <td>2017-10-02 01:30'</td>\n",
       "      <td>2017-10-02 05:30'</td>\n",
       "      <td>2017-10-08 21:05'</td>\n",
       "      <td>2017-10-09 01:05'</td>\n",
       "      <td>Russell Wilson OR @DangeRussWilson'</td>\n",
       "    </tr>\n",
       "    <tr>\n",
       "      <th>1</th>\n",
       "      <td>Doug Baldwin</td>\n",
       "      <td>@DougBaldwinJr'</td>\n",
       "      <td>Seattle Seahawks</td>\n",
       "      <td>B</td>\n",
       "      <td>2017-09-10 21:25'</td>\n",
       "      <td>2017-09-11 01:25'</td>\n",
       "      <td>2017-09-17 21:25'</td>\n",
       "      <td>2017-09-18 01:25'</td>\n",
       "      <td>2017-09-24 21:05'</td>\n",
       "      <td>2017-09-25 01:05'</td>\n",
       "      <td>2017-10-02 01:30'</td>\n",
       "      <td>2017-10-02 05:30'</td>\n",
       "      <td>2017-10-08 21:05'</td>\n",
       "      <td>2017-10-09 01:05'</td>\n",
       "      <td>Doug Baldwin OR @DougBaldwinJr'</td>\n",
       "    </tr>\n",
       "    <tr>\n",
       "      <th>2</th>\n",
       "      <td>Jimmy Graham</td>\n",
       "      <td>@TheJimmyGraham'</td>\n",
       "      <td>Seattle Seahawks</td>\n",
       "      <td>W</td>\n",
       "      <td>2017-09-10 21:25'</td>\n",
       "      <td>2017-09-11 01:25'</td>\n",
       "      <td>2017-09-17 21:25'</td>\n",
       "      <td>2017-09-18 01:25'</td>\n",
       "      <td>2017-09-24 21:05'</td>\n",
       "      <td>2017-09-25 01:05'</td>\n",
       "      <td>2017-10-02 01:30'</td>\n",
       "      <td>2017-10-02 05:30'</td>\n",
       "      <td>2017-10-08 21:05'</td>\n",
       "      <td>2017-10-09 01:05'</td>\n",
       "      <td>Jimmy Graham OR @TheJimmyGraham'</td>\n",
       "    </tr>\n",
       "  </tbody>\n",
       "</table>\n",
       "</div>"
      ],
      "text/plain": [
       "             Name     Twitter_handle              Team Race  \\\n",
       "0  Russell Wilson  @DangeRussWilson'  Seattle Seahawks    B   \n",
       "1    Doug Baldwin    @DougBaldwinJr'  Seattle Seahawks    B   \n",
       "2    Jimmy Graham   @TheJimmyGraham'  Seattle Seahawks    W   \n",
       "\n",
       "            T1_start             T1_end           T2_start             T2_end  \\\n",
       "0  2017-09-10 21:25'  2017-09-11 01:25'  2017-09-17 21:25'  2017-09-18 01:25'   \n",
       "1  2017-09-10 21:25'  2017-09-11 01:25'  2017-09-17 21:25'  2017-09-18 01:25'   \n",
       "2  2017-09-10 21:25'  2017-09-11 01:25'  2017-09-17 21:25'  2017-09-18 01:25'   \n",
       "\n",
       "            T3_start             T3_end           T4_start             T4_end  \\\n",
       "0  2017-09-24 21:05'  2017-09-25 01:05'  2017-10-02 01:30'  2017-10-02 05:30'   \n",
       "1  2017-09-24 21:05'  2017-09-25 01:05'  2017-10-02 01:30'  2017-10-02 05:30'   \n",
       "2  2017-09-24 21:05'  2017-09-25 01:05'  2017-10-02 01:30'  2017-10-02 05:30'   \n",
       "\n",
       "            T5_start             T5_end                         full_twitter  \n",
       "0  2017-10-08 21:05'  2017-10-09 01:05'  Russell Wilson OR @DangeRussWilson'  \n",
       "1  2017-10-08 21:05'  2017-10-09 01:05'      Doug Baldwin OR @DougBaldwinJr'  \n",
       "2  2017-10-08 21:05'  2017-10-09 01:05'     Jimmy Graham OR @TheJimmyGraham'  "
      ]
     },
     "execution_count": 18,
     "metadata": {},
     "output_type": "execute_result"
    }
   ],
   "source": [
    "data_t1_3"
   ]
  },
  {
   "cell_type": "code",
   "execution_count": null,
   "metadata": {},
   "outputs": [],
   "source": [
    "#getting tweets"
   ]
  },
  {
   "cell_type": "code",
   "execution_count": null,
   "metadata": {},
   "outputs": [],
   "source": [
    "data_t1_3_tweets = get_tweets(data_t1_3, start = 'T1_start', end = 'T1_end')"
   ]
  },
  {
   "cell_type": "code",
   "execution_count": null,
   "metadata": {},
   "outputs": [],
   "source": [
    "#saving at csv"
   ]
  },
  {
   "cell_type": "code",
   "execution_count": null,
   "metadata": {},
   "outputs": [],
   "source": [
    "data_t1_3_tweets.to_csv(\"~/Documents/nfl sentiment/final_data/tweets_t1_3.csv\", index = False)"
   ]
  },
  {
   "cell_type": "code",
   "execution_count": null,
   "metadata": {},
   "outputs": [],
   "source": []
  },
  {
   "cell_type": "code",
   "execution_count": null,
   "metadata": {},
   "outputs": [],
   "source": []
  },
  {
   "cell_type": "code",
   "execution_count": null,
   "metadata": {},
   "outputs": [],
   "source": [
    "####T1-4"
   ]
  },
  {
   "cell_type": "code",
   "execution_count": null,
   "metadata": {},
   "outputs": [],
   "source": []
  },
  {
   "cell_type": "code",
   "execution_count": null,
   "metadata": {},
   "outputs": [],
   "source": []
  },
  {
   "cell_type": "code",
   "execution_count": null,
   "metadata": {},
   "outputs": [],
   "source": [
    "#getting the data"
   ]
  },
  {
   "cell_type": "code",
   "execution_count": 21,
   "metadata": {},
   "outputs": [],
   "source": [
    "teams = [\"Cincinnati Bengals\"]\n",
    "data_t1_4 = get_data(teams)"
   ]
  },
  {
   "cell_type": "code",
   "execution_count": 22,
   "metadata": {
    "scrolled": true
   },
   "outputs": [
    {
     "data": {
      "text/html": [
       "<div>\n",
       "<style scoped>\n",
       "    .dataframe tbody tr th:only-of-type {\n",
       "        vertical-align: middle;\n",
       "    }\n",
       "\n",
       "    .dataframe tbody tr th {\n",
       "        vertical-align: top;\n",
       "    }\n",
       "\n",
       "    .dataframe thead th {\n",
       "        text-align: right;\n",
       "    }\n",
       "</style>\n",
       "<table border=\"1\" class=\"dataframe\">\n",
       "  <thead>\n",
       "    <tr style=\"text-align: right;\">\n",
       "      <th></th>\n",
       "      <th>Name</th>\n",
       "      <th>Twitter_handle</th>\n",
       "      <th>Team</th>\n",
       "      <th>Race</th>\n",
       "      <th>T1_start</th>\n",
       "      <th>T1_end</th>\n",
       "      <th>T2_start</th>\n",
       "      <th>T2_end</th>\n",
       "      <th>T3_start</th>\n",
       "      <th>T3_end</th>\n",
       "      <th>T4_start</th>\n",
       "      <th>T4_end</th>\n",
       "      <th>T5_start</th>\n",
       "      <th>T5_end</th>\n",
       "      <th>full_twitter</th>\n",
       "    </tr>\n",
       "  </thead>\n",
       "  <tbody>\n",
       "    <tr>\n",
       "      <th>18</th>\n",
       "      <td>Andy Dalton</td>\n",
       "      <td>@andydalton14'</td>\n",
       "      <td>Cincinnati Bengals</td>\n",
       "      <td>W</td>\n",
       "      <td>2017-09-10 18:00'</td>\n",
       "      <td>2017-09-10 22:00'</td>\n",
       "      <td>2017-09-15 01:25'</td>\n",
       "      <td>2017-09-15 05:25'</td>\n",
       "      <td>2017-09-24 21:25'</td>\n",
       "      <td>2017-09-25 01:25'</td>\n",
       "      <td>2017-10-01 18:00'</td>\n",
       "      <td>2017-10-01 22:00'</td>\n",
       "      <td>2017-10-08 18:00'</td>\n",
       "      <td>2017-10-08 22:00'</td>\n",
       "      <td>Andy Dalton OR @andydalton14'</td>\n",
       "    </tr>\n",
       "    <tr>\n",
       "      <th>19</th>\n",
       "      <td>Tyler Kroft</td>\n",
       "      <td>@Kroft86'</td>\n",
       "      <td>Cincinnati Bengals</td>\n",
       "      <td>W</td>\n",
       "      <td>2017-09-10 18:00'</td>\n",
       "      <td>2017-09-10 22:00'</td>\n",
       "      <td>2017-09-15 01:25'</td>\n",
       "      <td>2017-09-15 05:25'</td>\n",
       "      <td>2017-09-24 21:25'</td>\n",
       "      <td>2017-09-25 01:25'</td>\n",
       "      <td>2017-10-01 18:00'</td>\n",
       "      <td>2017-10-01 22:00'</td>\n",
       "      <td>2017-10-08 18:00'</td>\n",
       "      <td>2017-10-08 22:00'</td>\n",
       "      <td>Tyler Kroft OR @Kroft86'</td>\n",
       "    </tr>\n",
       "    <tr>\n",
       "      <th>20</th>\n",
       "      <td>A.J. Green</td>\n",
       "      <td>@ajgreen_18'</td>\n",
       "      <td>Cincinnati Bengals</td>\n",
       "      <td>B</td>\n",
       "      <td>2017-09-10 18:00'</td>\n",
       "      <td>2017-09-10 22:00'</td>\n",
       "      <td>2017-09-15 01:25'</td>\n",
       "      <td>2017-09-15 05:25'</td>\n",
       "      <td>2017-09-24 21:25'</td>\n",
       "      <td>2017-09-25 01:25'</td>\n",
       "      <td>2017-10-01 18:00'</td>\n",
       "      <td>2017-10-01 22:00'</td>\n",
       "      <td>2017-10-08 18:00'</td>\n",
       "      <td>2017-10-08 22:00'</td>\n",
       "      <td>A.J. Green OR @ajgreen_18'</td>\n",
       "    </tr>\n",
       "  </tbody>\n",
       "</table>\n",
       "</div>"
      ],
      "text/plain": [
       "           Name  Twitter_handle                Team Race           T1_start  \\\n",
       "18  Andy Dalton  @andydalton14'  Cincinnati Bengals    W  2017-09-10 18:00'   \n",
       "19  Tyler Kroft       @Kroft86'  Cincinnati Bengals    W  2017-09-10 18:00'   \n",
       "20   A.J. Green    @ajgreen_18'  Cincinnati Bengals    B  2017-09-10 18:00'   \n",
       "\n",
       "               T1_end           T2_start             T2_end  \\\n",
       "18  2017-09-10 22:00'  2017-09-15 01:25'  2017-09-15 05:25'   \n",
       "19  2017-09-10 22:00'  2017-09-15 01:25'  2017-09-15 05:25'   \n",
       "20  2017-09-10 22:00'  2017-09-15 01:25'  2017-09-15 05:25'   \n",
       "\n",
       "             T3_start             T3_end           T4_start  \\\n",
       "18  2017-09-24 21:25'  2017-09-25 01:25'  2017-10-01 18:00'   \n",
       "19  2017-09-24 21:25'  2017-09-25 01:25'  2017-10-01 18:00'   \n",
       "20  2017-09-24 21:25'  2017-09-25 01:25'  2017-10-01 18:00'   \n",
       "\n",
       "               T4_end           T5_start             T5_end  \\\n",
       "18  2017-10-01 22:00'  2017-10-08 18:00'  2017-10-08 22:00'   \n",
       "19  2017-10-01 22:00'  2017-10-08 18:00'  2017-10-08 22:00'   \n",
       "20  2017-10-01 22:00'  2017-10-08 18:00'  2017-10-08 22:00'   \n",
       "\n",
       "                     full_twitter  \n",
       "18  Andy Dalton OR @andydalton14'  \n",
       "19       Tyler Kroft OR @Kroft86'  \n",
       "20     A.J. Green OR @ajgreen_18'  "
      ]
     },
     "execution_count": 22,
     "metadata": {},
     "output_type": "execute_result"
    }
   ],
   "source": [
    "data_t1_4"
   ]
  },
  {
   "cell_type": "code",
   "execution_count": null,
   "metadata": {},
   "outputs": [],
   "source": [
    "#getting tweets"
   ]
  },
  {
   "cell_type": "code",
   "execution_count": null,
   "metadata": {},
   "outputs": [],
   "source": [
    "data_t1_4_tweets = get_tweets(data_t1_4, start = 'T1_start', end = 'T1_end')"
   ]
  },
  {
   "cell_type": "code",
   "execution_count": null,
   "metadata": {},
   "outputs": [],
   "source": [
    "#saving at csv"
   ]
  },
  {
   "cell_type": "code",
   "execution_count": null,
   "metadata": {},
   "outputs": [],
   "source": [
    "data_t1_4_tweets.to_csv(\"~/Documents/nfl sentiment/final_data/tweets_t1_4.csv\", index = False)"
   ]
  },
  {
   "cell_type": "code",
   "execution_count": null,
   "metadata": {},
   "outputs": [],
   "source": []
  },
  {
   "cell_type": "code",
   "execution_count": null,
   "metadata": {},
   "outputs": [],
   "source": [
    "#appending for T1"
   ]
  },
  {
   "cell_type": "code",
   "execution_count": null,
   "metadata": {},
   "outputs": [],
   "source": [
    "T1 = pd.concat([data_t1_1_tweets, data_t1_2_tweets, \n",
    "                data_t1_3_tweets, data_t1_4_tweets])"
   ]
  },
  {
   "cell_type": "code",
   "execution_count": null,
   "metadata": {},
   "outputs": [],
   "source": [
    "T1.to_csv(\"~/Documents/nfl sentiment/final_data/tweets_t1_all.csv\", index = False)"
   ]
  },
  {
   "cell_type": "code",
   "execution_count": null,
   "metadata": {},
   "outputs": [],
   "source": []
  },
  {
   "cell_type": "code",
   "execution_count": null,
   "metadata": {},
   "outputs": [],
   "source": []
  },
  {
   "cell_type": "code",
   "execution_count": null,
   "metadata": {},
   "outputs": [],
   "source": [
    "####T2-1"
   ]
  },
  {
   "cell_type": "code",
   "execution_count": null,
   "metadata": {},
   "outputs": [],
   "source": []
  },
  {
   "cell_type": "code",
   "execution_count": null,
   "metadata": {},
   "outputs": [],
   "source": []
  },
  {
   "cell_type": "code",
   "execution_count": null,
   "metadata": {},
   "outputs": [],
   "source": [
    "#getting the data"
   ]
  },
  {
   "cell_type": "code",
   "execution_count": 13,
   "metadata": {},
   "outputs": [],
   "source": [
    "teams = [\"Kansas City Chiefs\"]\n",
    "data_t2_1 = get_data(teams)"
   ]
  },
  {
   "cell_type": "code",
   "execution_count": 14,
   "metadata": {
    "scrolled": true
   },
   "outputs": [
    {
     "data": {
      "text/html": [
       "<div>\n",
       "<style scoped>\n",
       "    .dataframe tbody tr th:only-of-type {\n",
       "        vertical-align: middle;\n",
       "    }\n",
       "\n",
       "    .dataframe tbody tr th {\n",
       "        vertical-align: top;\n",
       "    }\n",
       "\n",
       "    .dataframe thead th {\n",
       "        text-align: right;\n",
       "    }\n",
       "</style>\n",
       "<table border=\"1\" class=\"dataframe\">\n",
       "  <thead>\n",
       "    <tr style=\"text-align: right;\">\n",
       "      <th></th>\n",
       "      <th>Name</th>\n",
       "      <th>Twitter_handle</th>\n",
       "      <th>Team</th>\n",
       "      <th>Race</th>\n",
       "      <th>T1_start</th>\n",
       "      <th>T1_end</th>\n",
       "      <th>T2_start</th>\n",
       "      <th>T2_end</th>\n",
       "      <th>T3_start</th>\n",
       "      <th>T3_end</th>\n",
       "      <th>T4_start</th>\n",
       "      <th>T4_end</th>\n",
       "      <th>T5_start</th>\n",
       "      <th>T5_end</th>\n",
       "      <th>full_twitter</th>\n",
       "    </tr>\n",
       "  </thead>\n",
       "  <tbody>\n",
       "    <tr>\n",
       "      <th>3</th>\n",
       "      <td>Cam Newton</td>\n",
       "      <td>@CameronNewton'</td>\n",
       "      <td>Carolina Panthers</td>\n",
       "      <td>B</td>\n",
       "      <td>2017-09-17 18:00'</td>\n",
       "      <td>2017-09-17 22:00'</td>\n",
       "      <td>2017-09-24 18:00'</td>\n",
       "      <td>2017-09-24 22:00'</td>\n",
       "      <td>2017-10-01 18:00'</td>\n",
       "      <td>2017-10-01 22:00'</td>\n",
       "      <td>2017-10-08 18:00'</td>\n",
       "      <td>2017-10-08 22:00'</td>\n",
       "      <td>2017-10-13 01:25'</td>\n",
       "      <td>2017-10-13 05:25'</td>\n",
       "      <td>Cam Newton OR @CameronNewton'</td>\n",
       "    </tr>\n",
       "    <tr>\n",
       "      <th>4</th>\n",
       "      <td>Devin Funchess</td>\n",
       "      <td>@D_FUNCH'</td>\n",
       "      <td>Carolina Panthers</td>\n",
       "      <td>B</td>\n",
       "      <td>2017-09-17 18:00'</td>\n",
       "      <td>2017-09-17 22:00'</td>\n",
       "      <td>2017-09-24 18:00'</td>\n",
       "      <td>2017-09-24 22:00'</td>\n",
       "      <td>2017-10-01 18:00'</td>\n",
       "      <td>2017-10-01 22:00'</td>\n",
       "      <td>2017-10-08 18:00'</td>\n",
       "      <td>2017-10-08 22:00'</td>\n",
       "      <td>2017-10-13 01:25'</td>\n",
       "      <td>2017-10-13 05:25'</td>\n",
       "      <td>Devin Funchess OR @D_FUNCH'</td>\n",
       "    </tr>\n",
       "    <tr>\n",
       "      <th>5</th>\n",
       "      <td>Christian McCaffrey</td>\n",
       "      <td>@run__cmc'</td>\n",
       "      <td>Carolina Panthers</td>\n",
       "      <td>W</td>\n",
       "      <td>2017-09-17 18:00'</td>\n",
       "      <td>2017-09-17 22:00'</td>\n",
       "      <td>2017-09-24 18:00'</td>\n",
       "      <td>2017-09-24 22:00'</td>\n",
       "      <td>2017-10-01 18:00'</td>\n",
       "      <td>2017-10-01 22:00'</td>\n",
       "      <td>2017-10-08 18:00'</td>\n",
       "      <td>2017-10-08 22:00'</td>\n",
       "      <td>2017-10-13 01:25'</td>\n",
       "      <td>2017-10-13 05:25'</td>\n",
       "      <td>Christian McCaffrey OR @run__cmc'</td>\n",
       "    </tr>\n",
       "    <tr>\n",
       "      <th>9</th>\n",
       "      <td>Jameis Winston</td>\n",
       "      <td>@Jaboowins'</td>\n",
       "      <td>Tampa Bay Buccaneers</td>\n",
       "      <td>B</td>\n",
       "      <td>2017-09-17 18:00'</td>\n",
       "      <td>2017-09-17 22:00'</td>\n",
       "      <td>2017-09-24 18:00'</td>\n",
       "      <td>2017-09-24 22:00'</td>\n",
       "      <td>2017-10-01 21:05'</td>\n",
       "      <td>2017-10-02 01:05'</td>\n",
       "      <td>2017-10-06 01:25'</td>\n",
       "      <td>2017-10-06 05:25'</td>\n",
       "      <td>2017-10-15 21:05'</td>\n",
       "      <td>2017-10-16 01:05'</td>\n",
       "      <td>Jameis Winston OR @Jaboowins'</td>\n",
       "    </tr>\n",
       "    <tr>\n",
       "      <th>10</th>\n",
       "      <td>Mike Evans</td>\n",
       "      <td>@MikeEvans13_'</td>\n",
       "      <td>Tampa Bay Buccaneers</td>\n",
       "      <td>B</td>\n",
       "      <td>2017-09-17 18:00'</td>\n",
       "      <td>2017-09-17 22:00'</td>\n",
       "      <td>2017-09-24 18:00'</td>\n",
       "      <td>2017-09-24 22:00'</td>\n",
       "      <td>2017-10-01 21:05'</td>\n",
       "      <td>2017-10-02 01:05'</td>\n",
       "      <td>2017-10-06 01:25'</td>\n",
       "      <td>2017-10-06 05:25'</td>\n",
       "      <td>2017-10-15 21:05'</td>\n",
       "      <td>2017-10-16 01:05'</td>\n",
       "      <td>Mike Evans OR @MikeEvans13_'</td>\n",
       "    </tr>\n",
       "    <tr>\n",
       "      <th>11</th>\n",
       "      <td>Adam Humphries</td>\n",
       "      <td>@adamhumphries13'</td>\n",
       "      <td>Tampa Bay Buccaneers</td>\n",
       "      <td>W</td>\n",
       "      <td>2017-09-17 18:00'</td>\n",
       "      <td>2017-09-17 22:00'</td>\n",
       "      <td>2017-09-24 18:00'</td>\n",
       "      <td>2017-09-24 22:00'</td>\n",
       "      <td>2017-10-01 21:05'</td>\n",
       "      <td>2017-10-02 01:05'</td>\n",
       "      <td>2017-10-06 01:25'</td>\n",
       "      <td>2017-10-06 05:25'</td>\n",
       "      <td>2017-10-15 21:05'</td>\n",
       "      <td>2017-10-16 01:05'</td>\n",
       "      <td>Adam Humphries OR @adamhumphries13'</td>\n",
       "    </tr>\n",
       "    <tr>\n",
       "      <th>12</th>\n",
       "      <td>Carson Wentz</td>\n",
       "      <td>@cj_wentz'</td>\n",
       "      <td>Philadelphia Eagles</td>\n",
       "      <td>W</td>\n",
       "      <td>2017-09-17 18:00'</td>\n",
       "      <td>2017-09-17 22:00'</td>\n",
       "      <td>2017-09-24 18:00'</td>\n",
       "      <td>2017-09-24 22:00'</td>\n",
       "      <td>2017-10-01 21:05'</td>\n",
       "      <td>2017-10-02 01:05'</td>\n",
       "      <td>2017-10-08 18:00'</td>\n",
       "      <td>2017-10-08 22:00'</td>\n",
       "      <td>2017-10-13 01:25'</td>\n",
       "      <td>2017-10-13 05:25'</td>\n",
       "      <td>Carson Wentz OR @cj_wentz'</td>\n",
       "    </tr>\n",
       "    <tr>\n",
       "      <th>13</th>\n",
       "      <td>Zach Ertz</td>\n",
       "      <td>@ZERTZ_86'</td>\n",
       "      <td>Philadelphia Eagles</td>\n",
       "      <td>W</td>\n",
       "      <td>2017-09-17 18:00'</td>\n",
       "      <td>2017-09-17 22:00'</td>\n",
       "      <td>2017-09-24 18:00'</td>\n",
       "      <td>2017-09-24 22:00'</td>\n",
       "      <td>2017-10-01 21:05'</td>\n",
       "      <td>2017-10-02 01:05'</td>\n",
       "      <td>2017-10-08 18:00'</td>\n",
       "      <td>2017-10-08 22:00'</td>\n",
       "      <td>2017-10-13 01:25'</td>\n",
       "      <td>2017-10-13 05:25'</td>\n",
       "      <td>Zach Ertz OR @ZERTZ_86'</td>\n",
       "    </tr>\n",
       "    <tr>\n",
       "      <th>14</th>\n",
       "      <td>Alshon Jeffrey</td>\n",
       "      <td>@TheWorldof_AJ'</td>\n",
       "      <td>Philadelphia Eagles</td>\n",
       "      <td>B</td>\n",
       "      <td>2017-09-17 18:00'</td>\n",
       "      <td>2017-09-17 22:00'</td>\n",
       "      <td>2017-09-24 18:00'</td>\n",
       "      <td>2017-09-24 22:00'</td>\n",
       "      <td>2017-10-01 21:05'</td>\n",
       "      <td>2017-10-02 01:05'</td>\n",
       "      <td>2017-10-08 18:00'</td>\n",
       "      <td>2017-10-08 22:00'</td>\n",
       "      <td>2017-10-13 01:25'</td>\n",
       "      <td>2017-10-13 05:25'</td>\n",
       "      <td>Alshon Jeffrey OR @TheWorldof_AJ'</td>\n",
       "    </tr>\n",
       "    <tr>\n",
       "      <th>15</th>\n",
       "      <td>Alex Smith</td>\n",
       "      <td>NaN</td>\n",
       "      <td>Kansas City Chiefs</td>\n",
       "      <td>W</td>\n",
       "      <td>2017-09-17 18:00'</td>\n",
       "      <td>2017-09-17 22:00'</td>\n",
       "      <td>2017-09-24 21:25'</td>\n",
       "      <td>2017-09-25 01:25'</td>\n",
       "      <td>2017-10-03 01:30'</td>\n",
       "      <td>2017-10-03 05:30'</td>\n",
       "      <td>2017-10-09 01:30'</td>\n",
       "      <td>2017-10-09 05:30'</td>\n",
       "      <td>2017-10-15 21:25'</td>\n",
       "      <td>2017-10-16 01:25'</td>\n",
       "      <td>Alex Smith</td>\n",
       "    </tr>\n",
       "    <tr>\n",
       "      <th>16</th>\n",
       "      <td>Travis Kelce</td>\n",
       "      <td>@tkelce'</td>\n",
       "      <td>Kansas City Chiefs</td>\n",
       "      <td>W</td>\n",
       "      <td>2017-09-17 18:00'</td>\n",
       "      <td>2017-09-17 22:00'</td>\n",
       "      <td>2017-09-24 21:25'</td>\n",
       "      <td>2017-09-25 01:25'</td>\n",
       "      <td>2017-10-03 01:30'</td>\n",
       "      <td>2017-10-03 05:30'</td>\n",
       "      <td>2017-10-09 01:30'</td>\n",
       "      <td>2017-10-09 05:30'</td>\n",
       "      <td>2017-10-15 21:25'</td>\n",
       "      <td>2017-10-16 01:25'</td>\n",
       "      <td>Travis Kelce OR @tkelce'</td>\n",
       "    </tr>\n",
       "    <tr>\n",
       "      <th>17</th>\n",
       "      <td>Tyreek Hill</td>\n",
       "      <td>@cheetah'</td>\n",
       "      <td>Kansas City Chiefs</td>\n",
       "      <td>B</td>\n",
       "      <td>2017-09-17 18:00'</td>\n",
       "      <td>2017-09-17 22:00'</td>\n",
       "      <td>2017-09-24 21:25'</td>\n",
       "      <td>2017-09-25 01:25'</td>\n",
       "      <td>2017-10-03 01:30'</td>\n",
       "      <td>2017-10-03 05:30'</td>\n",
       "      <td>2017-10-09 01:30'</td>\n",
       "      <td>2017-10-09 05:30'</td>\n",
       "      <td>2017-10-15 21:25'</td>\n",
       "      <td>2017-10-16 01:25'</td>\n",
       "      <td>Tyreek Hill OR @cheetah'</td>\n",
       "    </tr>\n",
       "    <tr>\n",
       "      <th>21</th>\n",
       "      <td>Joe Flacco</td>\n",
       "      <td>@JoeFlacco'</td>\n",
       "      <td>Baltimore Ravens</td>\n",
       "      <td>W</td>\n",
       "      <td>2017-09-17 18:00'</td>\n",
       "      <td>2017-09-17 22:00'</td>\n",
       "      <td>2017-09-24 14:30'</td>\n",
       "      <td>2017-09-24 18:30'</td>\n",
       "      <td>2017-10-01 18:00'</td>\n",
       "      <td>2017-10-01 22:00'</td>\n",
       "      <td>2017-10-08 21:05'</td>\n",
       "      <td>2017-10-09 01:05'</td>\n",
       "      <td>2017-10-15 18:00'</td>\n",
       "      <td>2017-10-15 22:00'</td>\n",
       "      <td>Joe Flacco OR @JoeFlacco'</td>\n",
       "    </tr>\n",
       "    <tr>\n",
       "      <th>22</th>\n",
       "      <td>Nick Boyle</td>\n",
       "      <td>@nickboyle86'</td>\n",
       "      <td>Baltimore Ravens</td>\n",
       "      <td>W</td>\n",
       "      <td>2017-09-17 18:00'</td>\n",
       "      <td>2017-09-17 22:00'</td>\n",
       "      <td>2017-09-24 14:30'</td>\n",
       "      <td>2017-09-24 18:30'</td>\n",
       "      <td>2017-10-01 18:00'</td>\n",
       "      <td>2017-10-01 22:00'</td>\n",
       "      <td>2017-10-08 21:05'</td>\n",
       "      <td>2017-10-09 01:05'</td>\n",
       "      <td>2017-10-15 18:00'</td>\n",
       "      <td>2017-10-15 22:00'</td>\n",
       "      <td>Nick Boyle OR @nickboyle86'</td>\n",
       "    </tr>\n",
       "    <tr>\n",
       "      <th>23</th>\n",
       "      <td>Mike Wallace</td>\n",
       "      <td>@Wallace17_daKid'</td>\n",
       "      <td>Baltimore Ravens</td>\n",
       "      <td>B</td>\n",
       "      <td>2017-09-17 18:00'</td>\n",
       "      <td>2017-09-17 22:00'</td>\n",
       "      <td>2017-09-24 14:30'</td>\n",
       "      <td>2017-09-24 18:30'</td>\n",
       "      <td>2017-10-01 18:00'</td>\n",
       "      <td>2017-10-01 22:00'</td>\n",
       "      <td>2017-10-08 21:05'</td>\n",
       "      <td>2017-10-09 01:05'</td>\n",
       "      <td>2017-10-15 18:00'</td>\n",
       "      <td>2017-10-15 22:00'</td>\n",
       "      <td>Mike Wallace OR @Wallace17_daKid'</td>\n",
       "    </tr>\n",
       "  </tbody>\n",
       "</table>\n",
       "</div>"
      ],
      "text/plain": [
       "                   Name     Twitter_handle                  Team Race  \\\n",
       "3            Cam Newton    @CameronNewton'     Carolina Panthers    B   \n",
       "4        Devin Funchess          @D_FUNCH'     Carolina Panthers    B   \n",
       "5   Christian McCaffrey         @run__cmc'     Carolina Panthers    W   \n",
       "9        Jameis Winston        @Jaboowins'  Tampa Bay Buccaneers    B   \n",
       "10           Mike Evans     @MikeEvans13_'  Tampa Bay Buccaneers    B   \n",
       "11       Adam Humphries  @adamhumphries13'  Tampa Bay Buccaneers    W   \n",
       "12         Carson Wentz         @cj_wentz'   Philadelphia Eagles    W   \n",
       "13            Zach Ertz         @ZERTZ_86'   Philadelphia Eagles    W   \n",
       "14       Alshon Jeffrey    @TheWorldof_AJ'   Philadelphia Eagles    B   \n",
       "15           Alex Smith                NaN    Kansas City Chiefs    W   \n",
       "16         Travis Kelce           @tkelce'    Kansas City Chiefs    W   \n",
       "17          Tyreek Hill          @cheetah'    Kansas City Chiefs    B   \n",
       "21           Joe Flacco        @JoeFlacco'      Baltimore Ravens    W   \n",
       "22           Nick Boyle      @nickboyle86'      Baltimore Ravens    W   \n",
       "23         Mike Wallace  @Wallace17_daKid'      Baltimore Ravens    B   \n",
       "\n",
       "             T1_start             T1_end           T2_start  \\\n",
       "3   2017-09-17 18:00'  2017-09-17 22:00'  2017-09-24 18:00'   \n",
       "4   2017-09-17 18:00'  2017-09-17 22:00'  2017-09-24 18:00'   \n",
       "5   2017-09-17 18:00'  2017-09-17 22:00'  2017-09-24 18:00'   \n",
       "9   2017-09-17 18:00'  2017-09-17 22:00'  2017-09-24 18:00'   \n",
       "10  2017-09-17 18:00'  2017-09-17 22:00'  2017-09-24 18:00'   \n",
       "11  2017-09-17 18:00'  2017-09-17 22:00'  2017-09-24 18:00'   \n",
       "12  2017-09-17 18:00'  2017-09-17 22:00'  2017-09-24 18:00'   \n",
       "13  2017-09-17 18:00'  2017-09-17 22:00'  2017-09-24 18:00'   \n",
       "14  2017-09-17 18:00'  2017-09-17 22:00'  2017-09-24 18:00'   \n",
       "15  2017-09-17 18:00'  2017-09-17 22:00'  2017-09-24 21:25'   \n",
       "16  2017-09-17 18:00'  2017-09-17 22:00'  2017-09-24 21:25'   \n",
       "17  2017-09-17 18:00'  2017-09-17 22:00'  2017-09-24 21:25'   \n",
       "21  2017-09-17 18:00'  2017-09-17 22:00'  2017-09-24 14:30'   \n",
       "22  2017-09-17 18:00'  2017-09-17 22:00'  2017-09-24 14:30'   \n",
       "23  2017-09-17 18:00'  2017-09-17 22:00'  2017-09-24 14:30'   \n",
       "\n",
       "               T2_end           T3_start             T3_end  \\\n",
       "3   2017-09-24 22:00'  2017-10-01 18:00'  2017-10-01 22:00'   \n",
       "4   2017-09-24 22:00'  2017-10-01 18:00'  2017-10-01 22:00'   \n",
       "5   2017-09-24 22:00'  2017-10-01 18:00'  2017-10-01 22:00'   \n",
       "9   2017-09-24 22:00'  2017-10-01 21:05'  2017-10-02 01:05'   \n",
       "10  2017-09-24 22:00'  2017-10-01 21:05'  2017-10-02 01:05'   \n",
       "11  2017-09-24 22:00'  2017-10-01 21:05'  2017-10-02 01:05'   \n",
       "12  2017-09-24 22:00'  2017-10-01 21:05'  2017-10-02 01:05'   \n",
       "13  2017-09-24 22:00'  2017-10-01 21:05'  2017-10-02 01:05'   \n",
       "14  2017-09-24 22:00'  2017-10-01 21:05'  2017-10-02 01:05'   \n",
       "15  2017-09-25 01:25'  2017-10-03 01:30'  2017-10-03 05:30'   \n",
       "16  2017-09-25 01:25'  2017-10-03 01:30'  2017-10-03 05:30'   \n",
       "17  2017-09-25 01:25'  2017-10-03 01:30'  2017-10-03 05:30'   \n",
       "21  2017-09-24 18:30'  2017-10-01 18:00'  2017-10-01 22:00'   \n",
       "22  2017-09-24 18:30'  2017-10-01 18:00'  2017-10-01 22:00'   \n",
       "23  2017-09-24 18:30'  2017-10-01 18:00'  2017-10-01 22:00'   \n",
       "\n",
       "             T4_start             T4_end           T5_start  \\\n",
       "3   2017-10-08 18:00'  2017-10-08 22:00'  2017-10-13 01:25'   \n",
       "4   2017-10-08 18:00'  2017-10-08 22:00'  2017-10-13 01:25'   \n",
       "5   2017-10-08 18:00'  2017-10-08 22:00'  2017-10-13 01:25'   \n",
       "9   2017-10-06 01:25'  2017-10-06 05:25'  2017-10-15 21:05'   \n",
       "10  2017-10-06 01:25'  2017-10-06 05:25'  2017-10-15 21:05'   \n",
       "11  2017-10-06 01:25'  2017-10-06 05:25'  2017-10-15 21:05'   \n",
       "12  2017-10-08 18:00'  2017-10-08 22:00'  2017-10-13 01:25'   \n",
       "13  2017-10-08 18:00'  2017-10-08 22:00'  2017-10-13 01:25'   \n",
       "14  2017-10-08 18:00'  2017-10-08 22:00'  2017-10-13 01:25'   \n",
       "15  2017-10-09 01:30'  2017-10-09 05:30'  2017-10-15 21:25'   \n",
       "16  2017-10-09 01:30'  2017-10-09 05:30'  2017-10-15 21:25'   \n",
       "17  2017-10-09 01:30'  2017-10-09 05:30'  2017-10-15 21:25'   \n",
       "21  2017-10-08 21:05'  2017-10-09 01:05'  2017-10-15 18:00'   \n",
       "22  2017-10-08 21:05'  2017-10-09 01:05'  2017-10-15 18:00'   \n",
       "23  2017-10-08 21:05'  2017-10-09 01:05'  2017-10-15 18:00'   \n",
       "\n",
       "               T5_end                         full_twitter  \n",
       "3   2017-10-13 05:25'        Cam Newton OR @CameronNewton'  \n",
       "4   2017-10-13 05:25'          Devin Funchess OR @D_FUNCH'  \n",
       "5   2017-10-13 05:25'    Christian McCaffrey OR @run__cmc'  \n",
       "9   2017-10-16 01:05'        Jameis Winston OR @Jaboowins'  \n",
       "10  2017-10-16 01:05'         Mike Evans OR @MikeEvans13_'  \n",
       "11  2017-10-16 01:05'  Adam Humphries OR @adamhumphries13'  \n",
       "12  2017-10-13 05:25'           Carson Wentz OR @cj_wentz'  \n",
       "13  2017-10-13 05:25'              Zach Ertz OR @ZERTZ_86'  \n",
       "14  2017-10-13 05:25'    Alshon Jeffrey OR @TheWorldof_AJ'  \n",
       "15  2017-10-16 01:25'                           Alex Smith  \n",
       "16  2017-10-16 01:25'             Travis Kelce OR @tkelce'  \n",
       "17  2017-10-16 01:25'             Tyreek Hill OR @cheetah'  \n",
       "21  2017-10-15 22:00'            Joe Flacco OR @JoeFlacco'  \n",
       "22  2017-10-15 22:00'          Nick Boyle OR @nickboyle86'  \n",
       "23  2017-10-15 22:00'    Mike Wallace OR @Wallace17_daKid'  "
      ]
     },
     "execution_count": 14,
     "metadata": {},
     "output_type": "execute_result"
    }
   ],
   "source": [
    "data_t2_1"
   ]
  },
  {
   "cell_type": "code",
   "execution_count": null,
   "metadata": {},
   "outputs": [],
   "source": [
    "#getting tweets"
   ]
  },
  {
   "cell_type": "code",
   "execution_count": null,
   "metadata": {},
   "outputs": [],
   "source": [
    "data_t2_1_tweets = get_tweets(data_t2_1, start = 'T2_start', end = 'T2_end')"
   ]
  },
  {
   "cell_type": "code",
   "execution_count": null,
   "metadata": {},
   "outputs": [],
   "source": [
    "#saving at csv"
   ]
  },
  {
   "cell_type": "code",
   "execution_count": null,
   "metadata": {},
   "outputs": [],
   "source": [
    "data_t2_1_tweets.to_csv(\"~/Documents/nfl sentiment/final_data/tweets_t2_1.csv\", index = False)"
   ]
  },
  {
   "cell_type": "code",
   "execution_count": null,
   "metadata": {},
   "outputs": [],
   "source": []
  },
  {
   "cell_type": "code",
   "execution_count": null,
   "metadata": {},
   "outputs": [],
   "source": []
  },
  {
   "cell_type": "code",
   "execution_count": null,
   "metadata": {},
   "outputs": [],
   "source": [
    "####T2-2"
   ]
  },
  {
   "cell_type": "code",
   "execution_count": null,
   "metadata": {},
   "outputs": [],
   "source": []
  },
  {
   "cell_type": "code",
   "execution_count": null,
   "metadata": {},
   "outputs": [],
   "source": []
  },
  {
   "cell_type": "code",
   "execution_count": null,
   "metadata": {},
   "outputs": [],
   "source": [
    "#getting the data"
   ]
  },
  {
   "cell_type": "code",
   "execution_count": 34,
   "metadata": {},
   "outputs": [],
   "source": [
    "teams = [\"Tampa Bay Buccaneers\", \"Philadelphia Eagles\", \"Carolina Panthers\"]\n",
    "data_t2_2 = get_data(teams)"
   ]
  },
  {
   "cell_type": "code",
   "execution_count": 35,
   "metadata": {
    "scrolled": true
   },
   "outputs": [
    {
     "data": {
      "text/html": [
       "<div>\n",
       "<style scoped>\n",
       "    .dataframe tbody tr th:only-of-type {\n",
       "        vertical-align: middle;\n",
       "    }\n",
       "\n",
       "    .dataframe tbody tr th {\n",
       "        vertical-align: top;\n",
       "    }\n",
       "\n",
       "    .dataframe thead th {\n",
       "        text-align: right;\n",
       "    }\n",
       "</style>\n",
       "<table border=\"1\" class=\"dataframe\">\n",
       "  <thead>\n",
       "    <tr style=\"text-align: right;\">\n",
       "      <th></th>\n",
       "      <th>Name</th>\n",
       "      <th>Twitter_handle</th>\n",
       "      <th>Team</th>\n",
       "      <th>Race</th>\n",
       "      <th>T1_start</th>\n",
       "      <th>T1_end</th>\n",
       "      <th>T2_start</th>\n",
       "      <th>T2_end</th>\n",
       "      <th>T3_start</th>\n",
       "      <th>T3_end</th>\n",
       "      <th>T4_start</th>\n",
       "      <th>T4_end</th>\n",
       "      <th>T5_start</th>\n",
       "      <th>T5_end</th>\n",
       "      <th>full_twitter</th>\n",
       "    </tr>\n",
       "  </thead>\n",
       "  <tbody>\n",
       "    <tr>\n",
       "      <th>3</th>\n",
       "      <td>Cam Newton</td>\n",
       "      <td>@CameronNewton'</td>\n",
       "      <td>Carolina Panthers</td>\n",
       "      <td>B</td>\n",
       "      <td>2017-09-17 18:00'</td>\n",
       "      <td>2017-09-17 22:00'</td>\n",
       "      <td>2017-09-24 18:00'</td>\n",
       "      <td>2017-09-24 22:00'</td>\n",
       "      <td>2017-10-01 18:00'</td>\n",
       "      <td>2017-10-01 22:00'</td>\n",
       "      <td>2017-10-08 18:00'</td>\n",
       "      <td>2017-10-08 22:00'</td>\n",
       "      <td>2017-10-13 01:25'</td>\n",
       "      <td>2017-10-13 05:25'</td>\n",
       "      <td>Cam Newton OR @CameronNewton'</td>\n",
       "    </tr>\n",
       "    <tr>\n",
       "      <th>4</th>\n",
       "      <td>Devin Funchess</td>\n",
       "      <td>@D_FUNCH'</td>\n",
       "      <td>Carolina Panthers</td>\n",
       "      <td>B</td>\n",
       "      <td>2017-09-17 18:00'</td>\n",
       "      <td>2017-09-17 22:00'</td>\n",
       "      <td>2017-09-24 18:00'</td>\n",
       "      <td>2017-09-24 22:00'</td>\n",
       "      <td>2017-10-01 18:00'</td>\n",
       "      <td>2017-10-01 22:00'</td>\n",
       "      <td>2017-10-08 18:00'</td>\n",
       "      <td>2017-10-08 22:00'</td>\n",
       "      <td>2017-10-13 01:25'</td>\n",
       "      <td>2017-10-13 05:25'</td>\n",
       "      <td>Devin Funchess OR @D_FUNCH'</td>\n",
       "    </tr>\n",
       "    <tr>\n",
       "      <th>5</th>\n",
       "      <td>Christian McCaffrey</td>\n",
       "      <td>@run__cmc'</td>\n",
       "      <td>Carolina Panthers</td>\n",
       "      <td>W</td>\n",
       "      <td>2017-09-17 18:00'</td>\n",
       "      <td>2017-09-17 22:00'</td>\n",
       "      <td>2017-09-24 18:00'</td>\n",
       "      <td>2017-09-24 22:00'</td>\n",
       "      <td>2017-10-01 18:00'</td>\n",
       "      <td>2017-10-01 22:00'</td>\n",
       "      <td>2017-10-08 18:00'</td>\n",
       "      <td>2017-10-08 22:00'</td>\n",
       "      <td>2017-10-13 01:25'</td>\n",
       "      <td>2017-10-13 05:25'</td>\n",
       "      <td>Christian McCaffrey OR @run__cmc'</td>\n",
       "    </tr>\n",
       "    <tr>\n",
       "      <th>9</th>\n",
       "      <td>Jameis Winston</td>\n",
       "      <td>@Jaboowins'</td>\n",
       "      <td>Tampa Bay Buccaneers</td>\n",
       "      <td>B</td>\n",
       "      <td>2017-09-17 18:00'</td>\n",
       "      <td>2017-09-17 22:00'</td>\n",
       "      <td>2017-09-24 18:00'</td>\n",
       "      <td>2017-09-24 22:00'</td>\n",
       "      <td>2017-10-01 21:05'</td>\n",
       "      <td>2017-10-02 01:05'</td>\n",
       "      <td>2017-10-06 01:25'</td>\n",
       "      <td>2017-10-06 05:25'</td>\n",
       "      <td>2017-10-15 21:05'</td>\n",
       "      <td>2017-10-16 01:05'</td>\n",
       "      <td>Jameis Winston OR @Jaboowins'</td>\n",
       "    </tr>\n",
       "    <tr>\n",
       "      <th>10</th>\n",
       "      <td>Mike Evans</td>\n",
       "      <td>@MikeEvans13_'</td>\n",
       "      <td>Tampa Bay Buccaneers</td>\n",
       "      <td>B</td>\n",
       "      <td>2017-09-17 18:00'</td>\n",
       "      <td>2017-09-17 22:00'</td>\n",
       "      <td>2017-09-24 18:00'</td>\n",
       "      <td>2017-09-24 22:00'</td>\n",
       "      <td>2017-10-01 21:05'</td>\n",
       "      <td>2017-10-02 01:05'</td>\n",
       "      <td>2017-10-06 01:25'</td>\n",
       "      <td>2017-10-06 05:25'</td>\n",
       "      <td>2017-10-15 21:05'</td>\n",
       "      <td>2017-10-16 01:05'</td>\n",
       "      <td>Mike Evans OR @MikeEvans13_'</td>\n",
       "    </tr>\n",
       "    <tr>\n",
       "      <th>11</th>\n",
       "      <td>Adam Humphries</td>\n",
       "      <td>@adamhumphries13'</td>\n",
       "      <td>Tampa Bay Buccaneers</td>\n",
       "      <td>W</td>\n",
       "      <td>2017-09-17 18:00'</td>\n",
       "      <td>2017-09-17 22:00'</td>\n",
       "      <td>2017-09-24 18:00'</td>\n",
       "      <td>2017-09-24 22:00'</td>\n",
       "      <td>2017-10-01 21:05'</td>\n",
       "      <td>2017-10-02 01:05'</td>\n",
       "      <td>2017-10-06 01:25'</td>\n",
       "      <td>2017-10-06 05:25'</td>\n",
       "      <td>2017-10-15 21:05'</td>\n",
       "      <td>2017-10-16 01:05'</td>\n",
       "      <td>Adam Humphries OR @adamhumphries13'</td>\n",
       "    </tr>\n",
       "    <tr>\n",
       "      <th>12</th>\n",
       "      <td>Carson Wentz</td>\n",
       "      <td>@cj_wentz'</td>\n",
       "      <td>Philadelphia Eagles</td>\n",
       "      <td>W</td>\n",
       "      <td>2017-09-17 18:00'</td>\n",
       "      <td>2017-09-17 22:00'</td>\n",
       "      <td>2017-09-24 18:00'</td>\n",
       "      <td>2017-09-24 22:00'</td>\n",
       "      <td>2017-10-01 21:05'</td>\n",
       "      <td>2017-10-02 01:05'</td>\n",
       "      <td>2017-10-08 18:00'</td>\n",
       "      <td>2017-10-08 22:00'</td>\n",
       "      <td>2017-10-13 01:25'</td>\n",
       "      <td>2017-10-13 05:25'</td>\n",
       "      <td>Carson Wentz OR @cj_wentz'</td>\n",
       "    </tr>\n",
       "    <tr>\n",
       "      <th>13</th>\n",
       "      <td>Zach Ertz</td>\n",
       "      <td>@ZERTZ_86'</td>\n",
       "      <td>Philadelphia Eagles</td>\n",
       "      <td>W</td>\n",
       "      <td>2017-09-17 18:00'</td>\n",
       "      <td>2017-09-17 22:00'</td>\n",
       "      <td>2017-09-24 18:00'</td>\n",
       "      <td>2017-09-24 22:00'</td>\n",
       "      <td>2017-10-01 21:05'</td>\n",
       "      <td>2017-10-02 01:05'</td>\n",
       "      <td>2017-10-08 18:00'</td>\n",
       "      <td>2017-10-08 22:00'</td>\n",
       "      <td>2017-10-13 01:25'</td>\n",
       "      <td>2017-10-13 05:25'</td>\n",
       "      <td>Zach Ertz OR @ZERTZ_86'</td>\n",
       "    </tr>\n",
       "    <tr>\n",
       "      <th>14</th>\n",
       "      <td>Alshon Jeffrey</td>\n",
       "      <td>@TheWorldof_AJ'</td>\n",
       "      <td>Philadelphia Eagles</td>\n",
       "      <td>B</td>\n",
       "      <td>2017-09-17 18:00'</td>\n",
       "      <td>2017-09-17 22:00'</td>\n",
       "      <td>2017-09-24 18:00'</td>\n",
       "      <td>2017-09-24 22:00'</td>\n",
       "      <td>2017-10-01 21:05'</td>\n",
       "      <td>2017-10-02 01:05'</td>\n",
       "      <td>2017-10-08 18:00'</td>\n",
       "      <td>2017-10-08 22:00'</td>\n",
       "      <td>2017-10-13 01:25'</td>\n",
       "      <td>2017-10-13 05:25'</td>\n",
       "      <td>Alshon Jeffrey OR @TheWorldof_AJ'</td>\n",
       "    </tr>\n",
       "  </tbody>\n",
       "</table>\n",
       "</div>"
      ],
      "text/plain": [
       "                   Name     Twitter_handle                  Team Race  \\\n",
       "3            Cam Newton    @CameronNewton'     Carolina Panthers    B   \n",
       "4        Devin Funchess          @D_FUNCH'     Carolina Panthers    B   \n",
       "5   Christian McCaffrey         @run__cmc'     Carolina Panthers    W   \n",
       "9        Jameis Winston        @Jaboowins'  Tampa Bay Buccaneers    B   \n",
       "10           Mike Evans     @MikeEvans13_'  Tampa Bay Buccaneers    B   \n",
       "11       Adam Humphries  @adamhumphries13'  Tampa Bay Buccaneers    W   \n",
       "12         Carson Wentz         @cj_wentz'   Philadelphia Eagles    W   \n",
       "13            Zach Ertz         @ZERTZ_86'   Philadelphia Eagles    W   \n",
       "14       Alshon Jeffrey    @TheWorldof_AJ'   Philadelphia Eagles    B   \n",
       "\n",
       "             T1_start             T1_end           T2_start  \\\n",
       "3   2017-09-17 18:00'  2017-09-17 22:00'  2017-09-24 18:00'   \n",
       "4   2017-09-17 18:00'  2017-09-17 22:00'  2017-09-24 18:00'   \n",
       "5   2017-09-17 18:00'  2017-09-17 22:00'  2017-09-24 18:00'   \n",
       "9   2017-09-17 18:00'  2017-09-17 22:00'  2017-09-24 18:00'   \n",
       "10  2017-09-17 18:00'  2017-09-17 22:00'  2017-09-24 18:00'   \n",
       "11  2017-09-17 18:00'  2017-09-17 22:00'  2017-09-24 18:00'   \n",
       "12  2017-09-17 18:00'  2017-09-17 22:00'  2017-09-24 18:00'   \n",
       "13  2017-09-17 18:00'  2017-09-17 22:00'  2017-09-24 18:00'   \n",
       "14  2017-09-17 18:00'  2017-09-17 22:00'  2017-09-24 18:00'   \n",
       "\n",
       "               T2_end           T3_start             T3_end  \\\n",
       "3   2017-09-24 22:00'  2017-10-01 18:00'  2017-10-01 22:00'   \n",
       "4   2017-09-24 22:00'  2017-10-01 18:00'  2017-10-01 22:00'   \n",
       "5   2017-09-24 22:00'  2017-10-01 18:00'  2017-10-01 22:00'   \n",
       "9   2017-09-24 22:00'  2017-10-01 21:05'  2017-10-02 01:05'   \n",
       "10  2017-09-24 22:00'  2017-10-01 21:05'  2017-10-02 01:05'   \n",
       "11  2017-09-24 22:00'  2017-10-01 21:05'  2017-10-02 01:05'   \n",
       "12  2017-09-24 22:00'  2017-10-01 21:05'  2017-10-02 01:05'   \n",
       "13  2017-09-24 22:00'  2017-10-01 21:05'  2017-10-02 01:05'   \n",
       "14  2017-09-24 22:00'  2017-10-01 21:05'  2017-10-02 01:05'   \n",
       "\n",
       "             T4_start             T4_end           T5_start  \\\n",
       "3   2017-10-08 18:00'  2017-10-08 22:00'  2017-10-13 01:25'   \n",
       "4   2017-10-08 18:00'  2017-10-08 22:00'  2017-10-13 01:25'   \n",
       "5   2017-10-08 18:00'  2017-10-08 22:00'  2017-10-13 01:25'   \n",
       "9   2017-10-06 01:25'  2017-10-06 05:25'  2017-10-15 21:05'   \n",
       "10  2017-10-06 01:25'  2017-10-06 05:25'  2017-10-15 21:05'   \n",
       "11  2017-10-06 01:25'  2017-10-06 05:25'  2017-10-15 21:05'   \n",
       "12  2017-10-08 18:00'  2017-10-08 22:00'  2017-10-13 01:25'   \n",
       "13  2017-10-08 18:00'  2017-10-08 22:00'  2017-10-13 01:25'   \n",
       "14  2017-10-08 18:00'  2017-10-08 22:00'  2017-10-13 01:25'   \n",
       "\n",
       "               T5_end                         full_twitter  \n",
       "3   2017-10-13 05:25'        Cam Newton OR @CameronNewton'  \n",
       "4   2017-10-13 05:25'          Devin Funchess OR @D_FUNCH'  \n",
       "5   2017-10-13 05:25'    Christian McCaffrey OR @run__cmc'  \n",
       "9   2017-10-16 01:05'        Jameis Winston OR @Jaboowins'  \n",
       "10  2017-10-16 01:05'         Mike Evans OR @MikeEvans13_'  \n",
       "11  2017-10-16 01:05'  Adam Humphries OR @adamhumphries13'  \n",
       "12  2017-10-13 05:25'           Carson Wentz OR @cj_wentz'  \n",
       "13  2017-10-13 05:25'              Zach Ertz OR @ZERTZ_86'  \n",
       "14  2017-10-13 05:25'    Alshon Jeffrey OR @TheWorldof_AJ'  "
      ]
     },
     "execution_count": 35,
     "metadata": {},
     "output_type": "execute_result"
    }
   ],
   "source": [
    "data_t2_2"
   ]
  },
  {
   "cell_type": "code",
   "execution_count": null,
   "metadata": {},
   "outputs": [],
   "source": [
    "#getting tweets"
   ]
  },
  {
   "cell_type": "code",
   "execution_count": null,
   "metadata": {},
   "outputs": [],
   "source": [
    "data_t2_2_tweets = get_tweets(data_t2_2, start = 'T2_start', end = 'T2_end')"
   ]
  },
  {
   "cell_type": "code",
   "execution_count": null,
   "metadata": {},
   "outputs": [],
   "source": [
    "#saving at csv"
   ]
  },
  {
   "cell_type": "code",
   "execution_count": null,
   "metadata": {},
   "outputs": [],
   "source": [
    "data_t2_2_tweets.to_csv(\"~/Documents/nfl sentiment/final_data/tweets_t2_2.csv\", index = False)"
   ]
  },
  {
   "cell_type": "code",
   "execution_count": null,
   "metadata": {},
   "outputs": [],
   "source": []
  },
  {
   "cell_type": "code",
   "execution_count": null,
   "metadata": {},
   "outputs": [],
   "source": []
  },
  {
   "cell_type": "code",
   "execution_count": null,
   "metadata": {},
   "outputs": [],
   "source": [
    "####T2-3"
   ]
  },
  {
   "cell_type": "code",
   "execution_count": null,
   "metadata": {},
   "outputs": [],
   "source": []
  },
  {
   "cell_type": "code",
   "execution_count": null,
   "metadata": {},
   "outputs": [],
   "source": []
  },
  {
   "cell_type": "code",
   "execution_count": null,
   "metadata": {},
   "outputs": [],
   "source": [
    "#getting the data"
   ]
  },
  {
   "cell_type": "code",
   "execution_count": 36,
   "metadata": {},
   "outputs": [],
   "source": [
    "teams = [\"Baltimore Ravens\"]\n",
    "data_t2_3 = get_data(teams)"
   ]
  },
  {
   "cell_type": "code",
   "execution_count": 37,
   "metadata": {
    "scrolled": true
   },
   "outputs": [
    {
     "data": {
      "text/html": [
       "<div>\n",
       "<style scoped>\n",
       "    .dataframe tbody tr th:only-of-type {\n",
       "        vertical-align: middle;\n",
       "    }\n",
       "\n",
       "    .dataframe tbody tr th {\n",
       "        vertical-align: top;\n",
       "    }\n",
       "\n",
       "    .dataframe thead th {\n",
       "        text-align: right;\n",
       "    }\n",
       "</style>\n",
       "<table border=\"1\" class=\"dataframe\">\n",
       "  <thead>\n",
       "    <tr style=\"text-align: right;\">\n",
       "      <th></th>\n",
       "      <th>Name</th>\n",
       "      <th>Twitter_handle</th>\n",
       "      <th>Team</th>\n",
       "      <th>Race</th>\n",
       "      <th>T1_start</th>\n",
       "      <th>T1_end</th>\n",
       "      <th>T2_start</th>\n",
       "      <th>T2_end</th>\n",
       "      <th>T3_start</th>\n",
       "      <th>T3_end</th>\n",
       "      <th>T4_start</th>\n",
       "      <th>T4_end</th>\n",
       "      <th>T5_start</th>\n",
       "      <th>T5_end</th>\n",
       "      <th>full_twitter</th>\n",
       "    </tr>\n",
       "  </thead>\n",
       "  <tbody>\n",
       "    <tr>\n",
       "      <th>21</th>\n",
       "      <td>Joe Flacco</td>\n",
       "      <td>@JoeFlacco'</td>\n",
       "      <td>Baltimore Ravens</td>\n",
       "      <td>W</td>\n",
       "      <td>2017-09-17 18:00'</td>\n",
       "      <td>2017-09-17 22:00'</td>\n",
       "      <td>2017-09-24 14:30'</td>\n",
       "      <td>2017-09-24 18:30'</td>\n",
       "      <td>2017-10-01 18:00'</td>\n",
       "      <td>2017-10-01 22:00'</td>\n",
       "      <td>2017-10-08 21:05'</td>\n",
       "      <td>2017-10-09 01:05'</td>\n",
       "      <td>2017-10-15 18:00'</td>\n",
       "      <td>2017-10-15 22:00'</td>\n",
       "      <td>Joe Flacco OR @JoeFlacco'</td>\n",
       "    </tr>\n",
       "    <tr>\n",
       "      <th>22</th>\n",
       "      <td>Nick Boyle</td>\n",
       "      <td>@nickboyle86'</td>\n",
       "      <td>Baltimore Ravens</td>\n",
       "      <td>W</td>\n",
       "      <td>2017-09-17 18:00'</td>\n",
       "      <td>2017-09-17 22:00'</td>\n",
       "      <td>2017-09-24 14:30'</td>\n",
       "      <td>2017-09-24 18:30'</td>\n",
       "      <td>2017-10-01 18:00'</td>\n",
       "      <td>2017-10-01 22:00'</td>\n",
       "      <td>2017-10-08 21:05'</td>\n",
       "      <td>2017-10-09 01:05'</td>\n",
       "      <td>2017-10-15 18:00'</td>\n",
       "      <td>2017-10-15 22:00'</td>\n",
       "      <td>Nick Boyle OR @nickboyle86'</td>\n",
       "    </tr>\n",
       "    <tr>\n",
       "      <th>23</th>\n",
       "      <td>Mike Wallace</td>\n",
       "      <td>@Wallace17_daKid'</td>\n",
       "      <td>Baltimore Ravens</td>\n",
       "      <td>B</td>\n",
       "      <td>2017-09-17 18:00'</td>\n",
       "      <td>2017-09-17 22:00'</td>\n",
       "      <td>2017-09-24 14:30'</td>\n",
       "      <td>2017-09-24 18:30'</td>\n",
       "      <td>2017-10-01 18:00'</td>\n",
       "      <td>2017-10-01 22:00'</td>\n",
       "      <td>2017-10-08 21:05'</td>\n",
       "      <td>2017-10-09 01:05'</td>\n",
       "      <td>2017-10-15 18:00'</td>\n",
       "      <td>2017-10-15 22:00'</td>\n",
       "      <td>Mike Wallace OR @Wallace17_daKid'</td>\n",
       "    </tr>\n",
       "  </tbody>\n",
       "</table>\n",
       "</div>"
      ],
      "text/plain": [
       "            Name     Twitter_handle              Team Race           T1_start  \\\n",
       "21    Joe Flacco        @JoeFlacco'  Baltimore Ravens    W  2017-09-17 18:00'   \n",
       "22    Nick Boyle      @nickboyle86'  Baltimore Ravens    W  2017-09-17 18:00'   \n",
       "23  Mike Wallace  @Wallace17_daKid'  Baltimore Ravens    B  2017-09-17 18:00'   \n",
       "\n",
       "               T1_end           T2_start             T2_end  \\\n",
       "21  2017-09-17 22:00'  2017-09-24 14:30'  2017-09-24 18:30'   \n",
       "22  2017-09-17 22:00'  2017-09-24 14:30'  2017-09-24 18:30'   \n",
       "23  2017-09-17 22:00'  2017-09-24 14:30'  2017-09-24 18:30'   \n",
       "\n",
       "             T3_start             T3_end           T4_start  \\\n",
       "21  2017-10-01 18:00'  2017-10-01 22:00'  2017-10-08 21:05'   \n",
       "22  2017-10-01 18:00'  2017-10-01 22:00'  2017-10-08 21:05'   \n",
       "23  2017-10-01 18:00'  2017-10-01 22:00'  2017-10-08 21:05'   \n",
       "\n",
       "               T4_end           T5_start             T5_end  \\\n",
       "21  2017-10-09 01:05'  2017-10-15 18:00'  2017-10-15 22:00'   \n",
       "22  2017-10-09 01:05'  2017-10-15 18:00'  2017-10-15 22:00'   \n",
       "23  2017-10-09 01:05'  2017-10-15 18:00'  2017-10-15 22:00'   \n",
       "\n",
       "                         full_twitter  \n",
       "21          Joe Flacco OR @JoeFlacco'  \n",
       "22        Nick Boyle OR @nickboyle86'  \n",
       "23  Mike Wallace OR @Wallace17_daKid'  "
      ]
     },
     "execution_count": 37,
     "metadata": {},
     "output_type": "execute_result"
    }
   ],
   "source": [
    "data_t2_3"
   ]
  },
  {
   "cell_type": "code",
   "execution_count": null,
   "metadata": {},
   "outputs": [],
   "source": [
    "#getting tweets"
   ]
  },
  {
   "cell_type": "code",
   "execution_count": null,
   "metadata": {},
   "outputs": [],
   "source": [
    "data_t2_3_tweets = get_tweets(data_t2_3, start = 'T2_start', end = 'T2_end')"
   ]
  },
  {
   "cell_type": "code",
   "execution_count": null,
   "metadata": {},
   "outputs": [],
   "source": [
    "#saving at csv"
   ]
  },
  {
   "cell_type": "code",
   "execution_count": null,
   "metadata": {},
   "outputs": [],
   "source": [
    "data_t2_3_tweets.to_csv(\"~/Documents/nfl sentiment/final_data/tweets_t2_3.csv\", index = False)"
   ]
  },
  {
   "cell_type": "code",
   "execution_count": null,
   "metadata": {},
   "outputs": [],
   "source": []
  },
  {
   "cell_type": "code",
   "execution_count": null,
   "metadata": {},
   "outputs": [],
   "source": []
  },
  {
   "cell_type": "code",
   "execution_count": null,
   "metadata": {},
   "outputs": [],
   "source": [
    "####T2-4"
   ]
  },
  {
   "cell_type": "code",
   "execution_count": null,
   "metadata": {},
   "outputs": [],
   "source": []
  },
  {
   "cell_type": "code",
   "execution_count": null,
   "metadata": {},
   "outputs": [],
   "source": []
  },
  {
   "cell_type": "code",
   "execution_count": null,
   "metadata": {},
   "outputs": [],
   "source": [
    "#getting the data"
   ]
  },
  {
   "cell_type": "code",
   "execution_count": 38,
   "metadata": {},
   "outputs": [],
   "source": [
    "teams = [\"Dallas Cowboys\", \"Seattle Seahawks\"]\n",
    "data_t2_4 = get_data(teams)"
   ]
  },
  {
   "cell_type": "code",
   "execution_count": 39,
   "metadata": {
    "scrolled": true
   },
   "outputs": [
    {
     "data": {
      "text/html": [
       "<div>\n",
       "<style scoped>\n",
       "    .dataframe tbody tr th:only-of-type {\n",
       "        vertical-align: middle;\n",
       "    }\n",
       "\n",
       "    .dataframe tbody tr th {\n",
       "        vertical-align: top;\n",
       "    }\n",
       "\n",
       "    .dataframe thead th {\n",
       "        text-align: right;\n",
       "    }\n",
       "</style>\n",
       "<table border=\"1\" class=\"dataframe\">\n",
       "  <thead>\n",
       "    <tr style=\"text-align: right;\">\n",
       "      <th></th>\n",
       "      <th>Name</th>\n",
       "      <th>Twitter_handle</th>\n",
       "      <th>Team</th>\n",
       "      <th>Race</th>\n",
       "      <th>T1_start</th>\n",
       "      <th>T1_end</th>\n",
       "      <th>T2_start</th>\n",
       "      <th>T2_end</th>\n",
       "      <th>T3_start</th>\n",
       "      <th>T3_end</th>\n",
       "      <th>T4_start</th>\n",
       "      <th>T4_end</th>\n",
       "      <th>T5_start</th>\n",
       "      <th>T5_end</th>\n",
       "      <th>full_twitter</th>\n",
       "    </tr>\n",
       "  </thead>\n",
       "  <tbody>\n",
       "    <tr>\n",
       "      <th>0</th>\n",
       "      <td>Russell Wilson</td>\n",
       "      <td>@DangeRussWilson'</td>\n",
       "      <td>Seattle Seahawks</td>\n",
       "      <td>B</td>\n",
       "      <td>2017-09-10 21:25'</td>\n",
       "      <td>2017-09-11 01:25'</td>\n",
       "      <td>2017-09-17 21:25'</td>\n",
       "      <td>2017-09-18 01:25'</td>\n",
       "      <td>2017-09-24 21:05'</td>\n",
       "      <td>2017-09-25 01:05'</td>\n",
       "      <td>2017-10-02 01:30'</td>\n",
       "      <td>2017-10-02 05:30'</td>\n",
       "      <td>2017-10-08 21:05'</td>\n",
       "      <td>2017-10-09 01:05'</td>\n",
       "      <td>Russell Wilson OR @DangeRussWilson'</td>\n",
       "    </tr>\n",
       "    <tr>\n",
       "      <th>1</th>\n",
       "      <td>Doug Baldwin</td>\n",
       "      <td>@DougBaldwinJr'</td>\n",
       "      <td>Seattle Seahawks</td>\n",
       "      <td>B</td>\n",
       "      <td>2017-09-10 21:25'</td>\n",
       "      <td>2017-09-11 01:25'</td>\n",
       "      <td>2017-09-17 21:25'</td>\n",
       "      <td>2017-09-18 01:25'</td>\n",
       "      <td>2017-09-24 21:05'</td>\n",
       "      <td>2017-09-25 01:05'</td>\n",
       "      <td>2017-10-02 01:30'</td>\n",
       "      <td>2017-10-02 05:30'</td>\n",
       "      <td>2017-10-08 21:05'</td>\n",
       "      <td>2017-10-09 01:05'</td>\n",
       "      <td>Doug Baldwin OR @DougBaldwinJr'</td>\n",
       "    </tr>\n",
       "    <tr>\n",
       "      <th>2</th>\n",
       "      <td>Jimmy Graham</td>\n",
       "      <td>@TheJimmyGraham'</td>\n",
       "      <td>Seattle Seahawks</td>\n",
       "      <td>W</td>\n",
       "      <td>2017-09-10 21:25'</td>\n",
       "      <td>2017-09-11 01:25'</td>\n",
       "      <td>2017-09-17 21:25'</td>\n",
       "      <td>2017-09-18 01:25'</td>\n",
       "      <td>2017-09-24 21:05'</td>\n",
       "      <td>2017-09-25 01:05'</td>\n",
       "      <td>2017-10-02 01:30'</td>\n",
       "      <td>2017-10-02 05:30'</td>\n",
       "      <td>2017-10-08 21:05'</td>\n",
       "      <td>2017-10-09 01:05'</td>\n",
       "      <td>Jimmy Graham OR @TheJimmyGraham'</td>\n",
       "    </tr>\n",
       "    <tr>\n",
       "      <th>6</th>\n",
       "      <td>Dak Prescott</td>\n",
       "      <td>@dak'</td>\n",
       "      <td>Dallas Cowboys</td>\n",
       "      <td>B</td>\n",
       "      <td>2017-09-11 01:30'</td>\n",
       "      <td>2017-09-11 05:30'</td>\n",
       "      <td>2017-09-17 21:25'</td>\n",
       "      <td>2017-09-18 01:25'</td>\n",
       "      <td>2017-09-26 01:30'</td>\n",
       "      <td>2017-09-26 05:30'</td>\n",
       "      <td>2017-10-01 18:00'</td>\n",
       "      <td>2017-10-01 22:00'</td>\n",
       "      <td>2017-10-08 21:25'</td>\n",
       "      <td>2017-10-09 01:25'</td>\n",
       "      <td>Dak Prescott OR @dak'</td>\n",
       "    </tr>\n",
       "    <tr>\n",
       "      <th>7</th>\n",
       "      <td>Dez Bryant</td>\n",
       "      <td>@DezBryant'</td>\n",
       "      <td>Dallas Cowboys</td>\n",
       "      <td>B</td>\n",
       "      <td>2017-09-11 01:30'</td>\n",
       "      <td>2017-09-11 05:30'</td>\n",
       "      <td>2017-09-17 21:25'</td>\n",
       "      <td>2017-09-18 01:25'</td>\n",
       "      <td>2017-09-26 01:30'</td>\n",
       "      <td>2017-09-26 05:30'</td>\n",
       "      <td>2017-10-01 18:00'</td>\n",
       "      <td>2017-10-01 22:00'</td>\n",
       "      <td>2017-10-08 21:25'</td>\n",
       "      <td>2017-10-09 01:25'</td>\n",
       "      <td>Dez Bryant OR @DezBryant'</td>\n",
       "    </tr>\n",
       "    <tr>\n",
       "      <th>8</th>\n",
       "      <td>Jason Witten</td>\n",
       "      <td>@JasonWitten'</td>\n",
       "      <td>Dallas Cowboys</td>\n",
       "      <td>W</td>\n",
       "      <td>2017-09-11 01:30'</td>\n",
       "      <td>2017-09-11 05:30'</td>\n",
       "      <td>2017-09-17 21:25'</td>\n",
       "      <td>2017-09-18 01:25'</td>\n",
       "      <td>2017-09-26 01:30'</td>\n",
       "      <td>2017-09-26 05:30'</td>\n",
       "      <td>2017-10-01 18:00'</td>\n",
       "      <td>2017-10-01 22:00'</td>\n",
       "      <td>2017-10-08 21:25'</td>\n",
       "      <td>2017-10-09 01:25'</td>\n",
       "      <td>Jason Witten OR @JasonWitten'</td>\n",
       "    </tr>\n",
       "  </tbody>\n",
       "</table>\n",
       "</div>"
      ],
      "text/plain": [
       "             Name     Twitter_handle              Team Race  \\\n",
       "0  Russell Wilson  @DangeRussWilson'  Seattle Seahawks    B   \n",
       "1    Doug Baldwin    @DougBaldwinJr'  Seattle Seahawks    B   \n",
       "2    Jimmy Graham   @TheJimmyGraham'  Seattle Seahawks    W   \n",
       "6    Dak Prescott              @dak'    Dallas Cowboys    B   \n",
       "7      Dez Bryant        @DezBryant'    Dallas Cowboys    B   \n",
       "8    Jason Witten      @JasonWitten'    Dallas Cowboys    W   \n",
       "\n",
       "            T1_start             T1_end           T2_start             T2_end  \\\n",
       "0  2017-09-10 21:25'  2017-09-11 01:25'  2017-09-17 21:25'  2017-09-18 01:25'   \n",
       "1  2017-09-10 21:25'  2017-09-11 01:25'  2017-09-17 21:25'  2017-09-18 01:25'   \n",
       "2  2017-09-10 21:25'  2017-09-11 01:25'  2017-09-17 21:25'  2017-09-18 01:25'   \n",
       "6  2017-09-11 01:30'  2017-09-11 05:30'  2017-09-17 21:25'  2017-09-18 01:25'   \n",
       "7  2017-09-11 01:30'  2017-09-11 05:30'  2017-09-17 21:25'  2017-09-18 01:25'   \n",
       "8  2017-09-11 01:30'  2017-09-11 05:30'  2017-09-17 21:25'  2017-09-18 01:25'   \n",
       "\n",
       "            T3_start             T3_end           T4_start             T4_end  \\\n",
       "0  2017-09-24 21:05'  2017-09-25 01:05'  2017-10-02 01:30'  2017-10-02 05:30'   \n",
       "1  2017-09-24 21:05'  2017-09-25 01:05'  2017-10-02 01:30'  2017-10-02 05:30'   \n",
       "2  2017-09-24 21:05'  2017-09-25 01:05'  2017-10-02 01:30'  2017-10-02 05:30'   \n",
       "6  2017-09-26 01:30'  2017-09-26 05:30'  2017-10-01 18:00'  2017-10-01 22:00'   \n",
       "7  2017-09-26 01:30'  2017-09-26 05:30'  2017-10-01 18:00'  2017-10-01 22:00'   \n",
       "8  2017-09-26 01:30'  2017-09-26 05:30'  2017-10-01 18:00'  2017-10-01 22:00'   \n",
       "\n",
       "            T5_start             T5_end                         full_twitter  \n",
       "0  2017-10-08 21:05'  2017-10-09 01:05'  Russell Wilson OR @DangeRussWilson'  \n",
       "1  2017-10-08 21:05'  2017-10-09 01:05'      Doug Baldwin OR @DougBaldwinJr'  \n",
       "2  2017-10-08 21:05'  2017-10-09 01:05'     Jimmy Graham OR @TheJimmyGraham'  \n",
       "6  2017-10-08 21:25'  2017-10-09 01:25'                Dak Prescott OR @dak'  \n",
       "7  2017-10-08 21:25'  2017-10-09 01:25'            Dez Bryant OR @DezBryant'  \n",
       "8  2017-10-08 21:25'  2017-10-09 01:25'        Jason Witten OR @JasonWitten'  "
      ]
     },
     "execution_count": 39,
     "metadata": {},
     "output_type": "execute_result"
    }
   ],
   "source": [
    "data_t2_4"
   ]
  },
  {
   "cell_type": "code",
   "execution_count": null,
   "metadata": {},
   "outputs": [],
   "source": [
    "#getting tweets"
   ]
  },
  {
   "cell_type": "code",
   "execution_count": null,
   "metadata": {},
   "outputs": [],
   "source": [
    "data_t2_4_tweets = get_tweets(data_t2_4, start = 'T2_start', end = 'T2_end')"
   ]
  },
  {
   "cell_type": "code",
   "execution_count": null,
   "metadata": {},
   "outputs": [],
   "source": [
    "#saving at csv"
   ]
  },
  {
   "cell_type": "code",
   "execution_count": null,
   "metadata": {},
   "outputs": [],
   "source": [
    "data_t2_4_tweets.to_csv(\"~/Documents/nfl sentiment/final_data/tweets_t2_4.csv\", index = False)"
   ]
  },
  {
   "cell_type": "code",
   "execution_count": null,
   "metadata": {},
   "outputs": [],
   "source": []
  },
  {
   "cell_type": "code",
   "execution_count": null,
   "metadata": {},
   "outputs": [],
   "source": []
  },
  {
   "cell_type": "code",
   "execution_count": null,
   "metadata": {},
   "outputs": [],
   "source": [
    "####T2-5"
   ]
  },
  {
   "cell_type": "code",
   "execution_count": null,
   "metadata": {},
   "outputs": [],
   "source": []
  },
  {
   "cell_type": "code",
   "execution_count": null,
   "metadata": {},
   "outputs": [],
   "source": []
  },
  {
   "cell_type": "code",
   "execution_count": null,
   "metadata": {},
   "outputs": [],
   "source": [
    "#getting the data"
   ]
  },
  {
   "cell_type": "code",
   "execution_count": 40,
   "metadata": {},
   "outputs": [],
   "source": [
    "teams = [\"Cincinnati Bengals\"]\n",
    "data_t2_5 = get_data(teams)"
   ]
  },
  {
   "cell_type": "code",
   "execution_count": 41,
   "metadata": {
    "scrolled": true
   },
   "outputs": [
    {
     "data": {
      "text/html": [
       "<div>\n",
       "<style scoped>\n",
       "    .dataframe tbody tr th:only-of-type {\n",
       "        vertical-align: middle;\n",
       "    }\n",
       "\n",
       "    .dataframe tbody tr th {\n",
       "        vertical-align: top;\n",
       "    }\n",
       "\n",
       "    .dataframe thead th {\n",
       "        text-align: right;\n",
       "    }\n",
       "</style>\n",
       "<table border=\"1\" class=\"dataframe\">\n",
       "  <thead>\n",
       "    <tr style=\"text-align: right;\">\n",
       "      <th></th>\n",
       "      <th>Name</th>\n",
       "      <th>Twitter_handle</th>\n",
       "      <th>Team</th>\n",
       "      <th>Race</th>\n",
       "      <th>T1_start</th>\n",
       "      <th>T1_end</th>\n",
       "      <th>T2_start</th>\n",
       "      <th>T2_end</th>\n",
       "      <th>T3_start</th>\n",
       "      <th>T3_end</th>\n",
       "      <th>T4_start</th>\n",
       "      <th>T4_end</th>\n",
       "      <th>T5_start</th>\n",
       "      <th>T5_end</th>\n",
       "      <th>full_twitter</th>\n",
       "    </tr>\n",
       "  </thead>\n",
       "  <tbody>\n",
       "    <tr>\n",
       "      <th>18</th>\n",
       "      <td>Andy Dalton</td>\n",
       "      <td>@andydalton14'</td>\n",
       "      <td>Cincinnati Bengals</td>\n",
       "      <td>W</td>\n",
       "      <td>2017-09-10 18:00'</td>\n",
       "      <td>2017-09-10 22:00'</td>\n",
       "      <td>2017-09-15 01:25'</td>\n",
       "      <td>2017-09-15 05:25'</td>\n",
       "      <td>2017-09-24 21:25'</td>\n",
       "      <td>2017-09-25 01:25'</td>\n",
       "      <td>2017-10-01 18:00'</td>\n",
       "      <td>2017-10-01 22:00'</td>\n",
       "      <td>2017-10-08 18:00'</td>\n",
       "      <td>2017-10-08 22:00'</td>\n",
       "      <td>Andy Dalton OR @andydalton14'</td>\n",
       "    </tr>\n",
       "    <tr>\n",
       "      <th>19</th>\n",
       "      <td>Tyler Kroft</td>\n",
       "      <td>@Kroft86'</td>\n",
       "      <td>Cincinnati Bengals</td>\n",
       "      <td>W</td>\n",
       "      <td>2017-09-10 18:00'</td>\n",
       "      <td>2017-09-10 22:00'</td>\n",
       "      <td>2017-09-15 01:25'</td>\n",
       "      <td>2017-09-15 05:25'</td>\n",
       "      <td>2017-09-24 21:25'</td>\n",
       "      <td>2017-09-25 01:25'</td>\n",
       "      <td>2017-10-01 18:00'</td>\n",
       "      <td>2017-10-01 22:00'</td>\n",
       "      <td>2017-10-08 18:00'</td>\n",
       "      <td>2017-10-08 22:00'</td>\n",
       "      <td>Tyler Kroft OR @Kroft86'</td>\n",
       "    </tr>\n",
       "    <tr>\n",
       "      <th>20</th>\n",
       "      <td>A.J. Green</td>\n",
       "      <td>@ajgreen_18'</td>\n",
       "      <td>Cincinnati Bengals</td>\n",
       "      <td>B</td>\n",
       "      <td>2017-09-10 18:00'</td>\n",
       "      <td>2017-09-10 22:00'</td>\n",
       "      <td>2017-09-15 01:25'</td>\n",
       "      <td>2017-09-15 05:25'</td>\n",
       "      <td>2017-09-24 21:25'</td>\n",
       "      <td>2017-09-25 01:25'</td>\n",
       "      <td>2017-10-01 18:00'</td>\n",
       "      <td>2017-10-01 22:00'</td>\n",
       "      <td>2017-10-08 18:00'</td>\n",
       "      <td>2017-10-08 22:00'</td>\n",
       "      <td>A.J. Green OR @ajgreen_18'</td>\n",
       "    </tr>\n",
       "  </tbody>\n",
       "</table>\n",
       "</div>"
      ],
      "text/plain": [
       "           Name  Twitter_handle                Team Race           T1_start  \\\n",
       "18  Andy Dalton  @andydalton14'  Cincinnati Bengals    W  2017-09-10 18:00'   \n",
       "19  Tyler Kroft       @Kroft86'  Cincinnati Bengals    W  2017-09-10 18:00'   \n",
       "20   A.J. Green    @ajgreen_18'  Cincinnati Bengals    B  2017-09-10 18:00'   \n",
       "\n",
       "               T1_end           T2_start             T2_end  \\\n",
       "18  2017-09-10 22:00'  2017-09-15 01:25'  2017-09-15 05:25'   \n",
       "19  2017-09-10 22:00'  2017-09-15 01:25'  2017-09-15 05:25'   \n",
       "20  2017-09-10 22:00'  2017-09-15 01:25'  2017-09-15 05:25'   \n",
       "\n",
       "             T3_start             T3_end           T4_start  \\\n",
       "18  2017-09-24 21:25'  2017-09-25 01:25'  2017-10-01 18:00'   \n",
       "19  2017-09-24 21:25'  2017-09-25 01:25'  2017-10-01 18:00'   \n",
       "20  2017-09-24 21:25'  2017-09-25 01:25'  2017-10-01 18:00'   \n",
       "\n",
       "               T4_end           T5_start             T5_end  \\\n",
       "18  2017-10-01 22:00'  2017-10-08 18:00'  2017-10-08 22:00'   \n",
       "19  2017-10-01 22:00'  2017-10-08 18:00'  2017-10-08 22:00'   \n",
       "20  2017-10-01 22:00'  2017-10-08 18:00'  2017-10-08 22:00'   \n",
       "\n",
       "                     full_twitter  \n",
       "18  Andy Dalton OR @andydalton14'  \n",
       "19       Tyler Kroft OR @Kroft86'  \n",
       "20     A.J. Green OR @ajgreen_18'  "
      ]
     },
     "execution_count": 41,
     "metadata": {},
     "output_type": "execute_result"
    }
   ],
   "source": [
    "data_t2_5"
   ]
  },
  {
   "cell_type": "code",
   "execution_count": null,
   "metadata": {},
   "outputs": [],
   "source": [
    "#getting tweets"
   ]
  },
  {
   "cell_type": "code",
   "execution_count": null,
   "metadata": {},
   "outputs": [],
   "source": [
    "data_t2_5_tweets = get_tweets(data_t2_5, start = 'T2_start', end = 'T2_end')"
   ]
  },
  {
   "cell_type": "code",
   "execution_count": null,
   "metadata": {},
   "outputs": [],
   "source": [
    "#saving at csv"
   ]
  },
  {
   "cell_type": "code",
   "execution_count": null,
   "metadata": {},
   "outputs": [],
   "source": [
    "data_t2_5_tweets.to_csv(\"~/Documents/nfl sentiment/final_data/tweets_t2_5.csv\", index = False)"
   ]
  },
  {
   "cell_type": "code",
   "execution_count": null,
   "metadata": {},
   "outputs": [],
   "source": []
  },
  {
   "cell_type": "code",
   "execution_count": null,
   "metadata": {},
   "outputs": [],
   "source": [
    "#appending for T2"
   ]
  },
  {
   "cell_type": "code",
   "execution_count": null,
   "metadata": {},
   "outputs": [],
   "source": [
    "T2 = pd.concat([data_t2_1_tweets, data_t2_2_tweets, data_t2_3_tweets, \n",
    "                data_t2_4_tweets, data_t2_5_tweets])"
   ]
  },
  {
   "cell_type": "code",
   "execution_count": null,
   "metadata": {},
   "outputs": [],
   "source": [
    "T2.to_csv(\"~/Documents/nfl sentiment/final_data/tweets_t2_all.csv\", index = False)"
   ]
  },
  {
   "cell_type": "code",
   "execution_count": null,
   "metadata": {},
   "outputs": [],
   "source": []
  },
  {
   "cell_type": "code",
   "execution_count": null,
   "metadata": {},
   "outputs": [],
   "source": []
  },
  {
   "cell_type": "code",
   "execution_count": null,
   "metadata": {},
   "outputs": [],
   "source": [
    "####T3-1"
   ]
  },
  {
   "cell_type": "code",
   "execution_count": null,
   "metadata": {},
   "outputs": [],
   "source": []
  },
  {
   "cell_type": "code",
   "execution_count": null,
   "metadata": {},
   "outputs": [],
   "source": []
  },
  {
   "cell_type": "code",
   "execution_count": null,
   "metadata": {},
   "outputs": [],
   "source": [
    "#getting the data"
   ]
  },
  {
   "cell_type": "code",
   "execution_count": 42,
   "metadata": {},
   "outputs": [],
   "source": [
    "teams = [\"Kansas City Chiefs\"]\n",
    "data_t3_1 = get_data(teams)"
   ]
  },
  {
   "cell_type": "code",
   "execution_count": 43,
   "metadata": {
    "scrolled": true
   },
   "outputs": [
    {
     "data": {
      "text/html": [
       "<div>\n",
       "<style scoped>\n",
       "    .dataframe tbody tr th:only-of-type {\n",
       "        vertical-align: middle;\n",
       "    }\n",
       "\n",
       "    .dataframe tbody tr th {\n",
       "        vertical-align: top;\n",
       "    }\n",
       "\n",
       "    .dataframe thead th {\n",
       "        text-align: right;\n",
       "    }\n",
       "</style>\n",
       "<table border=\"1\" class=\"dataframe\">\n",
       "  <thead>\n",
       "    <tr style=\"text-align: right;\">\n",
       "      <th></th>\n",
       "      <th>Name</th>\n",
       "      <th>Twitter_handle</th>\n",
       "      <th>Team</th>\n",
       "      <th>Race</th>\n",
       "      <th>T1_start</th>\n",
       "      <th>T1_end</th>\n",
       "      <th>T2_start</th>\n",
       "      <th>T2_end</th>\n",
       "      <th>T3_start</th>\n",
       "      <th>T3_end</th>\n",
       "      <th>T4_start</th>\n",
       "      <th>T4_end</th>\n",
       "      <th>T5_start</th>\n",
       "      <th>T5_end</th>\n",
       "      <th>full_twitter</th>\n",
       "    </tr>\n",
       "  </thead>\n",
       "  <tbody>\n",
       "    <tr>\n",
       "      <th>15</th>\n",
       "      <td>Alex Smith</td>\n",
       "      <td>NaN</td>\n",
       "      <td>Kansas City Chiefs</td>\n",
       "      <td>W</td>\n",
       "      <td>2017-09-17 18:00'</td>\n",
       "      <td>2017-09-17 22:00'</td>\n",
       "      <td>2017-09-24 21:25'</td>\n",
       "      <td>2017-09-25 01:25'</td>\n",
       "      <td>2017-10-03 01:30'</td>\n",
       "      <td>2017-10-03 05:30'</td>\n",
       "      <td>2017-10-09 01:30'</td>\n",
       "      <td>2017-10-09 05:30'</td>\n",
       "      <td>2017-10-15 21:25'</td>\n",
       "      <td>2017-10-16 01:25'</td>\n",
       "      <td>Alex Smith</td>\n",
       "    </tr>\n",
       "    <tr>\n",
       "      <th>16</th>\n",
       "      <td>Travis Kelce</td>\n",
       "      <td>@tkelce'</td>\n",
       "      <td>Kansas City Chiefs</td>\n",
       "      <td>W</td>\n",
       "      <td>2017-09-17 18:00'</td>\n",
       "      <td>2017-09-17 22:00'</td>\n",
       "      <td>2017-09-24 21:25'</td>\n",
       "      <td>2017-09-25 01:25'</td>\n",
       "      <td>2017-10-03 01:30'</td>\n",
       "      <td>2017-10-03 05:30'</td>\n",
       "      <td>2017-10-09 01:30'</td>\n",
       "      <td>2017-10-09 05:30'</td>\n",
       "      <td>2017-10-15 21:25'</td>\n",
       "      <td>2017-10-16 01:25'</td>\n",
       "      <td>Travis Kelce OR @tkelce'</td>\n",
       "    </tr>\n",
       "    <tr>\n",
       "      <th>17</th>\n",
       "      <td>Tyreek Hill</td>\n",
       "      <td>@cheetah'</td>\n",
       "      <td>Kansas City Chiefs</td>\n",
       "      <td>B</td>\n",
       "      <td>2017-09-17 18:00'</td>\n",
       "      <td>2017-09-17 22:00'</td>\n",
       "      <td>2017-09-24 21:25'</td>\n",
       "      <td>2017-09-25 01:25'</td>\n",
       "      <td>2017-10-03 01:30'</td>\n",
       "      <td>2017-10-03 05:30'</td>\n",
       "      <td>2017-10-09 01:30'</td>\n",
       "      <td>2017-10-09 05:30'</td>\n",
       "      <td>2017-10-15 21:25'</td>\n",
       "      <td>2017-10-16 01:25'</td>\n",
       "      <td>Tyreek Hill OR @cheetah'</td>\n",
       "    </tr>\n",
       "  </tbody>\n",
       "</table>\n",
       "</div>"
      ],
      "text/plain": [
       "            Name Twitter_handle                Team Race           T1_start  \\\n",
       "15    Alex Smith            NaN  Kansas City Chiefs    W  2017-09-17 18:00'   \n",
       "16  Travis Kelce       @tkelce'  Kansas City Chiefs    W  2017-09-17 18:00'   \n",
       "17   Tyreek Hill      @cheetah'  Kansas City Chiefs    B  2017-09-17 18:00'   \n",
       "\n",
       "               T1_end           T2_start             T2_end  \\\n",
       "15  2017-09-17 22:00'  2017-09-24 21:25'  2017-09-25 01:25'   \n",
       "16  2017-09-17 22:00'  2017-09-24 21:25'  2017-09-25 01:25'   \n",
       "17  2017-09-17 22:00'  2017-09-24 21:25'  2017-09-25 01:25'   \n",
       "\n",
       "             T3_start             T3_end           T4_start  \\\n",
       "15  2017-10-03 01:30'  2017-10-03 05:30'  2017-10-09 01:30'   \n",
       "16  2017-10-03 01:30'  2017-10-03 05:30'  2017-10-09 01:30'   \n",
       "17  2017-10-03 01:30'  2017-10-03 05:30'  2017-10-09 01:30'   \n",
       "\n",
       "               T4_end           T5_start             T5_end  \\\n",
       "15  2017-10-09 05:30'  2017-10-15 21:25'  2017-10-16 01:25'   \n",
       "16  2017-10-09 05:30'  2017-10-15 21:25'  2017-10-16 01:25'   \n",
       "17  2017-10-09 05:30'  2017-10-15 21:25'  2017-10-16 01:25'   \n",
       "\n",
       "                full_twitter  \n",
       "15                Alex Smith  \n",
       "16  Travis Kelce OR @tkelce'  \n",
       "17  Tyreek Hill OR @cheetah'  "
      ]
     },
     "execution_count": 43,
     "metadata": {},
     "output_type": "execute_result"
    }
   ],
   "source": [
    "data_t3_1"
   ]
  },
  {
   "cell_type": "code",
   "execution_count": null,
   "metadata": {},
   "outputs": [],
   "source": [
    "#getting tweets"
   ]
  },
  {
   "cell_type": "code",
   "execution_count": null,
   "metadata": {},
   "outputs": [],
   "source": [
    "data_t3_1_tweets = get_tweets(data_t3_1, start = 'T3_start', end = 'T3_end')"
   ]
  },
  {
   "cell_type": "code",
   "execution_count": null,
   "metadata": {},
   "outputs": [],
   "source": [
    "#saving at csv"
   ]
  },
  {
   "cell_type": "code",
   "execution_count": null,
   "metadata": {},
   "outputs": [],
   "source": [
    "data_t3_1_tweets.to_csv(\"~/Documents/nfl sentiment/final_data/tweets_t3_1.csv\", index = False)"
   ]
  },
  {
   "cell_type": "code",
   "execution_count": null,
   "metadata": {},
   "outputs": [],
   "source": []
  },
  {
   "cell_type": "code",
   "execution_count": null,
   "metadata": {},
   "outputs": [],
   "source": []
  },
  {
   "cell_type": "code",
   "execution_count": null,
   "metadata": {},
   "outputs": [],
   "source": [
    "####T3-2"
   ]
  },
  {
   "cell_type": "code",
   "execution_count": null,
   "metadata": {},
   "outputs": [],
   "source": []
  },
  {
   "cell_type": "code",
   "execution_count": null,
   "metadata": {},
   "outputs": [],
   "source": []
  },
  {
   "cell_type": "code",
   "execution_count": null,
   "metadata": {},
   "outputs": [],
   "source": [
    "#getting the data"
   ]
  },
  {
   "cell_type": "code",
   "execution_count": 44,
   "metadata": {},
   "outputs": [],
   "source": [
    "teams = [\"Tampa Bay Buccaneers\", \"Philadelphia Eagles\"]\n",
    "data_t3_2 = get_data(teams)"
   ]
  },
  {
   "cell_type": "code",
   "execution_count": 45,
   "metadata": {
    "scrolled": true
   },
   "outputs": [
    {
     "data": {
      "text/html": [
       "<div>\n",
       "<style scoped>\n",
       "    .dataframe tbody tr th:only-of-type {\n",
       "        vertical-align: middle;\n",
       "    }\n",
       "\n",
       "    .dataframe tbody tr th {\n",
       "        vertical-align: top;\n",
       "    }\n",
       "\n",
       "    .dataframe thead th {\n",
       "        text-align: right;\n",
       "    }\n",
       "</style>\n",
       "<table border=\"1\" class=\"dataframe\">\n",
       "  <thead>\n",
       "    <tr style=\"text-align: right;\">\n",
       "      <th></th>\n",
       "      <th>Name</th>\n",
       "      <th>Twitter_handle</th>\n",
       "      <th>Team</th>\n",
       "      <th>Race</th>\n",
       "      <th>T1_start</th>\n",
       "      <th>T1_end</th>\n",
       "      <th>T2_start</th>\n",
       "      <th>T2_end</th>\n",
       "      <th>T3_start</th>\n",
       "      <th>T3_end</th>\n",
       "      <th>T4_start</th>\n",
       "      <th>T4_end</th>\n",
       "      <th>T5_start</th>\n",
       "      <th>T5_end</th>\n",
       "      <th>full_twitter</th>\n",
       "    </tr>\n",
       "  </thead>\n",
       "  <tbody>\n",
       "    <tr>\n",
       "      <th>9</th>\n",
       "      <td>Jameis Winston</td>\n",
       "      <td>@Jaboowins'</td>\n",
       "      <td>Tampa Bay Buccaneers</td>\n",
       "      <td>B</td>\n",
       "      <td>2017-09-17 18:00'</td>\n",
       "      <td>2017-09-17 22:00'</td>\n",
       "      <td>2017-09-24 18:00'</td>\n",
       "      <td>2017-09-24 22:00'</td>\n",
       "      <td>2017-10-01 21:05'</td>\n",
       "      <td>2017-10-02 01:05'</td>\n",
       "      <td>2017-10-06 01:25'</td>\n",
       "      <td>2017-10-06 05:25'</td>\n",
       "      <td>2017-10-15 21:05'</td>\n",
       "      <td>2017-10-16 01:05'</td>\n",
       "      <td>Jameis Winston OR @Jaboowins'</td>\n",
       "    </tr>\n",
       "    <tr>\n",
       "      <th>10</th>\n",
       "      <td>Mike Evans</td>\n",
       "      <td>@MikeEvans13_'</td>\n",
       "      <td>Tampa Bay Buccaneers</td>\n",
       "      <td>B</td>\n",
       "      <td>2017-09-17 18:00'</td>\n",
       "      <td>2017-09-17 22:00'</td>\n",
       "      <td>2017-09-24 18:00'</td>\n",
       "      <td>2017-09-24 22:00'</td>\n",
       "      <td>2017-10-01 21:05'</td>\n",
       "      <td>2017-10-02 01:05'</td>\n",
       "      <td>2017-10-06 01:25'</td>\n",
       "      <td>2017-10-06 05:25'</td>\n",
       "      <td>2017-10-15 21:05'</td>\n",
       "      <td>2017-10-16 01:05'</td>\n",
       "      <td>Mike Evans OR @MikeEvans13_'</td>\n",
       "    </tr>\n",
       "    <tr>\n",
       "      <th>11</th>\n",
       "      <td>Adam Humphries</td>\n",
       "      <td>@adamhumphries13'</td>\n",
       "      <td>Tampa Bay Buccaneers</td>\n",
       "      <td>W</td>\n",
       "      <td>2017-09-17 18:00'</td>\n",
       "      <td>2017-09-17 22:00'</td>\n",
       "      <td>2017-09-24 18:00'</td>\n",
       "      <td>2017-09-24 22:00'</td>\n",
       "      <td>2017-10-01 21:05'</td>\n",
       "      <td>2017-10-02 01:05'</td>\n",
       "      <td>2017-10-06 01:25'</td>\n",
       "      <td>2017-10-06 05:25'</td>\n",
       "      <td>2017-10-15 21:05'</td>\n",
       "      <td>2017-10-16 01:05'</td>\n",
       "      <td>Adam Humphries OR @adamhumphries13'</td>\n",
       "    </tr>\n",
       "    <tr>\n",
       "      <th>12</th>\n",
       "      <td>Carson Wentz</td>\n",
       "      <td>@cj_wentz'</td>\n",
       "      <td>Philadelphia Eagles</td>\n",
       "      <td>W</td>\n",
       "      <td>2017-09-17 18:00'</td>\n",
       "      <td>2017-09-17 22:00'</td>\n",
       "      <td>2017-09-24 18:00'</td>\n",
       "      <td>2017-09-24 22:00'</td>\n",
       "      <td>2017-10-01 21:05'</td>\n",
       "      <td>2017-10-02 01:05'</td>\n",
       "      <td>2017-10-08 18:00'</td>\n",
       "      <td>2017-10-08 22:00'</td>\n",
       "      <td>2017-10-13 01:25'</td>\n",
       "      <td>2017-10-13 05:25'</td>\n",
       "      <td>Carson Wentz OR @cj_wentz'</td>\n",
       "    </tr>\n",
       "    <tr>\n",
       "      <th>13</th>\n",
       "      <td>Zach Ertz</td>\n",
       "      <td>@ZERTZ_86'</td>\n",
       "      <td>Philadelphia Eagles</td>\n",
       "      <td>W</td>\n",
       "      <td>2017-09-17 18:00'</td>\n",
       "      <td>2017-09-17 22:00'</td>\n",
       "      <td>2017-09-24 18:00'</td>\n",
       "      <td>2017-09-24 22:00'</td>\n",
       "      <td>2017-10-01 21:05'</td>\n",
       "      <td>2017-10-02 01:05'</td>\n",
       "      <td>2017-10-08 18:00'</td>\n",
       "      <td>2017-10-08 22:00'</td>\n",
       "      <td>2017-10-13 01:25'</td>\n",
       "      <td>2017-10-13 05:25'</td>\n",
       "      <td>Zach Ertz OR @ZERTZ_86'</td>\n",
       "    </tr>\n",
       "    <tr>\n",
       "      <th>14</th>\n",
       "      <td>Alshon Jeffrey</td>\n",
       "      <td>@TheWorldof_AJ'</td>\n",
       "      <td>Philadelphia Eagles</td>\n",
       "      <td>B</td>\n",
       "      <td>2017-09-17 18:00'</td>\n",
       "      <td>2017-09-17 22:00'</td>\n",
       "      <td>2017-09-24 18:00'</td>\n",
       "      <td>2017-09-24 22:00'</td>\n",
       "      <td>2017-10-01 21:05'</td>\n",
       "      <td>2017-10-02 01:05'</td>\n",
       "      <td>2017-10-08 18:00'</td>\n",
       "      <td>2017-10-08 22:00'</td>\n",
       "      <td>2017-10-13 01:25'</td>\n",
       "      <td>2017-10-13 05:25'</td>\n",
       "      <td>Alshon Jeffrey OR @TheWorldof_AJ'</td>\n",
       "    </tr>\n",
       "  </tbody>\n",
       "</table>\n",
       "</div>"
      ],
      "text/plain": [
       "              Name     Twitter_handle                  Team Race  \\\n",
       "9   Jameis Winston        @Jaboowins'  Tampa Bay Buccaneers    B   \n",
       "10      Mike Evans     @MikeEvans13_'  Tampa Bay Buccaneers    B   \n",
       "11  Adam Humphries  @adamhumphries13'  Tampa Bay Buccaneers    W   \n",
       "12    Carson Wentz         @cj_wentz'   Philadelphia Eagles    W   \n",
       "13       Zach Ertz         @ZERTZ_86'   Philadelphia Eagles    W   \n",
       "14  Alshon Jeffrey    @TheWorldof_AJ'   Philadelphia Eagles    B   \n",
       "\n",
       "             T1_start             T1_end           T2_start  \\\n",
       "9   2017-09-17 18:00'  2017-09-17 22:00'  2017-09-24 18:00'   \n",
       "10  2017-09-17 18:00'  2017-09-17 22:00'  2017-09-24 18:00'   \n",
       "11  2017-09-17 18:00'  2017-09-17 22:00'  2017-09-24 18:00'   \n",
       "12  2017-09-17 18:00'  2017-09-17 22:00'  2017-09-24 18:00'   \n",
       "13  2017-09-17 18:00'  2017-09-17 22:00'  2017-09-24 18:00'   \n",
       "14  2017-09-17 18:00'  2017-09-17 22:00'  2017-09-24 18:00'   \n",
       "\n",
       "               T2_end           T3_start             T3_end  \\\n",
       "9   2017-09-24 22:00'  2017-10-01 21:05'  2017-10-02 01:05'   \n",
       "10  2017-09-24 22:00'  2017-10-01 21:05'  2017-10-02 01:05'   \n",
       "11  2017-09-24 22:00'  2017-10-01 21:05'  2017-10-02 01:05'   \n",
       "12  2017-09-24 22:00'  2017-10-01 21:05'  2017-10-02 01:05'   \n",
       "13  2017-09-24 22:00'  2017-10-01 21:05'  2017-10-02 01:05'   \n",
       "14  2017-09-24 22:00'  2017-10-01 21:05'  2017-10-02 01:05'   \n",
       "\n",
       "             T4_start             T4_end           T5_start  \\\n",
       "9   2017-10-06 01:25'  2017-10-06 05:25'  2017-10-15 21:05'   \n",
       "10  2017-10-06 01:25'  2017-10-06 05:25'  2017-10-15 21:05'   \n",
       "11  2017-10-06 01:25'  2017-10-06 05:25'  2017-10-15 21:05'   \n",
       "12  2017-10-08 18:00'  2017-10-08 22:00'  2017-10-13 01:25'   \n",
       "13  2017-10-08 18:00'  2017-10-08 22:00'  2017-10-13 01:25'   \n",
       "14  2017-10-08 18:00'  2017-10-08 22:00'  2017-10-13 01:25'   \n",
       "\n",
       "               T5_end                         full_twitter  \n",
       "9   2017-10-16 01:05'        Jameis Winston OR @Jaboowins'  \n",
       "10  2017-10-16 01:05'         Mike Evans OR @MikeEvans13_'  \n",
       "11  2017-10-16 01:05'  Adam Humphries OR @adamhumphries13'  \n",
       "12  2017-10-13 05:25'           Carson Wentz OR @cj_wentz'  \n",
       "13  2017-10-13 05:25'              Zach Ertz OR @ZERTZ_86'  \n",
       "14  2017-10-13 05:25'    Alshon Jeffrey OR @TheWorldof_AJ'  "
      ]
     },
     "execution_count": 45,
     "metadata": {},
     "output_type": "execute_result"
    }
   ],
   "source": [
    "data_t3_2"
   ]
  },
  {
   "cell_type": "code",
   "execution_count": null,
   "metadata": {},
   "outputs": [],
   "source": [
    "#getting tweets"
   ]
  },
  {
   "cell_type": "code",
   "execution_count": null,
   "metadata": {},
   "outputs": [],
   "source": [
    "data_t3_2_tweets = get_tweets(data_t3_2, start = 'T3_start', end = 'T3_end')"
   ]
  },
  {
   "cell_type": "code",
   "execution_count": null,
   "metadata": {},
   "outputs": [],
   "source": [
    "#saving at csv"
   ]
  },
  {
   "cell_type": "code",
   "execution_count": null,
   "metadata": {},
   "outputs": [],
   "source": [
    "data_t3_2_tweets.to_csv(\"~/Documents/nfl sentiment/final_data/tweets_t3_2.csv\", index = False)"
   ]
  },
  {
   "cell_type": "code",
   "execution_count": null,
   "metadata": {},
   "outputs": [],
   "source": []
  },
  {
   "cell_type": "code",
   "execution_count": null,
   "metadata": {},
   "outputs": [],
   "source": []
  },
  {
   "cell_type": "code",
   "execution_count": null,
   "metadata": {},
   "outputs": [],
   "source": [
    "####T3-3"
   ]
  },
  {
   "cell_type": "code",
   "execution_count": null,
   "metadata": {},
   "outputs": [],
   "source": []
  },
  {
   "cell_type": "code",
   "execution_count": null,
   "metadata": {},
   "outputs": [],
   "source": []
  },
  {
   "cell_type": "code",
   "execution_count": null,
   "metadata": {},
   "outputs": [],
   "source": [
    "#getting the data"
   ]
  },
  {
   "cell_type": "code",
   "execution_count": 46,
   "metadata": {},
   "outputs": [],
   "source": [
    "teams = [\"Carolina Panthers\", \"Baltimore Ravens\"]\n",
    "data_t3_3 = get_data(teams)"
   ]
  },
  {
   "cell_type": "code",
   "execution_count": 47,
   "metadata": {
    "scrolled": true
   },
   "outputs": [
    {
     "data": {
      "text/html": [
       "<div>\n",
       "<style scoped>\n",
       "    .dataframe tbody tr th:only-of-type {\n",
       "        vertical-align: middle;\n",
       "    }\n",
       "\n",
       "    .dataframe tbody tr th {\n",
       "        vertical-align: top;\n",
       "    }\n",
       "\n",
       "    .dataframe thead th {\n",
       "        text-align: right;\n",
       "    }\n",
       "</style>\n",
       "<table border=\"1\" class=\"dataframe\">\n",
       "  <thead>\n",
       "    <tr style=\"text-align: right;\">\n",
       "      <th></th>\n",
       "      <th>Name</th>\n",
       "      <th>Twitter_handle</th>\n",
       "      <th>Team</th>\n",
       "      <th>Race</th>\n",
       "      <th>T1_start</th>\n",
       "      <th>T1_end</th>\n",
       "      <th>T2_start</th>\n",
       "      <th>T2_end</th>\n",
       "      <th>T3_start</th>\n",
       "      <th>T3_end</th>\n",
       "      <th>T4_start</th>\n",
       "      <th>T4_end</th>\n",
       "      <th>T5_start</th>\n",
       "      <th>T5_end</th>\n",
       "      <th>full_twitter</th>\n",
       "    </tr>\n",
       "  </thead>\n",
       "  <tbody>\n",
       "    <tr>\n",
       "      <th>3</th>\n",
       "      <td>Cam Newton</td>\n",
       "      <td>@CameronNewton'</td>\n",
       "      <td>Carolina Panthers</td>\n",
       "      <td>B</td>\n",
       "      <td>2017-09-17 18:00'</td>\n",
       "      <td>2017-09-17 22:00'</td>\n",
       "      <td>2017-09-24 18:00'</td>\n",
       "      <td>2017-09-24 22:00'</td>\n",
       "      <td>2017-10-01 18:00'</td>\n",
       "      <td>2017-10-01 22:00'</td>\n",
       "      <td>2017-10-08 18:00'</td>\n",
       "      <td>2017-10-08 22:00'</td>\n",
       "      <td>2017-10-13 01:25'</td>\n",
       "      <td>2017-10-13 05:25'</td>\n",
       "      <td>Cam Newton OR @CameronNewton'</td>\n",
       "    </tr>\n",
       "    <tr>\n",
       "      <th>4</th>\n",
       "      <td>Devin Funchess</td>\n",
       "      <td>@D_FUNCH'</td>\n",
       "      <td>Carolina Panthers</td>\n",
       "      <td>B</td>\n",
       "      <td>2017-09-17 18:00'</td>\n",
       "      <td>2017-09-17 22:00'</td>\n",
       "      <td>2017-09-24 18:00'</td>\n",
       "      <td>2017-09-24 22:00'</td>\n",
       "      <td>2017-10-01 18:00'</td>\n",
       "      <td>2017-10-01 22:00'</td>\n",
       "      <td>2017-10-08 18:00'</td>\n",
       "      <td>2017-10-08 22:00'</td>\n",
       "      <td>2017-10-13 01:25'</td>\n",
       "      <td>2017-10-13 05:25'</td>\n",
       "      <td>Devin Funchess OR @D_FUNCH'</td>\n",
       "    </tr>\n",
       "    <tr>\n",
       "      <th>5</th>\n",
       "      <td>Christian McCaffrey</td>\n",
       "      <td>@run__cmc'</td>\n",
       "      <td>Carolina Panthers</td>\n",
       "      <td>W</td>\n",
       "      <td>2017-09-17 18:00'</td>\n",
       "      <td>2017-09-17 22:00'</td>\n",
       "      <td>2017-09-24 18:00'</td>\n",
       "      <td>2017-09-24 22:00'</td>\n",
       "      <td>2017-10-01 18:00'</td>\n",
       "      <td>2017-10-01 22:00'</td>\n",
       "      <td>2017-10-08 18:00'</td>\n",
       "      <td>2017-10-08 22:00'</td>\n",
       "      <td>2017-10-13 01:25'</td>\n",
       "      <td>2017-10-13 05:25'</td>\n",
       "      <td>Christian McCaffrey OR @run__cmc'</td>\n",
       "    </tr>\n",
       "    <tr>\n",
       "      <th>21</th>\n",
       "      <td>Joe Flacco</td>\n",
       "      <td>@JoeFlacco'</td>\n",
       "      <td>Baltimore Ravens</td>\n",
       "      <td>W</td>\n",
       "      <td>2017-09-17 18:00'</td>\n",
       "      <td>2017-09-17 22:00'</td>\n",
       "      <td>2017-09-24 14:30'</td>\n",
       "      <td>2017-09-24 18:30'</td>\n",
       "      <td>2017-10-01 18:00'</td>\n",
       "      <td>2017-10-01 22:00'</td>\n",
       "      <td>2017-10-08 21:05'</td>\n",
       "      <td>2017-10-09 01:05'</td>\n",
       "      <td>2017-10-15 18:00'</td>\n",
       "      <td>2017-10-15 22:00'</td>\n",
       "      <td>Joe Flacco OR @JoeFlacco'</td>\n",
       "    </tr>\n",
       "    <tr>\n",
       "      <th>22</th>\n",
       "      <td>Nick Boyle</td>\n",
       "      <td>@nickboyle86'</td>\n",
       "      <td>Baltimore Ravens</td>\n",
       "      <td>W</td>\n",
       "      <td>2017-09-17 18:00'</td>\n",
       "      <td>2017-09-17 22:00'</td>\n",
       "      <td>2017-09-24 14:30'</td>\n",
       "      <td>2017-09-24 18:30'</td>\n",
       "      <td>2017-10-01 18:00'</td>\n",
       "      <td>2017-10-01 22:00'</td>\n",
       "      <td>2017-10-08 21:05'</td>\n",
       "      <td>2017-10-09 01:05'</td>\n",
       "      <td>2017-10-15 18:00'</td>\n",
       "      <td>2017-10-15 22:00'</td>\n",
       "      <td>Nick Boyle OR @nickboyle86'</td>\n",
       "    </tr>\n",
       "    <tr>\n",
       "      <th>23</th>\n",
       "      <td>Mike Wallace</td>\n",
       "      <td>@Wallace17_daKid'</td>\n",
       "      <td>Baltimore Ravens</td>\n",
       "      <td>B</td>\n",
       "      <td>2017-09-17 18:00'</td>\n",
       "      <td>2017-09-17 22:00'</td>\n",
       "      <td>2017-09-24 14:30'</td>\n",
       "      <td>2017-09-24 18:30'</td>\n",
       "      <td>2017-10-01 18:00'</td>\n",
       "      <td>2017-10-01 22:00'</td>\n",
       "      <td>2017-10-08 21:05'</td>\n",
       "      <td>2017-10-09 01:05'</td>\n",
       "      <td>2017-10-15 18:00'</td>\n",
       "      <td>2017-10-15 22:00'</td>\n",
       "      <td>Mike Wallace OR @Wallace17_daKid'</td>\n",
       "    </tr>\n",
       "  </tbody>\n",
       "</table>\n",
       "</div>"
      ],
      "text/plain": [
       "                   Name     Twitter_handle               Team Race  \\\n",
       "3            Cam Newton    @CameronNewton'  Carolina Panthers    B   \n",
       "4        Devin Funchess          @D_FUNCH'  Carolina Panthers    B   \n",
       "5   Christian McCaffrey         @run__cmc'  Carolina Panthers    W   \n",
       "21           Joe Flacco        @JoeFlacco'   Baltimore Ravens    W   \n",
       "22           Nick Boyle      @nickboyle86'   Baltimore Ravens    W   \n",
       "23         Mike Wallace  @Wallace17_daKid'   Baltimore Ravens    B   \n",
       "\n",
       "             T1_start             T1_end           T2_start  \\\n",
       "3   2017-09-17 18:00'  2017-09-17 22:00'  2017-09-24 18:00'   \n",
       "4   2017-09-17 18:00'  2017-09-17 22:00'  2017-09-24 18:00'   \n",
       "5   2017-09-17 18:00'  2017-09-17 22:00'  2017-09-24 18:00'   \n",
       "21  2017-09-17 18:00'  2017-09-17 22:00'  2017-09-24 14:30'   \n",
       "22  2017-09-17 18:00'  2017-09-17 22:00'  2017-09-24 14:30'   \n",
       "23  2017-09-17 18:00'  2017-09-17 22:00'  2017-09-24 14:30'   \n",
       "\n",
       "               T2_end           T3_start             T3_end  \\\n",
       "3   2017-09-24 22:00'  2017-10-01 18:00'  2017-10-01 22:00'   \n",
       "4   2017-09-24 22:00'  2017-10-01 18:00'  2017-10-01 22:00'   \n",
       "5   2017-09-24 22:00'  2017-10-01 18:00'  2017-10-01 22:00'   \n",
       "21  2017-09-24 18:30'  2017-10-01 18:00'  2017-10-01 22:00'   \n",
       "22  2017-09-24 18:30'  2017-10-01 18:00'  2017-10-01 22:00'   \n",
       "23  2017-09-24 18:30'  2017-10-01 18:00'  2017-10-01 22:00'   \n",
       "\n",
       "             T4_start             T4_end           T5_start  \\\n",
       "3   2017-10-08 18:00'  2017-10-08 22:00'  2017-10-13 01:25'   \n",
       "4   2017-10-08 18:00'  2017-10-08 22:00'  2017-10-13 01:25'   \n",
       "5   2017-10-08 18:00'  2017-10-08 22:00'  2017-10-13 01:25'   \n",
       "21  2017-10-08 21:05'  2017-10-09 01:05'  2017-10-15 18:00'   \n",
       "22  2017-10-08 21:05'  2017-10-09 01:05'  2017-10-15 18:00'   \n",
       "23  2017-10-08 21:05'  2017-10-09 01:05'  2017-10-15 18:00'   \n",
       "\n",
       "               T5_end                       full_twitter  \n",
       "3   2017-10-13 05:25'      Cam Newton OR @CameronNewton'  \n",
       "4   2017-10-13 05:25'        Devin Funchess OR @D_FUNCH'  \n",
       "5   2017-10-13 05:25'  Christian McCaffrey OR @run__cmc'  \n",
       "21  2017-10-15 22:00'          Joe Flacco OR @JoeFlacco'  \n",
       "22  2017-10-15 22:00'        Nick Boyle OR @nickboyle86'  \n",
       "23  2017-10-15 22:00'  Mike Wallace OR @Wallace17_daKid'  "
      ]
     },
     "execution_count": 47,
     "metadata": {},
     "output_type": "execute_result"
    }
   ],
   "source": [
    "data_t3_3"
   ]
  },
  {
   "cell_type": "code",
   "execution_count": null,
   "metadata": {},
   "outputs": [],
   "source": [
    "#getting tweets"
   ]
  },
  {
   "cell_type": "code",
   "execution_count": null,
   "metadata": {},
   "outputs": [],
   "source": [
    "data_t3_3_tweets = get_tweets(data_t3_3, start = 'T3_start', end = 'T3_end')"
   ]
  },
  {
   "cell_type": "code",
   "execution_count": null,
   "metadata": {},
   "outputs": [],
   "source": [
    "#saving at csv"
   ]
  },
  {
   "cell_type": "code",
   "execution_count": null,
   "metadata": {},
   "outputs": [],
   "source": [
    "data_t3_3_tweets.to_csv(\"~/Documents/nfl sentiment/final_data/tweets_t3_3.csv\", index = False)"
   ]
  },
  {
   "cell_type": "code",
   "execution_count": null,
   "metadata": {},
   "outputs": [],
   "source": []
  },
  {
   "cell_type": "code",
   "execution_count": null,
   "metadata": {},
   "outputs": [],
   "source": []
  },
  {
   "cell_type": "code",
   "execution_count": null,
   "metadata": {},
   "outputs": [],
   "source": [
    "####T3-4"
   ]
  },
  {
   "cell_type": "code",
   "execution_count": null,
   "metadata": {},
   "outputs": [],
   "source": []
  },
  {
   "cell_type": "code",
   "execution_count": null,
   "metadata": {},
   "outputs": [],
   "source": []
  },
  {
   "cell_type": "code",
   "execution_count": null,
   "metadata": {},
   "outputs": [],
   "source": [
    "#getting the data"
   ]
  },
  {
   "cell_type": "code",
   "execution_count": 48,
   "metadata": {},
   "outputs": [],
   "source": [
    "teams = [\"Dallas Cowboys\"]\n",
    "data_t3_4 = get_data(teams)"
   ]
  },
  {
   "cell_type": "code",
   "execution_count": 49,
   "metadata": {
    "scrolled": true
   },
   "outputs": [
    {
     "data": {
      "text/html": [
       "<div>\n",
       "<style scoped>\n",
       "    .dataframe tbody tr th:only-of-type {\n",
       "        vertical-align: middle;\n",
       "    }\n",
       "\n",
       "    .dataframe tbody tr th {\n",
       "        vertical-align: top;\n",
       "    }\n",
       "\n",
       "    .dataframe thead th {\n",
       "        text-align: right;\n",
       "    }\n",
       "</style>\n",
       "<table border=\"1\" class=\"dataframe\">\n",
       "  <thead>\n",
       "    <tr style=\"text-align: right;\">\n",
       "      <th></th>\n",
       "      <th>Name</th>\n",
       "      <th>Twitter_handle</th>\n",
       "      <th>Team</th>\n",
       "      <th>Race</th>\n",
       "      <th>T1_start</th>\n",
       "      <th>T1_end</th>\n",
       "      <th>T2_start</th>\n",
       "      <th>T2_end</th>\n",
       "      <th>T3_start</th>\n",
       "      <th>T3_end</th>\n",
       "      <th>T4_start</th>\n",
       "      <th>T4_end</th>\n",
       "      <th>T5_start</th>\n",
       "      <th>T5_end</th>\n",
       "      <th>full_twitter</th>\n",
       "    </tr>\n",
       "  </thead>\n",
       "  <tbody>\n",
       "    <tr>\n",
       "      <th>6</th>\n",
       "      <td>Dak Prescott</td>\n",
       "      <td>@dak'</td>\n",
       "      <td>Dallas Cowboys</td>\n",
       "      <td>B</td>\n",
       "      <td>2017-09-11 01:30'</td>\n",
       "      <td>2017-09-11 05:30'</td>\n",
       "      <td>2017-09-17 21:25'</td>\n",
       "      <td>2017-09-18 01:25'</td>\n",
       "      <td>2017-09-26 01:30'</td>\n",
       "      <td>2017-09-26 05:30'</td>\n",
       "      <td>2017-10-01 18:00'</td>\n",
       "      <td>2017-10-01 22:00'</td>\n",
       "      <td>2017-10-08 21:25'</td>\n",
       "      <td>2017-10-09 01:25'</td>\n",
       "      <td>Dak Prescott OR @dak'</td>\n",
       "    </tr>\n",
       "    <tr>\n",
       "      <th>7</th>\n",
       "      <td>Dez Bryant</td>\n",
       "      <td>@DezBryant'</td>\n",
       "      <td>Dallas Cowboys</td>\n",
       "      <td>B</td>\n",
       "      <td>2017-09-11 01:30'</td>\n",
       "      <td>2017-09-11 05:30'</td>\n",
       "      <td>2017-09-17 21:25'</td>\n",
       "      <td>2017-09-18 01:25'</td>\n",
       "      <td>2017-09-26 01:30'</td>\n",
       "      <td>2017-09-26 05:30'</td>\n",
       "      <td>2017-10-01 18:00'</td>\n",
       "      <td>2017-10-01 22:00'</td>\n",
       "      <td>2017-10-08 21:25'</td>\n",
       "      <td>2017-10-09 01:25'</td>\n",
       "      <td>Dez Bryant OR @DezBryant'</td>\n",
       "    </tr>\n",
       "    <tr>\n",
       "      <th>8</th>\n",
       "      <td>Jason Witten</td>\n",
       "      <td>@JasonWitten'</td>\n",
       "      <td>Dallas Cowboys</td>\n",
       "      <td>W</td>\n",
       "      <td>2017-09-11 01:30'</td>\n",
       "      <td>2017-09-11 05:30'</td>\n",
       "      <td>2017-09-17 21:25'</td>\n",
       "      <td>2017-09-18 01:25'</td>\n",
       "      <td>2017-09-26 01:30'</td>\n",
       "      <td>2017-09-26 05:30'</td>\n",
       "      <td>2017-10-01 18:00'</td>\n",
       "      <td>2017-10-01 22:00'</td>\n",
       "      <td>2017-10-08 21:25'</td>\n",
       "      <td>2017-10-09 01:25'</td>\n",
       "      <td>Jason Witten OR @JasonWitten'</td>\n",
       "    </tr>\n",
       "  </tbody>\n",
       "</table>\n",
       "</div>"
      ],
      "text/plain": [
       "           Name Twitter_handle            Team Race           T1_start  \\\n",
       "6  Dak Prescott          @dak'  Dallas Cowboys    B  2017-09-11 01:30'   \n",
       "7    Dez Bryant    @DezBryant'  Dallas Cowboys    B  2017-09-11 01:30'   \n",
       "8  Jason Witten  @JasonWitten'  Dallas Cowboys    W  2017-09-11 01:30'   \n",
       "\n",
       "              T1_end           T2_start             T2_end           T3_start  \\\n",
       "6  2017-09-11 05:30'  2017-09-17 21:25'  2017-09-18 01:25'  2017-09-26 01:30'   \n",
       "7  2017-09-11 05:30'  2017-09-17 21:25'  2017-09-18 01:25'  2017-09-26 01:30'   \n",
       "8  2017-09-11 05:30'  2017-09-17 21:25'  2017-09-18 01:25'  2017-09-26 01:30'   \n",
       "\n",
       "              T3_end           T4_start             T4_end           T5_start  \\\n",
       "6  2017-09-26 05:30'  2017-10-01 18:00'  2017-10-01 22:00'  2017-10-08 21:25'   \n",
       "7  2017-09-26 05:30'  2017-10-01 18:00'  2017-10-01 22:00'  2017-10-08 21:25'   \n",
       "8  2017-09-26 05:30'  2017-10-01 18:00'  2017-10-01 22:00'  2017-10-08 21:25'   \n",
       "\n",
       "              T5_end                   full_twitter  \n",
       "6  2017-10-09 01:25'          Dak Prescott OR @dak'  \n",
       "7  2017-10-09 01:25'      Dez Bryant OR @DezBryant'  \n",
       "8  2017-10-09 01:25'  Jason Witten OR @JasonWitten'  "
      ]
     },
     "execution_count": 49,
     "metadata": {},
     "output_type": "execute_result"
    }
   ],
   "source": [
    "data_t3_4"
   ]
  },
  {
   "cell_type": "code",
   "execution_count": null,
   "metadata": {},
   "outputs": [],
   "source": [
    "#getting tweets"
   ]
  },
  {
   "cell_type": "code",
   "execution_count": null,
   "metadata": {},
   "outputs": [],
   "source": [
    "data_t3_4_tweets = get_tweets(data_t3_4, start = 'T3_start', end = 'T3_end')"
   ]
  },
  {
   "cell_type": "code",
   "execution_count": null,
   "metadata": {},
   "outputs": [],
   "source": [
    "#saving at csv"
   ]
  },
  {
   "cell_type": "code",
   "execution_count": null,
   "metadata": {},
   "outputs": [],
   "source": [
    "data_t3_4_tweets.to_csv(\"~/Documents/nfl sentiment/final_data/tweets_t3_4.csv\", index = False)"
   ]
  },
  {
   "cell_type": "code",
   "execution_count": null,
   "metadata": {},
   "outputs": [],
   "source": []
  },
  {
   "cell_type": "code",
   "execution_count": null,
   "metadata": {},
   "outputs": [],
   "source": []
  },
  {
   "cell_type": "code",
   "execution_count": null,
   "metadata": {},
   "outputs": [],
   "source": [
    "####T3-5"
   ]
  },
  {
   "cell_type": "code",
   "execution_count": null,
   "metadata": {},
   "outputs": [],
   "source": []
  },
  {
   "cell_type": "code",
   "execution_count": null,
   "metadata": {},
   "outputs": [],
   "source": []
  },
  {
   "cell_type": "code",
   "execution_count": null,
   "metadata": {},
   "outputs": [],
   "source": [
    "#getting the data"
   ]
  },
  {
   "cell_type": "code",
   "execution_count": 50,
   "metadata": {},
   "outputs": [],
   "source": [
    "teams = [\"Cincinnati Bengals\"]\n",
    "data_t3_5 = get_data(teams)"
   ]
  },
  {
   "cell_type": "code",
   "execution_count": 51,
   "metadata": {
    "scrolled": true
   },
   "outputs": [
    {
     "data": {
      "text/html": [
       "<div>\n",
       "<style scoped>\n",
       "    .dataframe tbody tr th:only-of-type {\n",
       "        vertical-align: middle;\n",
       "    }\n",
       "\n",
       "    .dataframe tbody tr th {\n",
       "        vertical-align: top;\n",
       "    }\n",
       "\n",
       "    .dataframe thead th {\n",
       "        text-align: right;\n",
       "    }\n",
       "</style>\n",
       "<table border=\"1\" class=\"dataframe\">\n",
       "  <thead>\n",
       "    <tr style=\"text-align: right;\">\n",
       "      <th></th>\n",
       "      <th>Name</th>\n",
       "      <th>Twitter_handle</th>\n",
       "      <th>Team</th>\n",
       "      <th>Race</th>\n",
       "      <th>T1_start</th>\n",
       "      <th>T1_end</th>\n",
       "      <th>T2_start</th>\n",
       "      <th>T2_end</th>\n",
       "      <th>T3_start</th>\n",
       "      <th>T3_end</th>\n",
       "      <th>T4_start</th>\n",
       "      <th>T4_end</th>\n",
       "      <th>T5_start</th>\n",
       "      <th>T5_end</th>\n",
       "      <th>full_twitter</th>\n",
       "    </tr>\n",
       "  </thead>\n",
       "  <tbody>\n",
       "    <tr>\n",
       "      <th>18</th>\n",
       "      <td>Andy Dalton</td>\n",
       "      <td>@andydalton14'</td>\n",
       "      <td>Cincinnati Bengals</td>\n",
       "      <td>W</td>\n",
       "      <td>2017-09-10 18:00'</td>\n",
       "      <td>2017-09-10 22:00'</td>\n",
       "      <td>2017-09-15 01:25'</td>\n",
       "      <td>2017-09-15 05:25'</td>\n",
       "      <td>2017-09-24 21:25'</td>\n",
       "      <td>2017-09-25 01:25'</td>\n",
       "      <td>2017-10-01 18:00'</td>\n",
       "      <td>2017-10-01 22:00'</td>\n",
       "      <td>2017-10-08 18:00'</td>\n",
       "      <td>2017-10-08 22:00'</td>\n",
       "      <td>Andy Dalton OR @andydalton14'</td>\n",
       "    </tr>\n",
       "    <tr>\n",
       "      <th>19</th>\n",
       "      <td>Tyler Kroft</td>\n",
       "      <td>@Kroft86'</td>\n",
       "      <td>Cincinnati Bengals</td>\n",
       "      <td>W</td>\n",
       "      <td>2017-09-10 18:00'</td>\n",
       "      <td>2017-09-10 22:00'</td>\n",
       "      <td>2017-09-15 01:25'</td>\n",
       "      <td>2017-09-15 05:25'</td>\n",
       "      <td>2017-09-24 21:25'</td>\n",
       "      <td>2017-09-25 01:25'</td>\n",
       "      <td>2017-10-01 18:00'</td>\n",
       "      <td>2017-10-01 22:00'</td>\n",
       "      <td>2017-10-08 18:00'</td>\n",
       "      <td>2017-10-08 22:00'</td>\n",
       "      <td>Tyler Kroft OR @Kroft86'</td>\n",
       "    </tr>\n",
       "    <tr>\n",
       "      <th>20</th>\n",
       "      <td>A.J. Green</td>\n",
       "      <td>@ajgreen_18'</td>\n",
       "      <td>Cincinnati Bengals</td>\n",
       "      <td>B</td>\n",
       "      <td>2017-09-10 18:00'</td>\n",
       "      <td>2017-09-10 22:00'</td>\n",
       "      <td>2017-09-15 01:25'</td>\n",
       "      <td>2017-09-15 05:25'</td>\n",
       "      <td>2017-09-24 21:25'</td>\n",
       "      <td>2017-09-25 01:25'</td>\n",
       "      <td>2017-10-01 18:00'</td>\n",
       "      <td>2017-10-01 22:00'</td>\n",
       "      <td>2017-10-08 18:00'</td>\n",
       "      <td>2017-10-08 22:00'</td>\n",
       "      <td>A.J. Green OR @ajgreen_18'</td>\n",
       "    </tr>\n",
       "  </tbody>\n",
       "</table>\n",
       "</div>"
      ],
      "text/plain": [
       "           Name  Twitter_handle                Team Race           T1_start  \\\n",
       "18  Andy Dalton  @andydalton14'  Cincinnati Bengals    W  2017-09-10 18:00'   \n",
       "19  Tyler Kroft       @Kroft86'  Cincinnati Bengals    W  2017-09-10 18:00'   \n",
       "20   A.J. Green    @ajgreen_18'  Cincinnati Bengals    B  2017-09-10 18:00'   \n",
       "\n",
       "               T1_end           T2_start             T2_end  \\\n",
       "18  2017-09-10 22:00'  2017-09-15 01:25'  2017-09-15 05:25'   \n",
       "19  2017-09-10 22:00'  2017-09-15 01:25'  2017-09-15 05:25'   \n",
       "20  2017-09-10 22:00'  2017-09-15 01:25'  2017-09-15 05:25'   \n",
       "\n",
       "             T3_start             T3_end           T4_start  \\\n",
       "18  2017-09-24 21:25'  2017-09-25 01:25'  2017-10-01 18:00'   \n",
       "19  2017-09-24 21:25'  2017-09-25 01:25'  2017-10-01 18:00'   \n",
       "20  2017-09-24 21:25'  2017-09-25 01:25'  2017-10-01 18:00'   \n",
       "\n",
       "               T4_end           T5_start             T5_end  \\\n",
       "18  2017-10-01 22:00'  2017-10-08 18:00'  2017-10-08 22:00'   \n",
       "19  2017-10-01 22:00'  2017-10-08 18:00'  2017-10-08 22:00'   \n",
       "20  2017-10-01 22:00'  2017-10-08 18:00'  2017-10-08 22:00'   \n",
       "\n",
       "                     full_twitter  \n",
       "18  Andy Dalton OR @andydalton14'  \n",
       "19       Tyler Kroft OR @Kroft86'  \n",
       "20     A.J. Green OR @ajgreen_18'  "
      ]
     },
     "execution_count": 51,
     "metadata": {},
     "output_type": "execute_result"
    }
   ],
   "source": [
    "data_t3_5"
   ]
  },
  {
   "cell_type": "code",
   "execution_count": null,
   "metadata": {},
   "outputs": [],
   "source": [
    "#getting tweets"
   ]
  },
  {
   "cell_type": "code",
   "execution_count": null,
   "metadata": {},
   "outputs": [],
   "source": [
    "data_t3_5_tweets = get_tweets(data_t3_5, start = 'T3_start', end = 'T3_end')"
   ]
  },
  {
   "cell_type": "code",
   "execution_count": null,
   "metadata": {},
   "outputs": [],
   "source": [
    "#saving at csv"
   ]
  },
  {
   "cell_type": "code",
   "execution_count": null,
   "metadata": {},
   "outputs": [],
   "source": [
    "data_t3_5_tweets.to_csv(\"~/Documents/nfl sentiment/final_data/tweets_t3_5.csv\", index = False)"
   ]
  },
  {
   "cell_type": "code",
   "execution_count": null,
   "metadata": {},
   "outputs": [],
   "source": []
  },
  {
   "cell_type": "code",
   "execution_count": null,
   "metadata": {},
   "outputs": [],
   "source": []
  },
  {
   "cell_type": "code",
   "execution_count": null,
   "metadata": {},
   "outputs": [],
   "source": [
    "####T3-6"
   ]
  },
  {
   "cell_type": "code",
   "execution_count": null,
   "metadata": {},
   "outputs": [],
   "source": []
  },
  {
   "cell_type": "code",
   "execution_count": null,
   "metadata": {},
   "outputs": [],
   "source": []
  },
  {
   "cell_type": "code",
   "execution_count": null,
   "metadata": {},
   "outputs": [],
   "source": [
    "#getting the data"
   ]
  },
  {
   "cell_type": "code",
   "execution_count": 52,
   "metadata": {},
   "outputs": [],
   "source": [
    "teams = [\"Seattle Seahawks\"]\n",
    "data_t3_6 = get_data(teams)"
   ]
  },
  {
   "cell_type": "code",
   "execution_count": 53,
   "metadata": {
    "scrolled": true
   },
   "outputs": [
    {
     "data": {
      "text/html": [
       "<div>\n",
       "<style scoped>\n",
       "    .dataframe tbody tr th:only-of-type {\n",
       "        vertical-align: middle;\n",
       "    }\n",
       "\n",
       "    .dataframe tbody tr th {\n",
       "        vertical-align: top;\n",
       "    }\n",
       "\n",
       "    .dataframe thead th {\n",
       "        text-align: right;\n",
       "    }\n",
       "</style>\n",
       "<table border=\"1\" class=\"dataframe\">\n",
       "  <thead>\n",
       "    <tr style=\"text-align: right;\">\n",
       "      <th></th>\n",
       "      <th>Name</th>\n",
       "      <th>Twitter_handle</th>\n",
       "      <th>Team</th>\n",
       "      <th>Race</th>\n",
       "      <th>T1_start</th>\n",
       "      <th>T1_end</th>\n",
       "      <th>T2_start</th>\n",
       "      <th>T2_end</th>\n",
       "      <th>T3_start</th>\n",
       "      <th>T3_end</th>\n",
       "      <th>T4_start</th>\n",
       "      <th>T4_end</th>\n",
       "      <th>T5_start</th>\n",
       "      <th>T5_end</th>\n",
       "      <th>full_twitter</th>\n",
       "    </tr>\n",
       "  </thead>\n",
       "  <tbody>\n",
       "    <tr>\n",
       "      <th>0</th>\n",
       "      <td>Russell Wilson</td>\n",
       "      <td>@DangeRussWilson'</td>\n",
       "      <td>Seattle Seahawks</td>\n",
       "      <td>B</td>\n",
       "      <td>2017-09-10 21:25'</td>\n",
       "      <td>2017-09-11 01:25'</td>\n",
       "      <td>2017-09-17 21:25'</td>\n",
       "      <td>2017-09-18 01:25'</td>\n",
       "      <td>2017-09-24 21:05'</td>\n",
       "      <td>2017-09-25 01:05'</td>\n",
       "      <td>2017-10-02 01:30'</td>\n",
       "      <td>2017-10-02 05:30'</td>\n",
       "      <td>2017-10-08 21:05'</td>\n",
       "      <td>2017-10-09 01:05'</td>\n",
       "      <td>Russell Wilson OR @DangeRussWilson'</td>\n",
       "    </tr>\n",
       "    <tr>\n",
       "      <th>1</th>\n",
       "      <td>Doug Baldwin</td>\n",
       "      <td>@DougBaldwinJr'</td>\n",
       "      <td>Seattle Seahawks</td>\n",
       "      <td>B</td>\n",
       "      <td>2017-09-10 21:25'</td>\n",
       "      <td>2017-09-11 01:25'</td>\n",
       "      <td>2017-09-17 21:25'</td>\n",
       "      <td>2017-09-18 01:25'</td>\n",
       "      <td>2017-09-24 21:05'</td>\n",
       "      <td>2017-09-25 01:05'</td>\n",
       "      <td>2017-10-02 01:30'</td>\n",
       "      <td>2017-10-02 05:30'</td>\n",
       "      <td>2017-10-08 21:05'</td>\n",
       "      <td>2017-10-09 01:05'</td>\n",
       "      <td>Doug Baldwin OR @DougBaldwinJr'</td>\n",
       "    </tr>\n",
       "    <tr>\n",
       "      <th>2</th>\n",
       "      <td>Jimmy Graham</td>\n",
       "      <td>@TheJimmyGraham'</td>\n",
       "      <td>Seattle Seahawks</td>\n",
       "      <td>W</td>\n",
       "      <td>2017-09-10 21:25'</td>\n",
       "      <td>2017-09-11 01:25'</td>\n",
       "      <td>2017-09-17 21:25'</td>\n",
       "      <td>2017-09-18 01:25'</td>\n",
       "      <td>2017-09-24 21:05'</td>\n",
       "      <td>2017-09-25 01:05'</td>\n",
       "      <td>2017-10-02 01:30'</td>\n",
       "      <td>2017-10-02 05:30'</td>\n",
       "      <td>2017-10-08 21:05'</td>\n",
       "      <td>2017-10-09 01:05'</td>\n",
       "      <td>Jimmy Graham OR @TheJimmyGraham'</td>\n",
       "    </tr>\n",
       "  </tbody>\n",
       "</table>\n",
       "</div>"
      ],
      "text/plain": [
       "             Name     Twitter_handle              Team Race  \\\n",
       "0  Russell Wilson  @DangeRussWilson'  Seattle Seahawks    B   \n",
       "1    Doug Baldwin    @DougBaldwinJr'  Seattle Seahawks    B   \n",
       "2    Jimmy Graham   @TheJimmyGraham'  Seattle Seahawks    W   \n",
       "\n",
       "            T1_start             T1_end           T2_start             T2_end  \\\n",
       "0  2017-09-10 21:25'  2017-09-11 01:25'  2017-09-17 21:25'  2017-09-18 01:25'   \n",
       "1  2017-09-10 21:25'  2017-09-11 01:25'  2017-09-17 21:25'  2017-09-18 01:25'   \n",
       "2  2017-09-10 21:25'  2017-09-11 01:25'  2017-09-17 21:25'  2017-09-18 01:25'   \n",
       "\n",
       "            T3_start             T3_end           T4_start             T4_end  \\\n",
       "0  2017-09-24 21:05'  2017-09-25 01:05'  2017-10-02 01:30'  2017-10-02 05:30'   \n",
       "1  2017-09-24 21:05'  2017-09-25 01:05'  2017-10-02 01:30'  2017-10-02 05:30'   \n",
       "2  2017-09-24 21:05'  2017-09-25 01:05'  2017-10-02 01:30'  2017-10-02 05:30'   \n",
       "\n",
       "            T5_start             T5_end                         full_twitter  \n",
       "0  2017-10-08 21:05'  2017-10-09 01:05'  Russell Wilson OR @DangeRussWilson'  \n",
       "1  2017-10-08 21:05'  2017-10-09 01:05'      Doug Baldwin OR @DougBaldwinJr'  \n",
       "2  2017-10-08 21:05'  2017-10-09 01:05'     Jimmy Graham OR @TheJimmyGraham'  "
      ]
     },
     "execution_count": 53,
     "metadata": {},
     "output_type": "execute_result"
    }
   ],
   "source": [
    "data_t3_6"
   ]
  },
  {
   "cell_type": "code",
   "execution_count": null,
   "metadata": {},
   "outputs": [],
   "source": [
    "#getting tweets"
   ]
  },
  {
   "cell_type": "code",
   "execution_count": null,
   "metadata": {},
   "outputs": [],
   "source": [
    "data_t3_6_tweets = get_tweets(data_t3_6, start = 'T3_start', end = 'T3_end')"
   ]
  },
  {
   "cell_type": "code",
   "execution_count": null,
   "metadata": {},
   "outputs": [],
   "source": [
    "#saving at csv"
   ]
  },
  {
   "cell_type": "code",
   "execution_count": null,
   "metadata": {},
   "outputs": [],
   "source": [
    "data_t3_6_tweets.to_csv(\"~/Documents/nfl sentiment/final_data/tweets_t3_6.csv\", index = False)"
   ]
  },
  {
   "cell_type": "code",
   "execution_count": null,
   "metadata": {},
   "outputs": [],
   "source": []
  },
  {
   "cell_type": "code",
   "execution_count": null,
   "metadata": {},
   "outputs": [],
   "source": [
    "#appending for T3"
   ]
  },
  {
   "cell_type": "code",
   "execution_count": null,
   "metadata": {},
   "outputs": [],
   "source": [
    "T3 = pd.concat([data_t3_1_tweets, data_t3_2_tweets, data_t3_3_tweets, \n",
    "                data_t3_4_tweets, data_t3_5_tweets, data_t3_6_tweets])"
   ]
  },
  {
   "cell_type": "code",
   "execution_count": null,
   "metadata": {},
   "outputs": [],
   "source": [
    "T3.to_csv(\"~/Documents/nfl sentiment/final_data/tweets_t3_all.csv\", index = False)"
   ]
  },
  {
   "cell_type": "code",
   "execution_count": null,
   "metadata": {},
   "outputs": [],
   "source": []
  },
  {
   "cell_type": "code",
   "execution_count": null,
   "metadata": {},
   "outputs": [],
   "source": []
  },
  {
   "cell_type": "code",
   "execution_count": null,
   "metadata": {},
   "outputs": [],
   "source": [
    "####T4-1"
   ]
  },
  {
   "cell_type": "code",
   "execution_count": null,
   "metadata": {},
   "outputs": [],
   "source": []
  },
  {
   "cell_type": "code",
   "execution_count": null,
   "metadata": {},
   "outputs": [],
   "source": []
  },
  {
   "cell_type": "code",
   "execution_count": null,
   "metadata": {},
   "outputs": [],
   "source": [
    "#getting the data"
   ]
  },
  {
   "cell_type": "code",
   "execution_count": 54,
   "metadata": {},
   "outputs": [],
   "source": [
    "teams = [\"Kansas City Chiefs\"]\n",
    "data_t4_1 = get_data(teams)"
   ]
  },
  {
   "cell_type": "code",
   "execution_count": 55,
   "metadata": {
    "scrolled": true
   },
   "outputs": [
    {
     "data": {
      "text/html": [
       "<div>\n",
       "<style scoped>\n",
       "    .dataframe tbody tr th:only-of-type {\n",
       "        vertical-align: middle;\n",
       "    }\n",
       "\n",
       "    .dataframe tbody tr th {\n",
       "        vertical-align: top;\n",
       "    }\n",
       "\n",
       "    .dataframe thead th {\n",
       "        text-align: right;\n",
       "    }\n",
       "</style>\n",
       "<table border=\"1\" class=\"dataframe\">\n",
       "  <thead>\n",
       "    <tr style=\"text-align: right;\">\n",
       "      <th></th>\n",
       "      <th>Name</th>\n",
       "      <th>Twitter_handle</th>\n",
       "      <th>Team</th>\n",
       "      <th>Race</th>\n",
       "      <th>T1_start</th>\n",
       "      <th>T1_end</th>\n",
       "      <th>T2_start</th>\n",
       "      <th>T2_end</th>\n",
       "      <th>T3_start</th>\n",
       "      <th>T3_end</th>\n",
       "      <th>T4_start</th>\n",
       "      <th>T4_end</th>\n",
       "      <th>T5_start</th>\n",
       "      <th>T5_end</th>\n",
       "      <th>full_twitter</th>\n",
       "    </tr>\n",
       "  </thead>\n",
       "  <tbody>\n",
       "    <tr>\n",
       "      <th>15</th>\n",
       "      <td>Alex Smith</td>\n",
       "      <td>NaN</td>\n",
       "      <td>Kansas City Chiefs</td>\n",
       "      <td>W</td>\n",
       "      <td>2017-09-17 18:00'</td>\n",
       "      <td>2017-09-17 22:00'</td>\n",
       "      <td>2017-09-24 21:25'</td>\n",
       "      <td>2017-09-25 01:25'</td>\n",
       "      <td>2017-10-03 01:30'</td>\n",
       "      <td>2017-10-03 05:30'</td>\n",
       "      <td>2017-10-09 01:30'</td>\n",
       "      <td>2017-10-09 05:30'</td>\n",
       "      <td>2017-10-15 21:25'</td>\n",
       "      <td>2017-10-16 01:25'</td>\n",
       "      <td>Alex Smith</td>\n",
       "    </tr>\n",
       "    <tr>\n",
       "      <th>16</th>\n",
       "      <td>Travis Kelce</td>\n",
       "      <td>@tkelce'</td>\n",
       "      <td>Kansas City Chiefs</td>\n",
       "      <td>W</td>\n",
       "      <td>2017-09-17 18:00'</td>\n",
       "      <td>2017-09-17 22:00'</td>\n",
       "      <td>2017-09-24 21:25'</td>\n",
       "      <td>2017-09-25 01:25'</td>\n",
       "      <td>2017-10-03 01:30'</td>\n",
       "      <td>2017-10-03 05:30'</td>\n",
       "      <td>2017-10-09 01:30'</td>\n",
       "      <td>2017-10-09 05:30'</td>\n",
       "      <td>2017-10-15 21:25'</td>\n",
       "      <td>2017-10-16 01:25'</td>\n",
       "      <td>Travis Kelce OR @tkelce'</td>\n",
       "    </tr>\n",
       "    <tr>\n",
       "      <th>17</th>\n",
       "      <td>Tyreek Hill</td>\n",
       "      <td>@cheetah'</td>\n",
       "      <td>Kansas City Chiefs</td>\n",
       "      <td>B</td>\n",
       "      <td>2017-09-17 18:00'</td>\n",
       "      <td>2017-09-17 22:00'</td>\n",
       "      <td>2017-09-24 21:25'</td>\n",
       "      <td>2017-09-25 01:25'</td>\n",
       "      <td>2017-10-03 01:30'</td>\n",
       "      <td>2017-10-03 05:30'</td>\n",
       "      <td>2017-10-09 01:30'</td>\n",
       "      <td>2017-10-09 05:30'</td>\n",
       "      <td>2017-10-15 21:25'</td>\n",
       "      <td>2017-10-16 01:25'</td>\n",
       "      <td>Tyreek Hill OR @cheetah'</td>\n",
       "    </tr>\n",
       "  </tbody>\n",
       "</table>\n",
       "</div>"
      ],
      "text/plain": [
       "            Name Twitter_handle                Team Race           T1_start  \\\n",
       "15    Alex Smith            NaN  Kansas City Chiefs    W  2017-09-17 18:00'   \n",
       "16  Travis Kelce       @tkelce'  Kansas City Chiefs    W  2017-09-17 18:00'   \n",
       "17   Tyreek Hill      @cheetah'  Kansas City Chiefs    B  2017-09-17 18:00'   \n",
       "\n",
       "               T1_end           T2_start             T2_end  \\\n",
       "15  2017-09-17 22:00'  2017-09-24 21:25'  2017-09-25 01:25'   \n",
       "16  2017-09-17 22:00'  2017-09-24 21:25'  2017-09-25 01:25'   \n",
       "17  2017-09-17 22:00'  2017-09-24 21:25'  2017-09-25 01:25'   \n",
       "\n",
       "             T3_start             T3_end           T4_start  \\\n",
       "15  2017-10-03 01:30'  2017-10-03 05:30'  2017-10-09 01:30'   \n",
       "16  2017-10-03 01:30'  2017-10-03 05:30'  2017-10-09 01:30'   \n",
       "17  2017-10-03 01:30'  2017-10-03 05:30'  2017-10-09 01:30'   \n",
       "\n",
       "               T4_end           T5_start             T5_end  \\\n",
       "15  2017-10-09 05:30'  2017-10-15 21:25'  2017-10-16 01:25'   \n",
       "16  2017-10-09 05:30'  2017-10-15 21:25'  2017-10-16 01:25'   \n",
       "17  2017-10-09 05:30'  2017-10-15 21:25'  2017-10-16 01:25'   \n",
       "\n",
       "                full_twitter  \n",
       "15                Alex Smith  \n",
       "16  Travis Kelce OR @tkelce'  \n",
       "17  Tyreek Hill OR @cheetah'  "
      ]
     },
     "execution_count": 55,
     "metadata": {},
     "output_type": "execute_result"
    }
   ],
   "source": [
    "data_t4_1"
   ]
  },
  {
   "cell_type": "code",
   "execution_count": null,
   "metadata": {},
   "outputs": [],
   "source": [
    "#getting tweets"
   ]
  },
  {
   "cell_type": "code",
   "execution_count": null,
   "metadata": {},
   "outputs": [],
   "source": [
    "data_t4_1_tweets = get_tweets(data_t4_1, start = 'T4_start', end = 'T4_end')"
   ]
  },
  {
   "cell_type": "code",
   "execution_count": null,
   "metadata": {},
   "outputs": [],
   "source": [
    "#saving at csv"
   ]
  },
  {
   "cell_type": "code",
   "execution_count": null,
   "metadata": {},
   "outputs": [],
   "source": [
    "data_t4_1_tweets.to_csv(\"~/Documents/nfl sentiment/final_data/tweets_t4_1.csv\", index = False)"
   ]
  },
  {
   "cell_type": "code",
   "execution_count": null,
   "metadata": {},
   "outputs": [],
   "source": []
  },
  {
   "cell_type": "code",
   "execution_count": null,
   "metadata": {},
   "outputs": [],
   "source": []
  },
  {
   "cell_type": "code",
   "execution_count": null,
   "metadata": {},
   "outputs": [],
   "source": [
    "####T4-2"
   ]
  },
  {
   "cell_type": "code",
   "execution_count": null,
   "metadata": {},
   "outputs": [],
   "source": []
  },
  {
   "cell_type": "code",
   "execution_count": null,
   "metadata": {},
   "outputs": [],
   "source": []
  },
  {
   "cell_type": "code",
   "execution_count": null,
   "metadata": {},
   "outputs": [],
   "source": [
    "#getting the data"
   ]
  },
  {
   "cell_type": "code",
   "execution_count": 54,
   "metadata": {},
   "outputs": [],
   "source": [
    "teams = [\"Baltimore Ravens\"]\n",
    "data_t4_2 = get_data(teams)"
   ]
  },
  {
   "cell_type": "code",
   "execution_count": 55,
   "metadata": {
    "scrolled": true
   },
   "outputs": [
    {
     "data": {
      "text/html": [
       "<div>\n",
       "<style scoped>\n",
       "    .dataframe tbody tr th:only-of-type {\n",
       "        vertical-align: middle;\n",
       "    }\n",
       "\n",
       "    .dataframe tbody tr th {\n",
       "        vertical-align: top;\n",
       "    }\n",
       "\n",
       "    .dataframe thead th {\n",
       "        text-align: right;\n",
       "    }\n",
       "</style>\n",
       "<table border=\"1\" class=\"dataframe\">\n",
       "  <thead>\n",
       "    <tr style=\"text-align: right;\">\n",
       "      <th></th>\n",
       "      <th>Name</th>\n",
       "      <th>Twitter_handle</th>\n",
       "      <th>Team</th>\n",
       "      <th>Race</th>\n",
       "      <th>T1_start</th>\n",
       "      <th>T1_end</th>\n",
       "      <th>T2_start</th>\n",
       "      <th>T2_end</th>\n",
       "      <th>T3_start</th>\n",
       "      <th>T3_end</th>\n",
       "      <th>T4_start</th>\n",
       "      <th>T4_end</th>\n",
       "      <th>T5_start</th>\n",
       "      <th>T5_end</th>\n",
       "      <th>full_twitter</th>\n",
       "    </tr>\n",
       "  </thead>\n",
       "  <tbody>\n",
       "    <tr>\n",
       "      <th>15</th>\n",
       "      <td>Alex Smith</td>\n",
       "      <td>NaN</td>\n",
       "      <td>Kansas City Chiefs</td>\n",
       "      <td>W</td>\n",
       "      <td>2017-09-17 18:00'</td>\n",
       "      <td>2017-09-17 22:00'</td>\n",
       "      <td>2017-09-24 21:25'</td>\n",
       "      <td>2017-09-25 01:25'</td>\n",
       "      <td>2017-10-03 01:30'</td>\n",
       "      <td>2017-10-03 05:30'</td>\n",
       "      <td>2017-10-09 01:30'</td>\n",
       "      <td>2017-10-09 05:30'</td>\n",
       "      <td>2017-10-15 21:25'</td>\n",
       "      <td>2017-10-16 01:25'</td>\n",
       "      <td>Alex Smith</td>\n",
       "    </tr>\n",
       "    <tr>\n",
       "      <th>16</th>\n",
       "      <td>Travis Kelce</td>\n",
       "      <td>@tkelce'</td>\n",
       "      <td>Kansas City Chiefs</td>\n",
       "      <td>W</td>\n",
       "      <td>2017-09-17 18:00'</td>\n",
       "      <td>2017-09-17 22:00'</td>\n",
       "      <td>2017-09-24 21:25'</td>\n",
       "      <td>2017-09-25 01:25'</td>\n",
       "      <td>2017-10-03 01:30'</td>\n",
       "      <td>2017-10-03 05:30'</td>\n",
       "      <td>2017-10-09 01:30'</td>\n",
       "      <td>2017-10-09 05:30'</td>\n",
       "      <td>2017-10-15 21:25'</td>\n",
       "      <td>2017-10-16 01:25'</td>\n",
       "      <td>Travis Kelce OR @tkelce'</td>\n",
       "    </tr>\n",
       "    <tr>\n",
       "      <th>17</th>\n",
       "      <td>Tyreek Hill</td>\n",
       "      <td>@cheetah'</td>\n",
       "      <td>Kansas City Chiefs</td>\n",
       "      <td>B</td>\n",
       "      <td>2017-09-17 18:00'</td>\n",
       "      <td>2017-09-17 22:00'</td>\n",
       "      <td>2017-09-24 21:25'</td>\n",
       "      <td>2017-09-25 01:25'</td>\n",
       "      <td>2017-10-03 01:30'</td>\n",
       "      <td>2017-10-03 05:30'</td>\n",
       "      <td>2017-10-09 01:30'</td>\n",
       "      <td>2017-10-09 05:30'</td>\n",
       "      <td>2017-10-15 21:25'</td>\n",
       "      <td>2017-10-16 01:25'</td>\n",
       "      <td>Tyreek Hill OR @cheetah'</td>\n",
       "    </tr>\n",
       "  </tbody>\n",
       "</table>\n",
       "</div>"
      ],
      "text/plain": [
       "            Name Twitter_handle                Team Race           T1_start  \\\n",
       "15    Alex Smith            NaN  Kansas City Chiefs    W  2017-09-17 18:00'   \n",
       "16  Travis Kelce       @tkelce'  Kansas City Chiefs    W  2017-09-17 18:00'   \n",
       "17   Tyreek Hill      @cheetah'  Kansas City Chiefs    B  2017-09-17 18:00'   \n",
       "\n",
       "               T1_end           T2_start             T2_end  \\\n",
       "15  2017-09-17 22:00'  2017-09-24 21:25'  2017-09-25 01:25'   \n",
       "16  2017-09-17 22:00'  2017-09-24 21:25'  2017-09-25 01:25'   \n",
       "17  2017-09-17 22:00'  2017-09-24 21:25'  2017-09-25 01:25'   \n",
       "\n",
       "             T3_start             T3_end           T4_start  \\\n",
       "15  2017-10-03 01:30'  2017-10-03 05:30'  2017-10-09 01:30'   \n",
       "16  2017-10-03 01:30'  2017-10-03 05:30'  2017-10-09 01:30'   \n",
       "17  2017-10-03 01:30'  2017-10-03 05:30'  2017-10-09 01:30'   \n",
       "\n",
       "               T4_end           T5_start             T5_end  \\\n",
       "15  2017-10-09 05:30'  2017-10-15 21:25'  2017-10-16 01:25'   \n",
       "16  2017-10-09 05:30'  2017-10-15 21:25'  2017-10-16 01:25'   \n",
       "17  2017-10-09 05:30'  2017-10-15 21:25'  2017-10-16 01:25'   \n",
       "\n",
       "                full_twitter  \n",
       "15                Alex Smith  \n",
       "16  Travis Kelce OR @tkelce'  \n",
       "17  Tyreek Hill OR @cheetah'  "
      ]
     },
     "execution_count": 55,
     "metadata": {},
     "output_type": "execute_result"
    }
   ],
   "source": [
    "data_t4_2"
   ]
  },
  {
   "cell_type": "code",
   "execution_count": null,
   "metadata": {},
   "outputs": [],
   "source": [
    "#getting tweets"
   ]
  },
  {
   "cell_type": "code",
   "execution_count": null,
   "metadata": {},
   "outputs": [],
   "source": [
    "data_t4_2_tweets = get_tweets(data_t4_2, start = 'T4_start', end = 'T4_end')"
   ]
  },
  {
   "cell_type": "code",
   "execution_count": null,
   "metadata": {},
   "outputs": [],
   "source": [
    "#saving at csv"
   ]
  },
  {
   "cell_type": "code",
   "execution_count": null,
   "metadata": {},
   "outputs": [],
   "source": [
    "data_t4_2_tweets.to_csv(\"~/Documents/nfl sentiment/final_data/tweets_t4_2.csv\", index = False)"
   ]
  },
  {
   "cell_type": "code",
   "execution_count": null,
   "metadata": {},
   "outputs": [],
   "source": []
  },
  {
   "cell_type": "code",
   "execution_count": null,
   "metadata": {},
   "outputs": [],
   "source": []
  },
  {
   "cell_type": "code",
   "execution_count": null,
   "metadata": {},
   "outputs": [],
   "source": [
    "####T4-3"
   ]
  },
  {
   "cell_type": "code",
   "execution_count": null,
   "metadata": {},
   "outputs": [],
   "source": []
  },
  {
   "cell_type": "code",
   "execution_count": null,
   "metadata": {},
   "outputs": [],
   "source": []
  },
  {
   "cell_type": "code",
   "execution_count": null,
   "metadata": {},
   "outputs": [],
   "source": [
    "#getting the data"
   ]
  },
  {
   "cell_type": "code",
   "execution_count": 54,
   "metadata": {},
   "outputs": [],
   "source": [
    "teams = [\"Philadelphia Eagles\", \"Carolina Panthers\"]\n",
    "data_t4_3 = get_data(teams)"
   ]
  },
  {
   "cell_type": "code",
   "execution_count": 55,
   "metadata": {
    "scrolled": true
   },
   "outputs": [
    {
     "data": {
      "text/html": [
       "<div>\n",
       "<style scoped>\n",
       "    .dataframe tbody tr th:only-of-type {\n",
       "        vertical-align: middle;\n",
       "    }\n",
       "\n",
       "    .dataframe tbody tr th {\n",
       "        vertical-align: top;\n",
       "    }\n",
       "\n",
       "    .dataframe thead th {\n",
       "        text-align: right;\n",
       "    }\n",
       "</style>\n",
       "<table border=\"1\" class=\"dataframe\">\n",
       "  <thead>\n",
       "    <tr style=\"text-align: right;\">\n",
       "      <th></th>\n",
       "      <th>Name</th>\n",
       "      <th>Twitter_handle</th>\n",
       "      <th>Team</th>\n",
       "      <th>Race</th>\n",
       "      <th>T1_start</th>\n",
       "      <th>T1_end</th>\n",
       "      <th>T2_start</th>\n",
       "      <th>T2_end</th>\n",
       "      <th>T3_start</th>\n",
       "      <th>T3_end</th>\n",
       "      <th>T4_start</th>\n",
       "      <th>T4_end</th>\n",
       "      <th>T5_start</th>\n",
       "      <th>T5_end</th>\n",
       "      <th>full_twitter</th>\n",
       "    </tr>\n",
       "  </thead>\n",
       "  <tbody>\n",
       "    <tr>\n",
       "      <th>15</th>\n",
       "      <td>Alex Smith</td>\n",
       "      <td>NaN</td>\n",
       "      <td>Kansas City Chiefs</td>\n",
       "      <td>W</td>\n",
       "      <td>2017-09-17 18:00'</td>\n",
       "      <td>2017-09-17 22:00'</td>\n",
       "      <td>2017-09-24 21:25'</td>\n",
       "      <td>2017-09-25 01:25'</td>\n",
       "      <td>2017-10-03 01:30'</td>\n",
       "      <td>2017-10-03 05:30'</td>\n",
       "      <td>2017-10-09 01:30'</td>\n",
       "      <td>2017-10-09 05:30'</td>\n",
       "      <td>2017-10-15 21:25'</td>\n",
       "      <td>2017-10-16 01:25'</td>\n",
       "      <td>Alex Smith</td>\n",
       "    </tr>\n",
       "    <tr>\n",
       "      <th>16</th>\n",
       "      <td>Travis Kelce</td>\n",
       "      <td>@tkelce'</td>\n",
       "      <td>Kansas City Chiefs</td>\n",
       "      <td>W</td>\n",
       "      <td>2017-09-17 18:00'</td>\n",
       "      <td>2017-09-17 22:00'</td>\n",
       "      <td>2017-09-24 21:25'</td>\n",
       "      <td>2017-09-25 01:25'</td>\n",
       "      <td>2017-10-03 01:30'</td>\n",
       "      <td>2017-10-03 05:30'</td>\n",
       "      <td>2017-10-09 01:30'</td>\n",
       "      <td>2017-10-09 05:30'</td>\n",
       "      <td>2017-10-15 21:25'</td>\n",
       "      <td>2017-10-16 01:25'</td>\n",
       "      <td>Travis Kelce OR @tkelce'</td>\n",
       "    </tr>\n",
       "    <tr>\n",
       "      <th>17</th>\n",
       "      <td>Tyreek Hill</td>\n",
       "      <td>@cheetah'</td>\n",
       "      <td>Kansas City Chiefs</td>\n",
       "      <td>B</td>\n",
       "      <td>2017-09-17 18:00'</td>\n",
       "      <td>2017-09-17 22:00'</td>\n",
       "      <td>2017-09-24 21:25'</td>\n",
       "      <td>2017-09-25 01:25'</td>\n",
       "      <td>2017-10-03 01:30'</td>\n",
       "      <td>2017-10-03 05:30'</td>\n",
       "      <td>2017-10-09 01:30'</td>\n",
       "      <td>2017-10-09 05:30'</td>\n",
       "      <td>2017-10-15 21:25'</td>\n",
       "      <td>2017-10-16 01:25'</td>\n",
       "      <td>Tyreek Hill OR @cheetah'</td>\n",
       "    </tr>\n",
       "  </tbody>\n",
       "</table>\n",
       "</div>"
      ],
      "text/plain": [
       "            Name Twitter_handle                Team Race           T1_start  \\\n",
       "15    Alex Smith            NaN  Kansas City Chiefs    W  2017-09-17 18:00'   \n",
       "16  Travis Kelce       @tkelce'  Kansas City Chiefs    W  2017-09-17 18:00'   \n",
       "17   Tyreek Hill      @cheetah'  Kansas City Chiefs    B  2017-09-17 18:00'   \n",
       "\n",
       "               T1_end           T2_start             T2_end  \\\n",
       "15  2017-09-17 22:00'  2017-09-24 21:25'  2017-09-25 01:25'   \n",
       "16  2017-09-17 22:00'  2017-09-24 21:25'  2017-09-25 01:25'   \n",
       "17  2017-09-17 22:00'  2017-09-24 21:25'  2017-09-25 01:25'   \n",
       "\n",
       "             T3_start             T3_end           T4_start  \\\n",
       "15  2017-10-03 01:30'  2017-10-03 05:30'  2017-10-09 01:30'   \n",
       "16  2017-10-03 01:30'  2017-10-03 05:30'  2017-10-09 01:30'   \n",
       "17  2017-10-03 01:30'  2017-10-03 05:30'  2017-10-09 01:30'   \n",
       "\n",
       "               T4_end           T5_start             T5_end  \\\n",
       "15  2017-10-09 05:30'  2017-10-15 21:25'  2017-10-16 01:25'   \n",
       "16  2017-10-09 05:30'  2017-10-15 21:25'  2017-10-16 01:25'   \n",
       "17  2017-10-09 05:30'  2017-10-15 21:25'  2017-10-16 01:25'   \n",
       "\n",
       "                full_twitter  \n",
       "15                Alex Smith  \n",
       "16  Travis Kelce OR @tkelce'  \n",
       "17  Tyreek Hill OR @cheetah'  "
      ]
     },
     "execution_count": 55,
     "metadata": {},
     "output_type": "execute_result"
    }
   ],
   "source": [
    "data_t4_3"
   ]
  },
  {
   "cell_type": "code",
   "execution_count": null,
   "metadata": {},
   "outputs": [],
   "source": [
    "#getting tweets"
   ]
  },
  {
   "cell_type": "code",
   "execution_count": null,
   "metadata": {},
   "outputs": [],
   "source": [
    "data_t4_3_tweets = get_tweets(data_t4_3, start = 'T4_start', end = 'T4_end')"
   ]
  },
  {
   "cell_type": "code",
   "execution_count": null,
   "metadata": {},
   "outputs": [],
   "source": [
    "#saving at csv"
   ]
  },
  {
   "cell_type": "code",
   "execution_count": null,
   "metadata": {},
   "outputs": [],
   "source": [
    "data_t4_3_tweets.to_csv(\"~/Documents/nfl sentiment/final_data/tweets_t4_3.csv\", index = False)"
   ]
  },
  {
   "cell_type": "code",
   "execution_count": null,
   "metadata": {},
   "outputs": [],
   "source": []
  },
  {
   "cell_type": "code",
   "execution_count": null,
   "metadata": {},
   "outputs": [],
   "source": []
  },
  {
   "cell_type": "code",
   "execution_count": null,
   "metadata": {},
   "outputs": [],
   "source": [
    "####T4-4"
   ]
  },
  {
   "cell_type": "code",
   "execution_count": null,
   "metadata": {},
   "outputs": [],
   "source": []
  },
  {
   "cell_type": "code",
   "execution_count": null,
   "metadata": {},
   "outputs": [],
   "source": []
  },
  {
   "cell_type": "code",
   "execution_count": null,
   "metadata": {},
   "outputs": [],
   "source": [
    "#getting the data"
   ]
  },
  {
   "cell_type": "code",
   "execution_count": 54,
   "metadata": {},
   "outputs": [],
   "source": [
    "teams = [\"Tampa Bay Buccaneers\"]\n",
    "data_t4_4 = get_data(teams)"
   ]
  },
  {
   "cell_type": "code",
   "execution_count": 55,
   "metadata": {
    "scrolled": true
   },
   "outputs": [
    {
     "data": {
      "text/html": [
       "<div>\n",
       "<style scoped>\n",
       "    .dataframe tbody tr th:only-of-type {\n",
       "        vertical-align: middle;\n",
       "    }\n",
       "\n",
       "    .dataframe tbody tr th {\n",
       "        vertical-align: top;\n",
       "    }\n",
       "\n",
       "    .dataframe thead th {\n",
       "        text-align: right;\n",
       "    }\n",
       "</style>\n",
       "<table border=\"1\" class=\"dataframe\">\n",
       "  <thead>\n",
       "    <tr style=\"text-align: right;\">\n",
       "      <th></th>\n",
       "      <th>Name</th>\n",
       "      <th>Twitter_handle</th>\n",
       "      <th>Team</th>\n",
       "      <th>Race</th>\n",
       "      <th>T1_start</th>\n",
       "      <th>T1_end</th>\n",
       "      <th>T2_start</th>\n",
       "      <th>T2_end</th>\n",
       "      <th>T3_start</th>\n",
       "      <th>T3_end</th>\n",
       "      <th>T4_start</th>\n",
       "      <th>T4_end</th>\n",
       "      <th>T5_start</th>\n",
       "      <th>T5_end</th>\n",
       "      <th>full_twitter</th>\n",
       "    </tr>\n",
       "  </thead>\n",
       "  <tbody>\n",
       "    <tr>\n",
       "      <th>15</th>\n",
       "      <td>Alex Smith</td>\n",
       "      <td>NaN</td>\n",
       "      <td>Kansas City Chiefs</td>\n",
       "      <td>W</td>\n",
       "      <td>2017-09-17 18:00'</td>\n",
       "      <td>2017-09-17 22:00'</td>\n",
       "      <td>2017-09-24 21:25'</td>\n",
       "      <td>2017-09-25 01:25'</td>\n",
       "      <td>2017-10-03 01:30'</td>\n",
       "      <td>2017-10-03 05:30'</td>\n",
       "      <td>2017-10-09 01:30'</td>\n",
       "      <td>2017-10-09 05:30'</td>\n",
       "      <td>2017-10-15 21:25'</td>\n",
       "      <td>2017-10-16 01:25'</td>\n",
       "      <td>Alex Smith</td>\n",
       "    </tr>\n",
       "    <tr>\n",
       "      <th>16</th>\n",
       "      <td>Travis Kelce</td>\n",
       "      <td>@tkelce'</td>\n",
       "      <td>Kansas City Chiefs</td>\n",
       "      <td>W</td>\n",
       "      <td>2017-09-17 18:00'</td>\n",
       "      <td>2017-09-17 22:00'</td>\n",
       "      <td>2017-09-24 21:25'</td>\n",
       "      <td>2017-09-25 01:25'</td>\n",
       "      <td>2017-10-03 01:30'</td>\n",
       "      <td>2017-10-03 05:30'</td>\n",
       "      <td>2017-10-09 01:30'</td>\n",
       "      <td>2017-10-09 05:30'</td>\n",
       "      <td>2017-10-15 21:25'</td>\n",
       "      <td>2017-10-16 01:25'</td>\n",
       "      <td>Travis Kelce OR @tkelce'</td>\n",
       "    </tr>\n",
       "    <tr>\n",
       "      <th>17</th>\n",
       "      <td>Tyreek Hill</td>\n",
       "      <td>@cheetah'</td>\n",
       "      <td>Kansas City Chiefs</td>\n",
       "      <td>B</td>\n",
       "      <td>2017-09-17 18:00'</td>\n",
       "      <td>2017-09-17 22:00'</td>\n",
       "      <td>2017-09-24 21:25'</td>\n",
       "      <td>2017-09-25 01:25'</td>\n",
       "      <td>2017-10-03 01:30'</td>\n",
       "      <td>2017-10-03 05:30'</td>\n",
       "      <td>2017-10-09 01:30'</td>\n",
       "      <td>2017-10-09 05:30'</td>\n",
       "      <td>2017-10-15 21:25'</td>\n",
       "      <td>2017-10-16 01:25'</td>\n",
       "      <td>Tyreek Hill OR @cheetah'</td>\n",
       "    </tr>\n",
       "  </tbody>\n",
       "</table>\n",
       "</div>"
      ],
      "text/plain": [
       "            Name Twitter_handle                Team Race           T1_start  \\\n",
       "15    Alex Smith            NaN  Kansas City Chiefs    W  2017-09-17 18:00'   \n",
       "16  Travis Kelce       @tkelce'  Kansas City Chiefs    W  2017-09-17 18:00'   \n",
       "17   Tyreek Hill      @cheetah'  Kansas City Chiefs    B  2017-09-17 18:00'   \n",
       "\n",
       "               T1_end           T2_start             T2_end  \\\n",
       "15  2017-09-17 22:00'  2017-09-24 21:25'  2017-09-25 01:25'   \n",
       "16  2017-09-17 22:00'  2017-09-24 21:25'  2017-09-25 01:25'   \n",
       "17  2017-09-17 22:00'  2017-09-24 21:25'  2017-09-25 01:25'   \n",
       "\n",
       "             T3_start             T3_end           T4_start  \\\n",
       "15  2017-10-03 01:30'  2017-10-03 05:30'  2017-10-09 01:30'   \n",
       "16  2017-10-03 01:30'  2017-10-03 05:30'  2017-10-09 01:30'   \n",
       "17  2017-10-03 01:30'  2017-10-03 05:30'  2017-10-09 01:30'   \n",
       "\n",
       "               T4_end           T5_start             T5_end  \\\n",
       "15  2017-10-09 05:30'  2017-10-15 21:25'  2017-10-16 01:25'   \n",
       "16  2017-10-09 05:30'  2017-10-15 21:25'  2017-10-16 01:25'   \n",
       "17  2017-10-09 05:30'  2017-10-15 21:25'  2017-10-16 01:25'   \n",
       "\n",
       "                full_twitter  \n",
       "15                Alex Smith  \n",
       "16  Travis Kelce OR @tkelce'  \n",
       "17  Tyreek Hill OR @cheetah'  "
      ]
     },
     "execution_count": 55,
     "metadata": {},
     "output_type": "execute_result"
    }
   ],
   "source": [
    "data_t4_4"
   ]
  },
  {
   "cell_type": "code",
   "execution_count": null,
   "metadata": {},
   "outputs": [],
   "source": [
    "#getting tweets"
   ]
  },
  {
   "cell_type": "code",
   "execution_count": null,
   "metadata": {},
   "outputs": [],
   "source": [
    "data_t4_4_tweets = get_tweets(data_t4_4, start = 'T4_start', end = 'T4_end')"
   ]
  },
  {
   "cell_type": "code",
   "execution_count": null,
   "metadata": {},
   "outputs": [],
   "source": [
    "#saving at csv"
   ]
  },
  {
   "cell_type": "code",
   "execution_count": null,
   "metadata": {},
   "outputs": [],
   "source": [
    "data_t4_4_tweets.to_csv(\"~/Documents/nfl sentiment/final_data/tweets_t4_4.csv\", index = False)"
   ]
  },
  {
   "cell_type": "code",
   "execution_count": null,
   "metadata": {},
   "outputs": [],
   "source": []
  },
  {
   "cell_type": "code",
   "execution_count": null,
   "metadata": {},
   "outputs": [],
   "source": []
  },
  {
   "cell_type": "code",
   "execution_count": null,
   "metadata": {},
   "outputs": [],
   "source": [
    "####T4-5"
   ]
  },
  {
   "cell_type": "code",
   "execution_count": null,
   "metadata": {},
   "outputs": [],
   "source": []
  },
  {
   "cell_type": "code",
   "execution_count": null,
   "metadata": {},
   "outputs": [],
   "source": []
  },
  {
   "cell_type": "code",
   "execution_count": null,
   "metadata": {},
   "outputs": [],
   "source": [
    "#getting the data"
   ]
  },
  {
   "cell_type": "code",
   "execution_count": 54,
   "metadata": {},
   "outputs": [],
   "source": [
    "teams = [\"Seattle Seahawks\"]\n",
    "data_t4_5 = get_data(teams)"
   ]
  },
  {
   "cell_type": "code",
   "execution_count": 55,
   "metadata": {
    "scrolled": true
   },
   "outputs": [
    {
     "data": {
      "text/html": [
       "<div>\n",
       "<style scoped>\n",
       "    .dataframe tbody tr th:only-of-type {\n",
       "        vertical-align: middle;\n",
       "    }\n",
       "\n",
       "    .dataframe tbody tr th {\n",
       "        vertical-align: top;\n",
       "    }\n",
       "\n",
       "    .dataframe thead th {\n",
       "        text-align: right;\n",
       "    }\n",
       "</style>\n",
       "<table border=\"1\" class=\"dataframe\">\n",
       "  <thead>\n",
       "    <tr style=\"text-align: right;\">\n",
       "      <th></th>\n",
       "      <th>Name</th>\n",
       "      <th>Twitter_handle</th>\n",
       "      <th>Team</th>\n",
       "      <th>Race</th>\n",
       "      <th>T1_start</th>\n",
       "      <th>T1_end</th>\n",
       "      <th>T2_start</th>\n",
       "      <th>T2_end</th>\n",
       "      <th>T3_start</th>\n",
       "      <th>T3_end</th>\n",
       "      <th>T4_start</th>\n",
       "      <th>T4_end</th>\n",
       "      <th>T5_start</th>\n",
       "      <th>T5_end</th>\n",
       "      <th>full_twitter</th>\n",
       "    </tr>\n",
       "  </thead>\n",
       "  <tbody>\n",
       "    <tr>\n",
       "      <th>15</th>\n",
       "      <td>Alex Smith</td>\n",
       "      <td>NaN</td>\n",
       "      <td>Kansas City Chiefs</td>\n",
       "      <td>W</td>\n",
       "      <td>2017-09-17 18:00'</td>\n",
       "      <td>2017-09-17 22:00'</td>\n",
       "      <td>2017-09-24 21:25'</td>\n",
       "      <td>2017-09-25 01:25'</td>\n",
       "      <td>2017-10-03 01:30'</td>\n",
       "      <td>2017-10-03 05:30'</td>\n",
       "      <td>2017-10-09 01:30'</td>\n",
       "      <td>2017-10-09 05:30'</td>\n",
       "      <td>2017-10-15 21:25'</td>\n",
       "      <td>2017-10-16 01:25'</td>\n",
       "      <td>Alex Smith</td>\n",
       "    </tr>\n",
       "    <tr>\n",
       "      <th>16</th>\n",
       "      <td>Travis Kelce</td>\n",
       "      <td>@tkelce'</td>\n",
       "      <td>Kansas City Chiefs</td>\n",
       "      <td>W</td>\n",
       "      <td>2017-09-17 18:00'</td>\n",
       "      <td>2017-09-17 22:00'</td>\n",
       "      <td>2017-09-24 21:25'</td>\n",
       "      <td>2017-09-25 01:25'</td>\n",
       "      <td>2017-10-03 01:30'</td>\n",
       "      <td>2017-10-03 05:30'</td>\n",
       "      <td>2017-10-09 01:30'</td>\n",
       "      <td>2017-10-09 05:30'</td>\n",
       "      <td>2017-10-15 21:25'</td>\n",
       "      <td>2017-10-16 01:25'</td>\n",
       "      <td>Travis Kelce OR @tkelce'</td>\n",
       "    </tr>\n",
       "    <tr>\n",
       "      <th>17</th>\n",
       "      <td>Tyreek Hill</td>\n",
       "      <td>@cheetah'</td>\n",
       "      <td>Kansas City Chiefs</td>\n",
       "      <td>B</td>\n",
       "      <td>2017-09-17 18:00'</td>\n",
       "      <td>2017-09-17 22:00'</td>\n",
       "      <td>2017-09-24 21:25'</td>\n",
       "      <td>2017-09-25 01:25'</td>\n",
       "      <td>2017-10-03 01:30'</td>\n",
       "      <td>2017-10-03 05:30'</td>\n",
       "      <td>2017-10-09 01:30'</td>\n",
       "      <td>2017-10-09 05:30'</td>\n",
       "      <td>2017-10-15 21:25'</td>\n",
       "      <td>2017-10-16 01:25'</td>\n",
       "      <td>Tyreek Hill OR @cheetah'</td>\n",
       "    </tr>\n",
       "  </tbody>\n",
       "</table>\n",
       "</div>"
      ],
      "text/plain": [
       "            Name Twitter_handle                Team Race           T1_start  \\\n",
       "15    Alex Smith            NaN  Kansas City Chiefs    W  2017-09-17 18:00'   \n",
       "16  Travis Kelce       @tkelce'  Kansas City Chiefs    W  2017-09-17 18:00'   \n",
       "17   Tyreek Hill      @cheetah'  Kansas City Chiefs    B  2017-09-17 18:00'   \n",
       "\n",
       "               T1_end           T2_start             T2_end  \\\n",
       "15  2017-09-17 22:00'  2017-09-24 21:25'  2017-09-25 01:25'   \n",
       "16  2017-09-17 22:00'  2017-09-24 21:25'  2017-09-25 01:25'   \n",
       "17  2017-09-17 22:00'  2017-09-24 21:25'  2017-09-25 01:25'   \n",
       "\n",
       "             T3_start             T3_end           T4_start  \\\n",
       "15  2017-10-03 01:30'  2017-10-03 05:30'  2017-10-09 01:30'   \n",
       "16  2017-10-03 01:30'  2017-10-03 05:30'  2017-10-09 01:30'   \n",
       "17  2017-10-03 01:30'  2017-10-03 05:30'  2017-10-09 01:30'   \n",
       "\n",
       "               T4_end           T5_start             T5_end  \\\n",
       "15  2017-10-09 05:30'  2017-10-15 21:25'  2017-10-16 01:25'   \n",
       "16  2017-10-09 05:30'  2017-10-15 21:25'  2017-10-16 01:25'   \n",
       "17  2017-10-09 05:30'  2017-10-15 21:25'  2017-10-16 01:25'   \n",
       "\n",
       "                full_twitter  \n",
       "15                Alex Smith  \n",
       "16  Travis Kelce OR @tkelce'  \n",
       "17  Tyreek Hill OR @cheetah'  "
      ]
     },
     "execution_count": 55,
     "metadata": {},
     "output_type": "execute_result"
    }
   ],
   "source": [
    "data_t4_5"
   ]
  },
  {
   "cell_type": "code",
   "execution_count": null,
   "metadata": {},
   "outputs": [],
   "source": [
    "#getting tweets"
   ]
  },
  {
   "cell_type": "code",
   "execution_count": null,
   "metadata": {},
   "outputs": [],
   "source": [
    "data_t4_5_tweets = get_tweets(data_t4_1, start = 'T4_start', end = 'T4_end')"
   ]
  },
  {
   "cell_type": "code",
   "execution_count": null,
   "metadata": {},
   "outputs": [],
   "source": [
    "#saving at csv"
   ]
  },
  {
   "cell_type": "code",
   "execution_count": null,
   "metadata": {},
   "outputs": [],
   "source": [
    "data_t4_5_tweets.to_csv(\"~/Documents/nfl sentiment/final_data/tweets_t4_5.csv\", index = False)"
   ]
  },
  {
   "cell_type": "code",
   "execution_count": null,
   "metadata": {},
   "outputs": [],
   "source": []
  },
  {
   "cell_type": "code",
   "execution_count": null,
   "metadata": {},
   "outputs": [],
   "source": []
  },
  {
   "cell_type": "code",
   "execution_count": null,
   "metadata": {},
   "outputs": [],
   "source": [
    "####T4-6"
   ]
  },
  {
   "cell_type": "code",
   "execution_count": null,
   "metadata": {},
   "outputs": [],
   "source": []
  },
  {
   "cell_type": "code",
   "execution_count": null,
   "metadata": {},
   "outputs": [],
   "source": []
  },
  {
   "cell_type": "code",
   "execution_count": null,
   "metadata": {},
   "outputs": [],
   "source": [
    "#getting the data"
   ]
  },
  {
   "cell_type": "code",
   "execution_count": 54,
   "metadata": {},
   "outputs": [],
   "source": [
    "teams = [\"Dallas Cowboys\", \"Cincinnati Bengals\"]\n",
    "data_t4_6 = get_data(teams)"
   ]
  },
  {
   "cell_type": "code",
   "execution_count": 55,
   "metadata": {
    "scrolled": true
   },
   "outputs": [
    {
     "data": {
      "text/html": [
       "<div>\n",
       "<style scoped>\n",
       "    .dataframe tbody tr th:only-of-type {\n",
       "        vertical-align: middle;\n",
       "    }\n",
       "\n",
       "    .dataframe tbody tr th {\n",
       "        vertical-align: top;\n",
       "    }\n",
       "\n",
       "    .dataframe thead th {\n",
       "        text-align: right;\n",
       "    }\n",
       "</style>\n",
       "<table border=\"1\" class=\"dataframe\">\n",
       "  <thead>\n",
       "    <tr style=\"text-align: right;\">\n",
       "      <th></th>\n",
       "      <th>Name</th>\n",
       "      <th>Twitter_handle</th>\n",
       "      <th>Team</th>\n",
       "      <th>Race</th>\n",
       "      <th>T1_start</th>\n",
       "      <th>T1_end</th>\n",
       "      <th>T2_start</th>\n",
       "      <th>T2_end</th>\n",
       "      <th>T3_start</th>\n",
       "      <th>T3_end</th>\n",
       "      <th>T4_start</th>\n",
       "      <th>T4_end</th>\n",
       "      <th>T5_start</th>\n",
       "      <th>T5_end</th>\n",
       "      <th>full_twitter</th>\n",
       "    </tr>\n",
       "  </thead>\n",
       "  <tbody>\n",
       "    <tr>\n",
       "      <th>15</th>\n",
       "      <td>Alex Smith</td>\n",
       "      <td>NaN</td>\n",
       "      <td>Kansas City Chiefs</td>\n",
       "      <td>W</td>\n",
       "      <td>2017-09-17 18:00'</td>\n",
       "      <td>2017-09-17 22:00'</td>\n",
       "      <td>2017-09-24 21:25'</td>\n",
       "      <td>2017-09-25 01:25'</td>\n",
       "      <td>2017-10-03 01:30'</td>\n",
       "      <td>2017-10-03 05:30'</td>\n",
       "      <td>2017-10-09 01:30'</td>\n",
       "      <td>2017-10-09 05:30'</td>\n",
       "      <td>2017-10-15 21:25'</td>\n",
       "      <td>2017-10-16 01:25'</td>\n",
       "      <td>Alex Smith</td>\n",
       "    </tr>\n",
       "    <tr>\n",
       "      <th>16</th>\n",
       "      <td>Travis Kelce</td>\n",
       "      <td>@tkelce'</td>\n",
       "      <td>Kansas City Chiefs</td>\n",
       "      <td>W</td>\n",
       "      <td>2017-09-17 18:00'</td>\n",
       "      <td>2017-09-17 22:00'</td>\n",
       "      <td>2017-09-24 21:25'</td>\n",
       "      <td>2017-09-25 01:25'</td>\n",
       "      <td>2017-10-03 01:30'</td>\n",
       "      <td>2017-10-03 05:30'</td>\n",
       "      <td>2017-10-09 01:30'</td>\n",
       "      <td>2017-10-09 05:30'</td>\n",
       "      <td>2017-10-15 21:25'</td>\n",
       "      <td>2017-10-16 01:25'</td>\n",
       "      <td>Travis Kelce OR @tkelce'</td>\n",
       "    </tr>\n",
       "    <tr>\n",
       "      <th>17</th>\n",
       "      <td>Tyreek Hill</td>\n",
       "      <td>@cheetah'</td>\n",
       "      <td>Kansas City Chiefs</td>\n",
       "      <td>B</td>\n",
       "      <td>2017-09-17 18:00'</td>\n",
       "      <td>2017-09-17 22:00'</td>\n",
       "      <td>2017-09-24 21:25'</td>\n",
       "      <td>2017-09-25 01:25'</td>\n",
       "      <td>2017-10-03 01:30'</td>\n",
       "      <td>2017-10-03 05:30'</td>\n",
       "      <td>2017-10-09 01:30'</td>\n",
       "      <td>2017-10-09 05:30'</td>\n",
       "      <td>2017-10-15 21:25'</td>\n",
       "      <td>2017-10-16 01:25'</td>\n",
       "      <td>Tyreek Hill OR @cheetah'</td>\n",
       "    </tr>\n",
       "  </tbody>\n",
       "</table>\n",
       "</div>"
      ],
      "text/plain": [
       "            Name Twitter_handle                Team Race           T1_start  \\\n",
       "15    Alex Smith            NaN  Kansas City Chiefs    W  2017-09-17 18:00'   \n",
       "16  Travis Kelce       @tkelce'  Kansas City Chiefs    W  2017-09-17 18:00'   \n",
       "17   Tyreek Hill      @cheetah'  Kansas City Chiefs    B  2017-09-17 18:00'   \n",
       "\n",
       "               T1_end           T2_start             T2_end  \\\n",
       "15  2017-09-17 22:00'  2017-09-24 21:25'  2017-09-25 01:25'   \n",
       "16  2017-09-17 22:00'  2017-09-24 21:25'  2017-09-25 01:25'   \n",
       "17  2017-09-17 22:00'  2017-09-24 21:25'  2017-09-25 01:25'   \n",
       "\n",
       "             T3_start             T3_end           T4_start  \\\n",
       "15  2017-10-03 01:30'  2017-10-03 05:30'  2017-10-09 01:30'   \n",
       "16  2017-10-03 01:30'  2017-10-03 05:30'  2017-10-09 01:30'   \n",
       "17  2017-10-03 01:30'  2017-10-03 05:30'  2017-10-09 01:30'   \n",
       "\n",
       "               T4_end           T5_start             T5_end  \\\n",
       "15  2017-10-09 05:30'  2017-10-15 21:25'  2017-10-16 01:25'   \n",
       "16  2017-10-09 05:30'  2017-10-15 21:25'  2017-10-16 01:25'   \n",
       "17  2017-10-09 05:30'  2017-10-15 21:25'  2017-10-16 01:25'   \n",
       "\n",
       "                full_twitter  \n",
       "15                Alex Smith  \n",
       "16  Travis Kelce OR @tkelce'  \n",
       "17  Tyreek Hill OR @cheetah'  "
      ]
     },
     "execution_count": 55,
     "metadata": {},
     "output_type": "execute_result"
    }
   ],
   "source": [
    "data_t4_6"
   ]
  },
  {
   "cell_type": "code",
   "execution_count": null,
   "metadata": {},
   "outputs": [],
   "source": [
    "#getting tweets"
   ]
  },
  {
   "cell_type": "code",
   "execution_count": null,
   "metadata": {},
   "outputs": [],
   "source": [
    "data_t4_6_tweets = get_tweets(data_t4_6, start = 'T4_start', end = 'T4_end')"
   ]
  },
  {
   "cell_type": "code",
   "execution_count": null,
   "metadata": {},
   "outputs": [],
   "source": [
    "#saving at csv"
   ]
  },
  {
   "cell_type": "code",
   "execution_count": null,
   "metadata": {},
   "outputs": [],
   "source": [
    "data_t4_6_tweets.to_csv(\"~/Documents/nfl sentiment/final_data/tweets_t4_6.csv\", index = False)"
   ]
  },
  {
   "cell_type": "code",
   "execution_count": null,
   "metadata": {},
   "outputs": [],
   "source": []
  },
  {
   "cell_type": "code",
   "execution_count": null,
   "metadata": {},
   "outputs": [],
   "source": [
    "#appending for T4"
   ]
  },
  {
   "cell_type": "code",
   "execution_count": null,
   "metadata": {},
   "outputs": [],
   "source": [
    "T4 = pd.concat([data_t4_1_tweets, data_t4_2_tweets, data_t4_3_tweets, data_t4_4_tweets, \n",
    "                data_t4_5_tweets, data_t4_6_tweets])"
   ]
  },
  {
   "cell_type": "code",
   "execution_count": null,
   "metadata": {},
   "outputs": [],
   "source": [
    "T4.to_csv(\"~/Documents/nfl sentiment/final_data/tweets_t4_all.csv\", index = False)"
   ]
  },
  {
   "cell_type": "code",
   "execution_count": null,
   "metadata": {},
   "outputs": [],
   "source": []
  },
  {
   "cell_type": "code",
   "execution_count": null,
   "metadata": {},
   "outputs": [],
   "source": []
  },
  {
   "cell_type": "code",
   "execution_count": null,
   "metadata": {},
   "outputs": [],
   "source": [
    "####T5-1"
   ]
  },
  {
   "cell_type": "code",
   "execution_count": null,
   "metadata": {},
   "outputs": [],
   "source": []
  },
  {
   "cell_type": "code",
   "execution_count": null,
   "metadata": {},
   "outputs": [],
   "source": []
  },
  {
   "cell_type": "code",
   "execution_count": null,
   "metadata": {},
   "outputs": [],
   "source": [
    "#getting the data"
   ]
  },
  {
   "cell_type": "code",
   "execution_count": 54,
   "metadata": {},
   "outputs": [],
   "source": [
    "teams = [\"Kansas City Chiefs\"]\n",
    "data_t5_1 = get_data(teams)"
   ]
  },
  {
   "cell_type": "code",
   "execution_count": 55,
   "metadata": {
    "scrolled": true
   },
   "outputs": [
    {
     "data": {
      "text/html": [
       "<div>\n",
       "<style scoped>\n",
       "    .dataframe tbody tr th:only-of-type {\n",
       "        vertical-align: middle;\n",
       "    }\n",
       "\n",
       "    .dataframe tbody tr th {\n",
       "        vertical-align: top;\n",
       "    }\n",
       "\n",
       "    .dataframe thead th {\n",
       "        text-align: right;\n",
       "    }\n",
       "</style>\n",
       "<table border=\"1\" class=\"dataframe\">\n",
       "  <thead>\n",
       "    <tr style=\"text-align: right;\">\n",
       "      <th></th>\n",
       "      <th>Name</th>\n",
       "      <th>Twitter_handle</th>\n",
       "      <th>Team</th>\n",
       "      <th>Race</th>\n",
       "      <th>T1_start</th>\n",
       "      <th>T1_end</th>\n",
       "      <th>T2_start</th>\n",
       "      <th>T2_end</th>\n",
       "      <th>T3_start</th>\n",
       "      <th>T3_end</th>\n",
       "      <th>T4_start</th>\n",
       "      <th>T4_end</th>\n",
       "      <th>T5_start</th>\n",
       "      <th>T5_end</th>\n",
       "      <th>full_twitter</th>\n",
       "    </tr>\n",
       "  </thead>\n",
       "  <tbody>\n",
       "    <tr>\n",
       "      <th>15</th>\n",
       "      <td>Alex Smith</td>\n",
       "      <td>NaN</td>\n",
       "      <td>Kansas City Chiefs</td>\n",
       "      <td>W</td>\n",
       "      <td>2017-09-17 18:00'</td>\n",
       "      <td>2017-09-17 22:00'</td>\n",
       "      <td>2017-09-24 21:25'</td>\n",
       "      <td>2017-09-25 01:25'</td>\n",
       "      <td>2017-10-03 01:30'</td>\n",
       "      <td>2017-10-03 05:30'</td>\n",
       "      <td>2017-10-09 01:30'</td>\n",
       "      <td>2017-10-09 05:30'</td>\n",
       "      <td>2017-10-15 21:25'</td>\n",
       "      <td>2017-10-16 01:25'</td>\n",
       "      <td>Alex Smith</td>\n",
       "    </tr>\n",
       "    <tr>\n",
       "      <th>16</th>\n",
       "      <td>Travis Kelce</td>\n",
       "      <td>@tkelce'</td>\n",
       "      <td>Kansas City Chiefs</td>\n",
       "      <td>W</td>\n",
       "      <td>2017-09-17 18:00'</td>\n",
       "      <td>2017-09-17 22:00'</td>\n",
       "      <td>2017-09-24 21:25'</td>\n",
       "      <td>2017-09-25 01:25'</td>\n",
       "      <td>2017-10-03 01:30'</td>\n",
       "      <td>2017-10-03 05:30'</td>\n",
       "      <td>2017-10-09 01:30'</td>\n",
       "      <td>2017-10-09 05:30'</td>\n",
       "      <td>2017-10-15 21:25'</td>\n",
       "      <td>2017-10-16 01:25'</td>\n",
       "      <td>Travis Kelce OR @tkelce'</td>\n",
       "    </tr>\n",
       "    <tr>\n",
       "      <th>17</th>\n",
       "      <td>Tyreek Hill</td>\n",
       "      <td>@cheetah'</td>\n",
       "      <td>Kansas City Chiefs</td>\n",
       "      <td>B</td>\n",
       "      <td>2017-09-17 18:00'</td>\n",
       "      <td>2017-09-17 22:00'</td>\n",
       "      <td>2017-09-24 21:25'</td>\n",
       "      <td>2017-09-25 01:25'</td>\n",
       "      <td>2017-10-03 01:30'</td>\n",
       "      <td>2017-10-03 05:30'</td>\n",
       "      <td>2017-10-09 01:30'</td>\n",
       "      <td>2017-10-09 05:30'</td>\n",
       "      <td>2017-10-15 21:25'</td>\n",
       "      <td>2017-10-16 01:25'</td>\n",
       "      <td>Tyreek Hill OR @cheetah'</td>\n",
       "    </tr>\n",
       "  </tbody>\n",
       "</table>\n",
       "</div>"
      ],
      "text/plain": [
       "            Name Twitter_handle                Team Race           T1_start  \\\n",
       "15    Alex Smith            NaN  Kansas City Chiefs    W  2017-09-17 18:00'   \n",
       "16  Travis Kelce       @tkelce'  Kansas City Chiefs    W  2017-09-17 18:00'   \n",
       "17   Tyreek Hill      @cheetah'  Kansas City Chiefs    B  2017-09-17 18:00'   \n",
       "\n",
       "               T1_end           T2_start             T2_end  \\\n",
       "15  2017-09-17 22:00'  2017-09-24 21:25'  2017-09-25 01:25'   \n",
       "16  2017-09-17 22:00'  2017-09-24 21:25'  2017-09-25 01:25'   \n",
       "17  2017-09-17 22:00'  2017-09-24 21:25'  2017-09-25 01:25'   \n",
       "\n",
       "             T3_start             T3_end           T4_start  \\\n",
       "15  2017-10-03 01:30'  2017-10-03 05:30'  2017-10-09 01:30'   \n",
       "16  2017-10-03 01:30'  2017-10-03 05:30'  2017-10-09 01:30'   \n",
       "17  2017-10-03 01:30'  2017-10-03 05:30'  2017-10-09 01:30'   \n",
       "\n",
       "               T4_end           T5_start             T5_end  \\\n",
       "15  2017-10-09 05:30'  2017-10-15 21:25'  2017-10-16 01:25'   \n",
       "16  2017-10-09 05:30'  2017-10-15 21:25'  2017-10-16 01:25'   \n",
       "17  2017-10-09 05:30'  2017-10-15 21:25'  2017-10-16 01:25'   \n",
       "\n",
       "                full_twitter  \n",
       "15                Alex Smith  \n",
       "16  Travis Kelce OR @tkelce'  \n",
       "17  Tyreek Hill OR @cheetah'  "
      ]
     },
     "execution_count": 55,
     "metadata": {},
     "output_type": "execute_result"
    }
   ],
   "source": [
    "data_t5_1"
   ]
  },
  {
   "cell_type": "code",
   "execution_count": null,
   "metadata": {},
   "outputs": [],
   "source": [
    "#getting tweets"
   ]
  },
  {
   "cell_type": "code",
   "execution_count": null,
   "metadata": {},
   "outputs": [],
   "source": [
    "data_t5_1_tweets = get_tweets(data_t5_1, start = 'T5_start', end = 'T5_end')"
   ]
  },
  {
   "cell_type": "code",
   "execution_count": null,
   "metadata": {},
   "outputs": [],
   "source": [
    "#saving at csv"
   ]
  },
  {
   "cell_type": "code",
   "execution_count": null,
   "metadata": {},
   "outputs": [],
   "source": [
    "data_t5_1_tweets.to_csv(\"~/Documents/nfl sentiment/final_data/tweets_t5_1.csv\", index = False)"
   ]
  },
  {
   "cell_type": "code",
   "execution_count": null,
   "metadata": {},
   "outputs": [],
   "source": []
  },
  {
   "cell_type": "code",
   "execution_count": null,
   "metadata": {},
   "outputs": [],
   "source": []
  },
  {
   "cell_type": "code",
   "execution_count": null,
   "metadata": {},
   "outputs": [],
   "source": [
    "####T5-2"
   ]
  },
  {
   "cell_type": "code",
   "execution_count": null,
   "metadata": {},
   "outputs": [],
   "source": []
  },
  {
   "cell_type": "code",
   "execution_count": null,
   "metadata": {},
   "outputs": [],
   "source": []
  },
  {
   "cell_type": "code",
   "execution_count": null,
   "metadata": {},
   "outputs": [],
   "source": [
    "#getting the data"
   ]
  },
  {
   "cell_type": "code",
   "execution_count": 54,
   "metadata": {},
   "outputs": [],
   "source": [
    "teams = [\"Tampa Bay Buccaneers\"]\n",
    "data_t5_2 = get_data(teams)"
   ]
  },
  {
   "cell_type": "code",
   "execution_count": 55,
   "metadata": {
    "scrolled": true
   },
   "outputs": [
    {
     "data": {
      "text/html": [
       "<div>\n",
       "<style scoped>\n",
       "    .dataframe tbody tr th:only-of-type {\n",
       "        vertical-align: middle;\n",
       "    }\n",
       "\n",
       "    .dataframe tbody tr th {\n",
       "        vertical-align: top;\n",
       "    }\n",
       "\n",
       "    .dataframe thead th {\n",
       "        text-align: right;\n",
       "    }\n",
       "</style>\n",
       "<table border=\"1\" class=\"dataframe\">\n",
       "  <thead>\n",
       "    <tr style=\"text-align: right;\">\n",
       "      <th></th>\n",
       "      <th>Name</th>\n",
       "      <th>Twitter_handle</th>\n",
       "      <th>Team</th>\n",
       "      <th>Race</th>\n",
       "      <th>T1_start</th>\n",
       "      <th>T1_end</th>\n",
       "      <th>T2_start</th>\n",
       "      <th>T2_end</th>\n",
       "      <th>T3_start</th>\n",
       "      <th>T3_end</th>\n",
       "      <th>T4_start</th>\n",
       "      <th>T4_end</th>\n",
       "      <th>T5_start</th>\n",
       "      <th>T5_end</th>\n",
       "      <th>full_twitter</th>\n",
       "    </tr>\n",
       "  </thead>\n",
       "  <tbody>\n",
       "    <tr>\n",
       "      <th>15</th>\n",
       "      <td>Alex Smith</td>\n",
       "      <td>NaN</td>\n",
       "      <td>Kansas City Chiefs</td>\n",
       "      <td>W</td>\n",
       "      <td>2017-09-17 18:00'</td>\n",
       "      <td>2017-09-17 22:00'</td>\n",
       "      <td>2017-09-24 21:25'</td>\n",
       "      <td>2017-09-25 01:25'</td>\n",
       "      <td>2017-10-03 01:30'</td>\n",
       "      <td>2017-10-03 05:30'</td>\n",
       "      <td>2017-10-09 01:30'</td>\n",
       "      <td>2017-10-09 05:30'</td>\n",
       "      <td>2017-10-15 21:25'</td>\n",
       "      <td>2017-10-16 01:25'</td>\n",
       "      <td>Alex Smith</td>\n",
       "    </tr>\n",
       "    <tr>\n",
       "      <th>16</th>\n",
       "      <td>Travis Kelce</td>\n",
       "      <td>@tkelce'</td>\n",
       "      <td>Kansas City Chiefs</td>\n",
       "      <td>W</td>\n",
       "      <td>2017-09-17 18:00'</td>\n",
       "      <td>2017-09-17 22:00'</td>\n",
       "      <td>2017-09-24 21:25'</td>\n",
       "      <td>2017-09-25 01:25'</td>\n",
       "      <td>2017-10-03 01:30'</td>\n",
       "      <td>2017-10-03 05:30'</td>\n",
       "      <td>2017-10-09 01:30'</td>\n",
       "      <td>2017-10-09 05:30'</td>\n",
       "      <td>2017-10-15 21:25'</td>\n",
       "      <td>2017-10-16 01:25'</td>\n",
       "      <td>Travis Kelce OR @tkelce'</td>\n",
       "    </tr>\n",
       "    <tr>\n",
       "      <th>17</th>\n",
       "      <td>Tyreek Hill</td>\n",
       "      <td>@cheetah'</td>\n",
       "      <td>Kansas City Chiefs</td>\n",
       "      <td>B</td>\n",
       "      <td>2017-09-17 18:00'</td>\n",
       "      <td>2017-09-17 22:00'</td>\n",
       "      <td>2017-09-24 21:25'</td>\n",
       "      <td>2017-09-25 01:25'</td>\n",
       "      <td>2017-10-03 01:30'</td>\n",
       "      <td>2017-10-03 05:30'</td>\n",
       "      <td>2017-10-09 01:30'</td>\n",
       "      <td>2017-10-09 05:30'</td>\n",
       "      <td>2017-10-15 21:25'</td>\n",
       "      <td>2017-10-16 01:25'</td>\n",
       "      <td>Tyreek Hill OR @cheetah'</td>\n",
       "    </tr>\n",
       "  </tbody>\n",
       "</table>\n",
       "</div>"
      ],
      "text/plain": [
       "            Name Twitter_handle                Team Race           T1_start  \\\n",
       "15    Alex Smith            NaN  Kansas City Chiefs    W  2017-09-17 18:00'   \n",
       "16  Travis Kelce       @tkelce'  Kansas City Chiefs    W  2017-09-17 18:00'   \n",
       "17   Tyreek Hill      @cheetah'  Kansas City Chiefs    B  2017-09-17 18:00'   \n",
       "\n",
       "               T1_end           T2_start             T2_end  \\\n",
       "15  2017-09-17 22:00'  2017-09-24 21:25'  2017-09-25 01:25'   \n",
       "16  2017-09-17 22:00'  2017-09-24 21:25'  2017-09-25 01:25'   \n",
       "17  2017-09-17 22:00'  2017-09-24 21:25'  2017-09-25 01:25'   \n",
       "\n",
       "             T3_start             T3_end           T4_start  \\\n",
       "15  2017-10-03 01:30'  2017-10-03 05:30'  2017-10-09 01:30'   \n",
       "16  2017-10-03 01:30'  2017-10-03 05:30'  2017-10-09 01:30'   \n",
       "17  2017-10-03 01:30'  2017-10-03 05:30'  2017-10-09 01:30'   \n",
       "\n",
       "               T4_end           T5_start             T5_end  \\\n",
       "15  2017-10-09 05:30'  2017-10-15 21:25'  2017-10-16 01:25'   \n",
       "16  2017-10-09 05:30'  2017-10-15 21:25'  2017-10-16 01:25'   \n",
       "17  2017-10-09 05:30'  2017-10-15 21:25'  2017-10-16 01:25'   \n",
       "\n",
       "                full_twitter  \n",
       "15                Alex Smith  \n",
       "16  Travis Kelce OR @tkelce'  \n",
       "17  Tyreek Hill OR @cheetah'  "
      ]
     },
     "execution_count": 55,
     "metadata": {},
     "output_type": "execute_result"
    }
   ],
   "source": [
    "data_t5_2"
   ]
  },
  {
   "cell_type": "code",
   "execution_count": null,
   "metadata": {},
   "outputs": [],
   "source": [
    "#getting tweets"
   ]
  },
  {
   "cell_type": "code",
   "execution_count": null,
   "metadata": {},
   "outputs": [],
   "source": [
    "data_t5_2_tweets = get_tweets(data_t5_2, start = 'T5_start', end = 'T5_end')"
   ]
  },
  {
   "cell_type": "code",
   "execution_count": null,
   "metadata": {},
   "outputs": [],
   "source": [
    "#saving at csv"
   ]
  },
  {
   "cell_type": "code",
   "execution_count": null,
   "metadata": {},
   "outputs": [],
   "source": [
    "data_t5_2_tweets.to_csv(\"~/Documents/nfl sentiment/final_data/tweets_t5_2.csv\", index = False)"
   ]
  },
  {
   "cell_type": "code",
   "execution_count": null,
   "metadata": {},
   "outputs": [],
   "source": []
  },
  {
   "cell_type": "code",
   "execution_count": null,
   "metadata": {},
   "outputs": [],
   "source": []
  },
  {
   "cell_type": "code",
   "execution_count": null,
   "metadata": {},
   "outputs": [],
   "source": [
    "####T5-3"
   ]
  },
  {
   "cell_type": "code",
   "execution_count": null,
   "metadata": {},
   "outputs": [],
   "source": []
  },
  {
   "cell_type": "code",
   "execution_count": null,
   "metadata": {},
   "outputs": [],
   "source": []
  },
  {
   "cell_type": "code",
   "execution_count": null,
   "metadata": {},
   "outputs": [],
   "source": [
    "#getting the data"
   ]
  },
  {
   "cell_type": "code",
   "execution_count": 54,
   "metadata": {},
   "outputs": [],
   "source": [
    "teams = [\"Baltimore Ravens\"]\n",
    "data_t5_3 = get_data(teams)"
   ]
  },
  {
   "cell_type": "code",
   "execution_count": 55,
   "metadata": {
    "scrolled": true
   },
   "outputs": [
    {
     "data": {
      "text/html": [
       "<div>\n",
       "<style scoped>\n",
       "    .dataframe tbody tr th:only-of-type {\n",
       "        vertical-align: middle;\n",
       "    }\n",
       "\n",
       "    .dataframe tbody tr th {\n",
       "        vertical-align: top;\n",
       "    }\n",
       "\n",
       "    .dataframe thead th {\n",
       "        text-align: right;\n",
       "    }\n",
       "</style>\n",
       "<table border=\"1\" class=\"dataframe\">\n",
       "  <thead>\n",
       "    <tr style=\"text-align: right;\">\n",
       "      <th></th>\n",
       "      <th>Name</th>\n",
       "      <th>Twitter_handle</th>\n",
       "      <th>Team</th>\n",
       "      <th>Race</th>\n",
       "      <th>T1_start</th>\n",
       "      <th>T1_end</th>\n",
       "      <th>T2_start</th>\n",
       "      <th>T2_end</th>\n",
       "      <th>T3_start</th>\n",
       "      <th>T3_end</th>\n",
       "      <th>T4_start</th>\n",
       "      <th>T4_end</th>\n",
       "      <th>T5_start</th>\n",
       "      <th>T5_end</th>\n",
       "      <th>full_twitter</th>\n",
       "    </tr>\n",
       "  </thead>\n",
       "  <tbody>\n",
       "    <tr>\n",
       "      <th>15</th>\n",
       "      <td>Alex Smith</td>\n",
       "      <td>NaN</td>\n",
       "      <td>Kansas City Chiefs</td>\n",
       "      <td>W</td>\n",
       "      <td>2017-09-17 18:00'</td>\n",
       "      <td>2017-09-17 22:00'</td>\n",
       "      <td>2017-09-24 21:25'</td>\n",
       "      <td>2017-09-25 01:25'</td>\n",
       "      <td>2017-10-03 01:30'</td>\n",
       "      <td>2017-10-03 05:30'</td>\n",
       "      <td>2017-10-09 01:30'</td>\n",
       "      <td>2017-10-09 05:30'</td>\n",
       "      <td>2017-10-15 21:25'</td>\n",
       "      <td>2017-10-16 01:25'</td>\n",
       "      <td>Alex Smith</td>\n",
       "    </tr>\n",
       "    <tr>\n",
       "      <th>16</th>\n",
       "      <td>Travis Kelce</td>\n",
       "      <td>@tkelce'</td>\n",
       "      <td>Kansas City Chiefs</td>\n",
       "      <td>W</td>\n",
       "      <td>2017-09-17 18:00'</td>\n",
       "      <td>2017-09-17 22:00'</td>\n",
       "      <td>2017-09-24 21:25'</td>\n",
       "      <td>2017-09-25 01:25'</td>\n",
       "      <td>2017-10-03 01:30'</td>\n",
       "      <td>2017-10-03 05:30'</td>\n",
       "      <td>2017-10-09 01:30'</td>\n",
       "      <td>2017-10-09 05:30'</td>\n",
       "      <td>2017-10-15 21:25'</td>\n",
       "      <td>2017-10-16 01:25'</td>\n",
       "      <td>Travis Kelce OR @tkelce'</td>\n",
       "    </tr>\n",
       "    <tr>\n",
       "      <th>17</th>\n",
       "      <td>Tyreek Hill</td>\n",
       "      <td>@cheetah'</td>\n",
       "      <td>Kansas City Chiefs</td>\n",
       "      <td>B</td>\n",
       "      <td>2017-09-17 18:00'</td>\n",
       "      <td>2017-09-17 22:00'</td>\n",
       "      <td>2017-09-24 21:25'</td>\n",
       "      <td>2017-09-25 01:25'</td>\n",
       "      <td>2017-10-03 01:30'</td>\n",
       "      <td>2017-10-03 05:30'</td>\n",
       "      <td>2017-10-09 01:30'</td>\n",
       "      <td>2017-10-09 05:30'</td>\n",
       "      <td>2017-10-15 21:25'</td>\n",
       "      <td>2017-10-16 01:25'</td>\n",
       "      <td>Tyreek Hill OR @cheetah'</td>\n",
       "    </tr>\n",
       "  </tbody>\n",
       "</table>\n",
       "</div>"
      ],
      "text/plain": [
       "            Name Twitter_handle                Team Race           T1_start  \\\n",
       "15    Alex Smith            NaN  Kansas City Chiefs    W  2017-09-17 18:00'   \n",
       "16  Travis Kelce       @tkelce'  Kansas City Chiefs    W  2017-09-17 18:00'   \n",
       "17   Tyreek Hill      @cheetah'  Kansas City Chiefs    B  2017-09-17 18:00'   \n",
       "\n",
       "               T1_end           T2_start             T2_end  \\\n",
       "15  2017-09-17 22:00'  2017-09-24 21:25'  2017-09-25 01:25'   \n",
       "16  2017-09-17 22:00'  2017-09-24 21:25'  2017-09-25 01:25'   \n",
       "17  2017-09-17 22:00'  2017-09-24 21:25'  2017-09-25 01:25'   \n",
       "\n",
       "             T3_start             T3_end           T4_start  \\\n",
       "15  2017-10-03 01:30'  2017-10-03 05:30'  2017-10-09 01:30'   \n",
       "16  2017-10-03 01:30'  2017-10-03 05:30'  2017-10-09 01:30'   \n",
       "17  2017-10-03 01:30'  2017-10-03 05:30'  2017-10-09 01:30'   \n",
       "\n",
       "               T4_end           T5_start             T5_end  \\\n",
       "15  2017-10-09 05:30'  2017-10-15 21:25'  2017-10-16 01:25'   \n",
       "16  2017-10-09 05:30'  2017-10-15 21:25'  2017-10-16 01:25'   \n",
       "17  2017-10-09 05:30'  2017-10-15 21:25'  2017-10-16 01:25'   \n",
       "\n",
       "                full_twitter  \n",
       "15                Alex Smith  \n",
       "16  Travis Kelce OR @tkelce'  \n",
       "17  Tyreek Hill OR @cheetah'  "
      ]
     },
     "execution_count": 55,
     "metadata": {},
     "output_type": "execute_result"
    }
   ],
   "source": [
    "data_t5_3"
   ]
  },
  {
   "cell_type": "code",
   "execution_count": null,
   "metadata": {},
   "outputs": [],
   "source": [
    "#getting tweets"
   ]
  },
  {
   "cell_type": "code",
   "execution_count": null,
   "metadata": {},
   "outputs": [],
   "source": [
    "data_t5_3_tweets = get_tweets(data_t5_1, start = 'T5_start', end = 'T5_end')"
   ]
  },
  {
   "cell_type": "code",
   "execution_count": null,
   "metadata": {},
   "outputs": [],
   "source": [
    "#saving at csv"
   ]
  },
  {
   "cell_type": "code",
   "execution_count": null,
   "metadata": {},
   "outputs": [],
   "source": [
    "data_t5_3_tweets.to_csv(\"~/Documents/nfl sentiment/final_data/tweets_t5_1.csv\", index = False)"
   ]
  },
  {
   "cell_type": "code",
   "execution_count": null,
   "metadata": {},
   "outputs": [],
   "source": []
  },
  {
   "cell_type": "code",
   "execution_count": null,
   "metadata": {},
   "outputs": [],
   "source": []
  },
  {
   "cell_type": "code",
   "execution_count": null,
   "metadata": {},
   "outputs": [],
   "source": [
    "####T5-4"
   ]
  },
  {
   "cell_type": "code",
   "execution_count": null,
   "metadata": {},
   "outputs": [],
   "source": []
  },
  {
   "cell_type": "code",
   "execution_count": null,
   "metadata": {},
   "outputs": [],
   "source": []
  },
  {
   "cell_type": "code",
   "execution_count": null,
   "metadata": {},
   "outputs": [],
   "source": [
    "#getting the data"
   ]
  },
  {
   "cell_type": "code",
   "execution_count": 54,
   "metadata": {},
   "outputs": [],
   "source": [
    "teams = [\"Philadelphia Eagles\", \"Carolina Panthers\"]\n",
    "data_t5_4 = get_data(teams)"
   ]
  },
  {
   "cell_type": "code",
   "execution_count": 55,
   "metadata": {
    "scrolled": true
   },
   "outputs": [
    {
     "data": {
      "text/html": [
       "<div>\n",
       "<style scoped>\n",
       "    .dataframe tbody tr th:only-of-type {\n",
       "        vertical-align: middle;\n",
       "    }\n",
       "\n",
       "    .dataframe tbody tr th {\n",
       "        vertical-align: top;\n",
       "    }\n",
       "\n",
       "    .dataframe thead th {\n",
       "        text-align: right;\n",
       "    }\n",
       "</style>\n",
       "<table border=\"1\" class=\"dataframe\">\n",
       "  <thead>\n",
       "    <tr style=\"text-align: right;\">\n",
       "      <th></th>\n",
       "      <th>Name</th>\n",
       "      <th>Twitter_handle</th>\n",
       "      <th>Team</th>\n",
       "      <th>Race</th>\n",
       "      <th>T1_start</th>\n",
       "      <th>T1_end</th>\n",
       "      <th>T2_start</th>\n",
       "      <th>T2_end</th>\n",
       "      <th>T3_start</th>\n",
       "      <th>T3_end</th>\n",
       "      <th>T4_start</th>\n",
       "      <th>T4_end</th>\n",
       "      <th>T5_start</th>\n",
       "      <th>T5_end</th>\n",
       "      <th>full_twitter</th>\n",
       "    </tr>\n",
       "  </thead>\n",
       "  <tbody>\n",
       "    <tr>\n",
       "      <th>15</th>\n",
       "      <td>Alex Smith</td>\n",
       "      <td>NaN</td>\n",
       "      <td>Kansas City Chiefs</td>\n",
       "      <td>W</td>\n",
       "      <td>2017-09-17 18:00'</td>\n",
       "      <td>2017-09-17 22:00'</td>\n",
       "      <td>2017-09-24 21:25'</td>\n",
       "      <td>2017-09-25 01:25'</td>\n",
       "      <td>2017-10-03 01:30'</td>\n",
       "      <td>2017-10-03 05:30'</td>\n",
       "      <td>2017-10-09 01:30'</td>\n",
       "      <td>2017-10-09 05:30'</td>\n",
       "      <td>2017-10-15 21:25'</td>\n",
       "      <td>2017-10-16 01:25'</td>\n",
       "      <td>Alex Smith</td>\n",
       "    </tr>\n",
       "    <tr>\n",
       "      <th>16</th>\n",
       "      <td>Travis Kelce</td>\n",
       "      <td>@tkelce'</td>\n",
       "      <td>Kansas City Chiefs</td>\n",
       "      <td>W</td>\n",
       "      <td>2017-09-17 18:00'</td>\n",
       "      <td>2017-09-17 22:00'</td>\n",
       "      <td>2017-09-24 21:25'</td>\n",
       "      <td>2017-09-25 01:25'</td>\n",
       "      <td>2017-10-03 01:30'</td>\n",
       "      <td>2017-10-03 05:30'</td>\n",
       "      <td>2017-10-09 01:30'</td>\n",
       "      <td>2017-10-09 05:30'</td>\n",
       "      <td>2017-10-15 21:25'</td>\n",
       "      <td>2017-10-16 01:25'</td>\n",
       "      <td>Travis Kelce OR @tkelce'</td>\n",
       "    </tr>\n",
       "    <tr>\n",
       "      <th>17</th>\n",
       "      <td>Tyreek Hill</td>\n",
       "      <td>@cheetah'</td>\n",
       "      <td>Kansas City Chiefs</td>\n",
       "      <td>B</td>\n",
       "      <td>2017-09-17 18:00'</td>\n",
       "      <td>2017-09-17 22:00'</td>\n",
       "      <td>2017-09-24 21:25'</td>\n",
       "      <td>2017-09-25 01:25'</td>\n",
       "      <td>2017-10-03 01:30'</td>\n",
       "      <td>2017-10-03 05:30'</td>\n",
       "      <td>2017-10-09 01:30'</td>\n",
       "      <td>2017-10-09 05:30'</td>\n",
       "      <td>2017-10-15 21:25'</td>\n",
       "      <td>2017-10-16 01:25'</td>\n",
       "      <td>Tyreek Hill OR @cheetah'</td>\n",
       "    </tr>\n",
       "  </tbody>\n",
       "</table>\n",
       "</div>"
      ],
      "text/plain": [
       "            Name Twitter_handle                Team Race           T1_start  \\\n",
       "15    Alex Smith            NaN  Kansas City Chiefs    W  2017-09-17 18:00'   \n",
       "16  Travis Kelce       @tkelce'  Kansas City Chiefs    W  2017-09-17 18:00'   \n",
       "17   Tyreek Hill      @cheetah'  Kansas City Chiefs    B  2017-09-17 18:00'   \n",
       "\n",
       "               T1_end           T2_start             T2_end  \\\n",
       "15  2017-09-17 22:00'  2017-09-24 21:25'  2017-09-25 01:25'   \n",
       "16  2017-09-17 22:00'  2017-09-24 21:25'  2017-09-25 01:25'   \n",
       "17  2017-09-17 22:00'  2017-09-24 21:25'  2017-09-25 01:25'   \n",
       "\n",
       "             T3_start             T3_end           T4_start  \\\n",
       "15  2017-10-03 01:30'  2017-10-03 05:30'  2017-10-09 01:30'   \n",
       "16  2017-10-03 01:30'  2017-10-03 05:30'  2017-10-09 01:30'   \n",
       "17  2017-10-03 01:30'  2017-10-03 05:30'  2017-10-09 01:30'   \n",
       "\n",
       "               T4_end           T5_start             T5_end  \\\n",
       "15  2017-10-09 05:30'  2017-10-15 21:25'  2017-10-16 01:25'   \n",
       "16  2017-10-09 05:30'  2017-10-15 21:25'  2017-10-16 01:25'   \n",
       "17  2017-10-09 05:30'  2017-10-15 21:25'  2017-10-16 01:25'   \n",
       "\n",
       "                full_twitter  \n",
       "15                Alex Smith  \n",
       "16  Travis Kelce OR @tkelce'  \n",
       "17  Tyreek Hill OR @cheetah'  "
      ]
     },
     "execution_count": 55,
     "metadata": {},
     "output_type": "execute_result"
    }
   ],
   "source": [
    "data_t5_4"
   ]
  },
  {
   "cell_type": "code",
   "execution_count": null,
   "metadata": {},
   "outputs": [],
   "source": [
    "#getting tweets"
   ]
  },
  {
   "cell_type": "code",
   "execution_count": null,
   "metadata": {},
   "outputs": [],
   "source": [
    "data_t5_4_tweets = get_tweets(data_t5_4, start = 'T5_start', end = 'T5_end')"
   ]
  },
  {
   "cell_type": "code",
   "execution_count": null,
   "metadata": {},
   "outputs": [],
   "source": [
    "#saving at csv"
   ]
  },
  {
   "cell_type": "code",
   "execution_count": null,
   "metadata": {},
   "outputs": [],
   "source": [
    "data_t5_4_tweets.to_csv(\"~/Documents/nfl sentiment/final_data/tweets_t5_4.csv\", index = False)"
   ]
  },
  {
   "cell_type": "code",
   "execution_count": null,
   "metadata": {},
   "outputs": [],
   "source": []
  },
  {
   "cell_type": "code",
   "execution_count": null,
   "metadata": {},
   "outputs": [],
   "source": []
  },
  {
   "cell_type": "code",
   "execution_count": null,
   "metadata": {},
   "outputs": [],
   "source": [
    "####T5-5"
   ]
  },
  {
   "cell_type": "code",
   "execution_count": null,
   "metadata": {},
   "outputs": [],
   "source": []
  },
  {
   "cell_type": "code",
   "execution_count": null,
   "metadata": {},
   "outputs": [],
   "source": []
  },
  {
   "cell_type": "code",
   "execution_count": null,
   "metadata": {},
   "outputs": [],
   "source": [
    "#getting the data"
   ]
  },
  {
   "cell_type": "code",
   "execution_count": 54,
   "metadata": {},
   "outputs": [],
   "source": [
    "teams = [\"Dallas Cowboys\"]\n",
    "data_t5_5 = get_data(teams)"
   ]
  },
  {
   "cell_type": "code",
   "execution_count": 55,
   "metadata": {
    "scrolled": true
   },
   "outputs": [
    {
     "data": {
      "text/html": [
       "<div>\n",
       "<style scoped>\n",
       "    .dataframe tbody tr th:only-of-type {\n",
       "        vertical-align: middle;\n",
       "    }\n",
       "\n",
       "    .dataframe tbody tr th {\n",
       "        vertical-align: top;\n",
       "    }\n",
       "\n",
       "    .dataframe thead th {\n",
       "        text-align: right;\n",
       "    }\n",
       "</style>\n",
       "<table border=\"1\" class=\"dataframe\">\n",
       "  <thead>\n",
       "    <tr style=\"text-align: right;\">\n",
       "      <th></th>\n",
       "      <th>Name</th>\n",
       "      <th>Twitter_handle</th>\n",
       "      <th>Team</th>\n",
       "      <th>Race</th>\n",
       "      <th>T1_start</th>\n",
       "      <th>T1_end</th>\n",
       "      <th>T2_start</th>\n",
       "      <th>T2_end</th>\n",
       "      <th>T3_start</th>\n",
       "      <th>T3_end</th>\n",
       "      <th>T4_start</th>\n",
       "      <th>T4_end</th>\n",
       "      <th>T5_start</th>\n",
       "      <th>T5_end</th>\n",
       "      <th>full_twitter</th>\n",
       "    </tr>\n",
       "  </thead>\n",
       "  <tbody>\n",
       "    <tr>\n",
       "      <th>15</th>\n",
       "      <td>Alex Smith</td>\n",
       "      <td>NaN</td>\n",
       "      <td>Kansas City Chiefs</td>\n",
       "      <td>W</td>\n",
       "      <td>2017-09-17 18:00'</td>\n",
       "      <td>2017-09-17 22:00'</td>\n",
       "      <td>2017-09-24 21:25'</td>\n",
       "      <td>2017-09-25 01:25'</td>\n",
       "      <td>2017-10-03 01:30'</td>\n",
       "      <td>2017-10-03 05:30'</td>\n",
       "      <td>2017-10-09 01:30'</td>\n",
       "      <td>2017-10-09 05:30'</td>\n",
       "      <td>2017-10-15 21:25'</td>\n",
       "      <td>2017-10-16 01:25'</td>\n",
       "      <td>Alex Smith</td>\n",
       "    </tr>\n",
       "    <tr>\n",
       "      <th>16</th>\n",
       "      <td>Travis Kelce</td>\n",
       "      <td>@tkelce'</td>\n",
       "      <td>Kansas City Chiefs</td>\n",
       "      <td>W</td>\n",
       "      <td>2017-09-17 18:00'</td>\n",
       "      <td>2017-09-17 22:00'</td>\n",
       "      <td>2017-09-24 21:25'</td>\n",
       "      <td>2017-09-25 01:25'</td>\n",
       "      <td>2017-10-03 01:30'</td>\n",
       "      <td>2017-10-03 05:30'</td>\n",
       "      <td>2017-10-09 01:30'</td>\n",
       "      <td>2017-10-09 05:30'</td>\n",
       "      <td>2017-10-15 21:25'</td>\n",
       "      <td>2017-10-16 01:25'</td>\n",
       "      <td>Travis Kelce OR @tkelce'</td>\n",
       "    </tr>\n",
       "    <tr>\n",
       "      <th>17</th>\n",
       "      <td>Tyreek Hill</td>\n",
       "      <td>@cheetah'</td>\n",
       "      <td>Kansas City Chiefs</td>\n",
       "      <td>B</td>\n",
       "      <td>2017-09-17 18:00'</td>\n",
       "      <td>2017-09-17 22:00'</td>\n",
       "      <td>2017-09-24 21:25'</td>\n",
       "      <td>2017-09-25 01:25'</td>\n",
       "      <td>2017-10-03 01:30'</td>\n",
       "      <td>2017-10-03 05:30'</td>\n",
       "      <td>2017-10-09 01:30'</td>\n",
       "      <td>2017-10-09 05:30'</td>\n",
       "      <td>2017-10-15 21:25'</td>\n",
       "      <td>2017-10-16 01:25'</td>\n",
       "      <td>Tyreek Hill OR @cheetah'</td>\n",
       "    </tr>\n",
       "  </tbody>\n",
       "</table>\n",
       "</div>"
      ],
      "text/plain": [
       "            Name Twitter_handle                Team Race           T1_start  \\\n",
       "15    Alex Smith            NaN  Kansas City Chiefs    W  2017-09-17 18:00'   \n",
       "16  Travis Kelce       @tkelce'  Kansas City Chiefs    W  2017-09-17 18:00'   \n",
       "17   Tyreek Hill      @cheetah'  Kansas City Chiefs    B  2017-09-17 18:00'   \n",
       "\n",
       "               T1_end           T2_start             T2_end  \\\n",
       "15  2017-09-17 22:00'  2017-09-24 21:25'  2017-09-25 01:25'   \n",
       "16  2017-09-17 22:00'  2017-09-24 21:25'  2017-09-25 01:25'   \n",
       "17  2017-09-17 22:00'  2017-09-24 21:25'  2017-09-25 01:25'   \n",
       "\n",
       "             T3_start             T3_end           T4_start  \\\n",
       "15  2017-10-03 01:30'  2017-10-03 05:30'  2017-10-09 01:30'   \n",
       "16  2017-10-03 01:30'  2017-10-03 05:30'  2017-10-09 01:30'   \n",
       "17  2017-10-03 01:30'  2017-10-03 05:30'  2017-10-09 01:30'   \n",
       "\n",
       "               T4_end           T5_start             T5_end  \\\n",
       "15  2017-10-09 05:30'  2017-10-15 21:25'  2017-10-16 01:25'   \n",
       "16  2017-10-09 05:30'  2017-10-15 21:25'  2017-10-16 01:25'   \n",
       "17  2017-10-09 05:30'  2017-10-15 21:25'  2017-10-16 01:25'   \n",
       "\n",
       "                full_twitter  \n",
       "15                Alex Smith  \n",
       "16  Travis Kelce OR @tkelce'  \n",
       "17  Tyreek Hill OR @cheetah'  "
      ]
     },
     "execution_count": 55,
     "metadata": {},
     "output_type": "execute_result"
    }
   ],
   "source": [
    "data_t5_5"
   ]
  },
  {
   "cell_type": "code",
   "execution_count": null,
   "metadata": {},
   "outputs": [],
   "source": [
    "#getting tweets"
   ]
  },
  {
   "cell_type": "code",
   "execution_count": null,
   "metadata": {},
   "outputs": [],
   "source": [
    "data_t5_5_tweets = get_tweets(data_t5_5, start = 'T5_start', end = 'T5_end')"
   ]
  },
  {
   "cell_type": "code",
   "execution_count": null,
   "metadata": {},
   "outputs": [],
   "source": [
    "#saving at csv"
   ]
  },
  {
   "cell_type": "code",
   "execution_count": null,
   "metadata": {},
   "outputs": [],
   "source": [
    "data_t5_5_tweets.to_csv(\"~/Documents/nfl sentiment/final_data/tweets_t5_5.csv\", index = False)"
   ]
  },
  {
   "cell_type": "code",
   "execution_count": null,
   "metadata": {},
   "outputs": [],
   "source": []
  },
  {
   "cell_type": "code",
   "execution_count": null,
   "metadata": {},
   "outputs": [],
   "source": []
  },
  {
   "cell_type": "code",
   "execution_count": null,
   "metadata": {},
   "outputs": [],
   "source": [
    "####T5-6"
   ]
  },
  {
   "cell_type": "code",
   "execution_count": null,
   "metadata": {},
   "outputs": [],
   "source": []
  },
  {
   "cell_type": "code",
   "execution_count": null,
   "metadata": {},
   "outputs": [],
   "source": []
  },
  {
   "cell_type": "code",
   "execution_count": null,
   "metadata": {},
   "outputs": [],
   "source": [
    "#getting the data"
   ]
  },
  {
   "cell_type": "code",
   "execution_count": 54,
   "metadata": {},
   "outputs": [],
   "source": [
    "teams = [\"Seattle Seahawks\"]\n",
    "data_t5_6 = get_data(teams)"
   ]
  },
  {
   "cell_type": "code",
   "execution_count": 55,
   "metadata": {
    "scrolled": true
   },
   "outputs": [
    {
     "data": {
      "text/html": [
       "<div>\n",
       "<style scoped>\n",
       "    .dataframe tbody tr th:only-of-type {\n",
       "        vertical-align: middle;\n",
       "    }\n",
       "\n",
       "    .dataframe tbody tr th {\n",
       "        vertical-align: top;\n",
       "    }\n",
       "\n",
       "    .dataframe thead th {\n",
       "        text-align: right;\n",
       "    }\n",
       "</style>\n",
       "<table border=\"1\" class=\"dataframe\">\n",
       "  <thead>\n",
       "    <tr style=\"text-align: right;\">\n",
       "      <th></th>\n",
       "      <th>Name</th>\n",
       "      <th>Twitter_handle</th>\n",
       "      <th>Team</th>\n",
       "      <th>Race</th>\n",
       "      <th>T1_start</th>\n",
       "      <th>T1_end</th>\n",
       "      <th>T2_start</th>\n",
       "      <th>T2_end</th>\n",
       "      <th>T3_start</th>\n",
       "      <th>T3_end</th>\n",
       "      <th>T4_start</th>\n",
       "      <th>T4_end</th>\n",
       "      <th>T5_start</th>\n",
       "      <th>T5_end</th>\n",
       "      <th>full_twitter</th>\n",
       "    </tr>\n",
       "  </thead>\n",
       "  <tbody>\n",
       "    <tr>\n",
       "      <th>15</th>\n",
       "      <td>Alex Smith</td>\n",
       "      <td>NaN</td>\n",
       "      <td>Kansas City Chiefs</td>\n",
       "      <td>W</td>\n",
       "      <td>2017-09-17 18:00'</td>\n",
       "      <td>2017-09-17 22:00'</td>\n",
       "      <td>2017-09-24 21:25'</td>\n",
       "      <td>2017-09-25 01:25'</td>\n",
       "      <td>2017-10-03 01:30'</td>\n",
       "      <td>2017-10-03 05:30'</td>\n",
       "      <td>2017-10-09 01:30'</td>\n",
       "      <td>2017-10-09 05:30'</td>\n",
       "      <td>2017-10-15 21:25'</td>\n",
       "      <td>2017-10-16 01:25'</td>\n",
       "      <td>Alex Smith</td>\n",
       "    </tr>\n",
       "    <tr>\n",
       "      <th>16</th>\n",
       "      <td>Travis Kelce</td>\n",
       "      <td>@tkelce'</td>\n",
       "      <td>Kansas City Chiefs</td>\n",
       "      <td>W</td>\n",
       "      <td>2017-09-17 18:00'</td>\n",
       "      <td>2017-09-17 22:00'</td>\n",
       "      <td>2017-09-24 21:25'</td>\n",
       "      <td>2017-09-25 01:25'</td>\n",
       "      <td>2017-10-03 01:30'</td>\n",
       "      <td>2017-10-03 05:30'</td>\n",
       "      <td>2017-10-09 01:30'</td>\n",
       "      <td>2017-10-09 05:30'</td>\n",
       "      <td>2017-10-15 21:25'</td>\n",
       "      <td>2017-10-16 01:25'</td>\n",
       "      <td>Travis Kelce OR @tkelce'</td>\n",
       "    </tr>\n",
       "    <tr>\n",
       "      <th>17</th>\n",
       "      <td>Tyreek Hill</td>\n",
       "      <td>@cheetah'</td>\n",
       "      <td>Kansas City Chiefs</td>\n",
       "      <td>B</td>\n",
       "      <td>2017-09-17 18:00'</td>\n",
       "      <td>2017-09-17 22:00'</td>\n",
       "      <td>2017-09-24 21:25'</td>\n",
       "      <td>2017-09-25 01:25'</td>\n",
       "      <td>2017-10-03 01:30'</td>\n",
       "      <td>2017-10-03 05:30'</td>\n",
       "      <td>2017-10-09 01:30'</td>\n",
       "      <td>2017-10-09 05:30'</td>\n",
       "      <td>2017-10-15 21:25'</td>\n",
       "      <td>2017-10-16 01:25'</td>\n",
       "      <td>Tyreek Hill OR @cheetah'</td>\n",
       "    </tr>\n",
       "  </tbody>\n",
       "</table>\n",
       "</div>"
      ],
      "text/plain": [
       "            Name Twitter_handle                Team Race           T1_start  \\\n",
       "15    Alex Smith            NaN  Kansas City Chiefs    W  2017-09-17 18:00'   \n",
       "16  Travis Kelce       @tkelce'  Kansas City Chiefs    W  2017-09-17 18:00'   \n",
       "17   Tyreek Hill      @cheetah'  Kansas City Chiefs    B  2017-09-17 18:00'   \n",
       "\n",
       "               T1_end           T2_start             T2_end  \\\n",
       "15  2017-09-17 22:00'  2017-09-24 21:25'  2017-09-25 01:25'   \n",
       "16  2017-09-17 22:00'  2017-09-24 21:25'  2017-09-25 01:25'   \n",
       "17  2017-09-17 22:00'  2017-09-24 21:25'  2017-09-25 01:25'   \n",
       "\n",
       "             T3_start             T3_end           T4_start  \\\n",
       "15  2017-10-03 01:30'  2017-10-03 05:30'  2017-10-09 01:30'   \n",
       "16  2017-10-03 01:30'  2017-10-03 05:30'  2017-10-09 01:30'   \n",
       "17  2017-10-03 01:30'  2017-10-03 05:30'  2017-10-09 01:30'   \n",
       "\n",
       "               T4_end           T5_start             T5_end  \\\n",
       "15  2017-10-09 05:30'  2017-10-15 21:25'  2017-10-16 01:25'   \n",
       "16  2017-10-09 05:30'  2017-10-15 21:25'  2017-10-16 01:25'   \n",
       "17  2017-10-09 05:30'  2017-10-15 21:25'  2017-10-16 01:25'   \n",
       "\n",
       "                full_twitter  \n",
       "15                Alex Smith  \n",
       "16  Travis Kelce OR @tkelce'  \n",
       "17  Tyreek Hill OR @cheetah'  "
      ]
     },
     "execution_count": 55,
     "metadata": {},
     "output_type": "execute_result"
    }
   ],
   "source": [
    "data_t5_6"
   ]
  },
  {
   "cell_type": "code",
   "execution_count": null,
   "metadata": {},
   "outputs": [],
   "source": [
    "#getting tweets"
   ]
  },
  {
   "cell_type": "code",
   "execution_count": null,
   "metadata": {},
   "outputs": [],
   "source": [
    "data_t5_6_tweets = get_tweets(data_t5_6, start = 'T5_start', end = 'T5_end')"
   ]
  },
  {
   "cell_type": "code",
   "execution_count": null,
   "metadata": {},
   "outputs": [],
   "source": [
    "#saving at csv"
   ]
  },
  {
   "cell_type": "code",
   "execution_count": null,
   "metadata": {},
   "outputs": [],
   "source": [
    "data_t5_6_tweets.to_csv(\"~/Documents/nfl sentiment/final_data/tweets_t5_6.csv\", index = False)"
   ]
  },
  {
   "cell_type": "code",
   "execution_count": null,
   "metadata": {},
   "outputs": [],
   "source": []
  },
  {
   "cell_type": "code",
   "execution_count": null,
   "metadata": {},
   "outputs": [],
   "source": []
  },
  {
   "cell_type": "code",
   "execution_count": null,
   "metadata": {},
   "outputs": [],
   "source": [
    "####T5-7"
   ]
  },
  {
   "cell_type": "code",
   "execution_count": null,
   "metadata": {},
   "outputs": [],
   "source": []
  },
  {
   "cell_type": "code",
   "execution_count": null,
   "metadata": {},
   "outputs": [],
   "source": []
  },
  {
   "cell_type": "code",
   "execution_count": null,
   "metadata": {},
   "outputs": [],
   "source": [
    "#getting the data"
   ]
  },
  {
   "cell_type": "code",
   "execution_count": 54,
   "metadata": {},
   "outputs": [],
   "source": [
    "teams = [\"Cincinnati Bengals\"]\n",
    "data_t5_7 = get_data(teams)"
   ]
  },
  {
   "cell_type": "code",
   "execution_count": 55,
   "metadata": {
    "scrolled": true
   },
   "outputs": [
    {
     "data": {
      "text/html": [
       "<div>\n",
       "<style scoped>\n",
       "    .dataframe tbody tr th:only-of-type {\n",
       "        vertical-align: middle;\n",
       "    }\n",
       "\n",
       "    .dataframe tbody tr th {\n",
       "        vertical-align: top;\n",
       "    }\n",
       "\n",
       "    .dataframe thead th {\n",
       "        text-align: right;\n",
       "    }\n",
       "</style>\n",
       "<table border=\"1\" class=\"dataframe\">\n",
       "  <thead>\n",
       "    <tr style=\"text-align: right;\">\n",
       "      <th></th>\n",
       "      <th>Name</th>\n",
       "      <th>Twitter_handle</th>\n",
       "      <th>Team</th>\n",
       "      <th>Race</th>\n",
       "      <th>T1_start</th>\n",
       "      <th>T1_end</th>\n",
       "      <th>T2_start</th>\n",
       "      <th>T2_end</th>\n",
       "      <th>T3_start</th>\n",
       "      <th>T3_end</th>\n",
       "      <th>T4_start</th>\n",
       "      <th>T4_end</th>\n",
       "      <th>T5_start</th>\n",
       "      <th>T5_end</th>\n",
       "      <th>full_twitter</th>\n",
       "    </tr>\n",
       "  </thead>\n",
       "  <tbody>\n",
       "    <tr>\n",
       "      <th>15</th>\n",
       "      <td>Alex Smith</td>\n",
       "      <td>NaN</td>\n",
       "      <td>Kansas City Chiefs</td>\n",
       "      <td>W</td>\n",
       "      <td>2017-09-17 18:00'</td>\n",
       "      <td>2017-09-17 22:00'</td>\n",
       "      <td>2017-09-24 21:25'</td>\n",
       "      <td>2017-09-25 01:25'</td>\n",
       "      <td>2017-10-03 01:30'</td>\n",
       "      <td>2017-10-03 05:30'</td>\n",
       "      <td>2017-10-09 01:30'</td>\n",
       "      <td>2017-10-09 05:30'</td>\n",
       "      <td>2017-10-15 21:25'</td>\n",
       "      <td>2017-10-16 01:25'</td>\n",
       "      <td>Alex Smith</td>\n",
       "    </tr>\n",
       "    <tr>\n",
       "      <th>16</th>\n",
       "      <td>Travis Kelce</td>\n",
       "      <td>@tkelce'</td>\n",
       "      <td>Kansas City Chiefs</td>\n",
       "      <td>W</td>\n",
       "      <td>2017-09-17 18:00'</td>\n",
       "      <td>2017-09-17 22:00'</td>\n",
       "      <td>2017-09-24 21:25'</td>\n",
       "      <td>2017-09-25 01:25'</td>\n",
       "      <td>2017-10-03 01:30'</td>\n",
       "      <td>2017-10-03 05:30'</td>\n",
       "      <td>2017-10-09 01:30'</td>\n",
       "      <td>2017-10-09 05:30'</td>\n",
       "      <td>2017-10-15 21:25'</td>\n",
       "      <td>2017-10-16 01:25'</td>\n",
       "      <td>Travis Kelce OR @tkelce'</td>\n",
       "    </tr>\n",
       "    <tr>\n",
       "      <th>17</th>\n",
       "      <td>Tyreek Hill</td>\n",
       "      <td>@cheetah'</td>\n",
       "      <td>Kansas City Chiefs</td>\n",
       "      <td>B</td>\n",
       "      <td>2017-09-17 18:00'</td>\n",
       "      <td>2017-09-17 22:00'</td>\n",
       "      <td>2017-09-24 21:25'</td>\n",
       "      <td>2017-09-25 01:25'</td>\n",
       "      <td>2017-10-03 01:30'</td>\n",
       "      <td>2017-10-03 05:30'</td>\n",
       "      <td>2017-10-09 01:30'</td>\n",
       "      <td>2017-10-09 05:30'</td>\n",
       "      <td>2017-10-15 21:25'</td>\n",
       "      <td>2017-10-16 01:25'</td>\n",
       "      <td>Tyreek Hill OR @cheetah'</td>\n",
       "    </tr>\n",
       "  </tbody>\n",
       "</table>\n",
       "</div>"
      ],
      "text/plain": [
       "            Name Twitter_handle                Team Race           T1_start  \\\n",
       "15    Alex Smith            NaN  Kansas City Chiefs    W  2017-09-17 18:00'   \n",
       "16  Travis Kelce       @tkelce'  Kansas City Chiefs    W  2017-09-17 18:00'   \n",
       "17   Tyreek Hill      @cheetah'  Kansas City Chiefs    B  2017-09-17 18:00'   \n",
       "\n",
       "               T1_end           T2_start             T2_end  \\\n",
       "15  2017-09-17 22:00'  2017-09-24 21:25'  2017-09-25 01:25'   \n",
       "16  2017-09-17 22:00'  2017-09-24 21:25'  2017-09-25 01:25'   \n",
       "17  2017-09-17 22:00'  2017-09-24 21:25'  2017-09-25 01:25'   \n",
       "\n",
       "             T3_start             T3_end           T4_start  \\\n",
       "15  2017-10-03 01:30'  2017-10-03 05:30'  2017-10-09 01:30'   \n",
       "16  2017-10-03 01:30'  2017-10-03 05:30'  2017-10-09 01:30'   \n",
       "17  2017-10-03 01:30'  2017-10-03 05:30'  2017-10-09 01:30'   \n",
       "\n",
       "               T4_end           T5_start             T5_end  \\\n",
       "15  2017-10-09 05:30'  2017-10-15 21:25'  2017-10-16 01:25'   \n",
       "16  2017-10-09 05:30'  2017-10-15 21:25'  2017-10-16 01:25'   \n",
       "17  2017-10-09 05:30'  2017-10-15 21:25'  2017-10-16 01:25'   \n",
       "\n",
       "                full_twitter  \n",
       "15                Alex Smith  \n",
       "16  Travis Kelce OR @tkelce'  \n",
       "17  Tyreek Hill OR @cheetah'  "
      ]
     },
     "execution_count": 55,
     "metadata": {},
     "output_type": "execute_result"
    }
   ],
   "source": [
    "data_t5_7"
   ]
  },
  {
   "cell_type": "code",
   "execution_count": null,
   "metadata": {},
   "outputs": [],
   "source": [
    "#getting tweets"
   ]
  },
  {
   "cell_type": "code",
   "execution_count": null,
   "metadata": {},
   "outputs": [],
   "source": [
    "data_t5_7_tweets = get_tweets(data_t5_7, start = 'T5_start', end = 'T5_end')"
   ]
  },
  {
   "cell_type": "code",
   "execution_count": null,
   "metadata": {},
   "outputs": [],
   "source": [
    "#saving at csv"
   ]
  },
  {
   "cell_type": "code",
   "execution_count": null,
   "metadata": {},
   "outputs": [],
   "source": [
    "data_t5_7_tweets.to_csv(\"~/Documents/nfl sentiment/final_data/tweets_t5_7.csv\", index = False)"
   ]
  },
  {
   "cell_type": "code",
   "execution_count": null,
   "metadata": {},
   "outputs": [],
   "source": []
  },
  {
   "cell_type": "code",
   "execution_count": null,
   "metadata": {},
   "outputs": [],
   "source": [
    "#appending for T5"
   ]
  },
  {
   "cell_type": "code",
   "execution_count": null,
   "metadata": {},
   "outputs": [],
   "source": [
    "T5 = pd.concat([data_t5_1_tweets, data_t5_2_tweets, data_t5_3_tweets, data_t5_4_tweets, \n",
    "                data_t5_5_tweets, data_t5_6_tweets, data_t5_7_tweets])"
   ]
  },
  {
   "cell_type": "code",
   "execution_count": null,
   "metadata": {},
   "outputs": [],
   "source": [
    "T5.to_csv(\"~/Documents/nfl sentiment/final_data/tweets_t5_all.csv\", index = False)"
   ]
  }
 ],
 "metadata": {
  "kernelspec": {
   "display_name": "Python 3",
   "language": "python",
   "name": "python3"
  },
  "language_info": {
   "codemirror_mode": {
    "name": "ipython",
    "version": 3
   },
   "file_extension": ".py",
   "mimetype": "text/x-python",
   "name": "python",
   "nbconvert_exporter": "python",
   "pygments_lexer": "ipython3",
   "version": "3.7.2"
  }
 },
 "nbformat": 4,
 "nbformat_minor": 2
}
